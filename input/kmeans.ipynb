{
 "cells": [
  {
   "cell_type": "code",
   "execution_count": 32,
   "metadata": {},
   "outputs": [],
   "source": [
    "import pandas as pd\n",
    "import numpy as np\n",
    "import math\n",
    "from sklearn.cluster import KMeans\n",
    "import sklearn.preprocessing as preprocessing\n",
    "from sklearn.cluster import DBSCAN\n",
    "from sklearn import linear_model\n",
    "import scipy.interpolate as ip\n",
    "from sklearn.mixture import GaussianMixture\n",
    "import seaborn as sns\n",
    "import matplotlib.pyplot as plt"
   ]
  },
  {
   "cell_type": "code",
   "execution_count": 2,
   "metadata": {},
   "outputs": [
    {
     "data": {
      "text/plain": [
       "(5656458, 6)"
      ]
     },
     "execution_count": 2,
     "metadata": {},
     "output_type": "execute_result"
    }
   ],
   "source": [
    "data = pd.read_csv('Indicators.csv')\n",
    "data.shape"
   ]
  },
  {
   "cell_type": "code",
   "execution_count": 3,
   "metadata": {},
   "outputs": [
    {
     "data": {
      "text/html": [
       "<div>\n",
       "<style scoped>\n",
       "    .dataframe tbody tr th:only-of-type {\n",
       "        vertical-align: middle;\n",
       "    }\n",
       "\n",
       "    .dataframe tbody tr th {\n",
       "        vertical-align: top;\n",
       "    }\n",
       "\n",
       "    .dataframe thead th {\n",
       "        text-align: right;\n",
       "    }\n",
       "</style>\n",
       "<table border=\"1\" class=\"dataframe\">\n",
       "  <thead>\n",
       "    <tr style=\"text-align: right;\">\n",
       "      <th></th>\n",
       "      <th>CountryName</th>\n",
       "      <th>CountryCode</th>\n",
       "      <th>IndicatorName</th>\n",
       "      <th>IndicatorCode</th>\n",
       "      <th>Year</th>\n",
       "      <th>Value</th>\n",
       "    </tr>\n",
       "  </thead>\n",
       "  <tbody>\n",
       "    <tr>\n",
       "      <th>0</th>\n",
       "      <td>Arab World</td>\n",
       "      <td>ARB</td>\n",
       "      <td>Adolescent fertility rate (births per 1,000 wo...</td>\n",
       "      <td>SP.ADO.TFRT</td>\n",
       "      <td>1960</td>\n",
       "      <td>1.335609e+02</td>\n",
       "    </tr>\n",
       "    <tr>\n",
       "      <th>1</th>\n",
       "      <td>Arab World</td>\n",
       "      <td>ARB</td>\n",
       "      <td>Age dependency ratio (% of working-age populat...</td>\n",
       "      <td>SP.POP.DPND</td>\n",
       "      <td>1960</td>\n",
       "      <td>8.779760e+01</td>\n",
       "    </tr>\n",
       "    <tr>\n",
       "      <th>2</th>\n",
       "      <td>Arab World</td>\n",
       "      <td>ARB</td>\n",
       "      <td>Age dependency ratio, old (% of working-age po...</td>\n",
       "      <td>SP.POP.DPND.OL</td>\n",
       "      <td>1960</td>\n",
       "      <td>6.634579e+00</td>\n",
       "    </tr>\n",
       "    <tr>\n",
       "      <th>3</th>\n",
       "      <td>Arab World</td>\n",
       "      <td>ARB</td>\n",
       "      <td>Age dependency ratio, young (% of working-age ...</td>\n",
       "      <td>SP.POP.DPND.YG</td>\n",
       "      <td>1960</td>\n",
       "      <td>8.102333e+01</td>\n",
       "    </tr>\n",
       "    <tr>\n",
       "      <th>4</th>\n",
       "      <td>Arab World</td>\n",
       "      <td>ARB</td>\n",
       "      <td>Arms exports (SIPRI trend indicator values)</td>\n",
       "      <td>MS.MIL.XPRT.KD</td>\n",
       "      <td>1960</td>\n",
       "      <td>3.000000e+06</td>\n",
       "    </tr>\n",
       "  </tbody>\n",
       "</table>\n",
       "</div>"
      ],
      "text/plain": [
       "  CountryName CountryCode                                      IndicatorName  \\\n",
       "0  Arab World         ARB  Adolescent fertility rate (births per 1,000 wo...   \n",
       "1  Arab World         ARB  Age dependency ratio (% of working-age populat...   \n",
       "2  Arab World         ARB  Age dependency ratio, old (% of working-age po...   \n",
       "3  Arab World         ARB  Age dependency ratio, young (% of working-age ...   \n",
       "4  Arab World         ARB        Arms exports (SIPRI trend indicator values)   \n",
       "\n",
       "    IndicatorCode  Year         Value  \n",
       "0     SP.ADO.TFRT  1960  1.335609e+02  \n",
       "1     SP.POP.DPND  1960  8.779760e+01  \n",
       "2  SP.POP.DPND.OL  1960  6.634579e+00  \n",
       "3  SP.POP.DPND.YG  1960  8.102333e+01  \n",
       "4  MS.MIL.XPRT.KD  1960  3.000000e+06  "
      ]
     },
     "execution_count": 3,
     "metadata": {},
     "output_type": "execute_result"
    }
   ],
   "source": [
    "data.head()"
   ]
  },
  {
   "cell_type": "code",
   "execution_count": 4,
   "metadata": {},
   "outputs": [],
   "source": [
    "def corr(data, column):\n",
    "    data=data[(data['Year'] >= 2000) & (data['Year'] < 2014) ]\n",
    "    for i in data.columns:\n",
    "        if data.isna().sum()[i]/len(data) >=0.8:\n",
    "            data=data.drop(columns=[i])\n",
    "\n",
    "    rel_columns= []\n",
    "    rel_columns_7=[]\n",
    "    unique_name = data['IndicatorName'].unique()\n",
    "    for i in range(len(unique_name)):\n",
    "        #print(unique_name[i])\n",
    "        indicator = data[data['IndicatorName'] == unique_name[i]]\n",
    "        indicator.rename(columns={\"Value\": unique_name[i]}, inplace = True)\n",
    "        indicator=indicator.drop(columns=['IndicatorCode', 'IndicatorName', 'CountryName'])\n",
    "        merged = pd.merge(target, indicator)\n",
    "        corr=merged.corr()\n",
    "        if corr[\"Value\"][unique_name[i]] > 0.8 or corr[\"Value\"][unique_name[i]] < -0.8:\n",
    "            rel_columns.append(unique_name[i])\n",
    "        if corr['Value'][unique_name[i]] > 0.7 or corr[\"Value\"][unique_name[i]] < -0.7:\n",
    "            rel_columns_7.append(unique_name[i])\n",
    "    return rel_columns, rel_columns_7"
   ]
  },
  {
   "cell_type": "code",
   "execution_count": 5,
   "metadata": {},
   "outputs": [],
   "source": [
    "#일단 이렇게 되는데, 나중에 주석 풀고 하는게 나을듯\n",
    "#rel_columns_8,rel_columns_7=corr(data2000)"
   ]
  },
  {
   "cell_type": "code",
   "execution_count": 6,
   "metadata": {},
   "outputs": [],
   "source": [
    "# 여기서부터 관련도 높은 feature 뽑는 것\n",
    "target_id = 'Adolescent fertility rate (births per 1,000 women ages 15-19)';\n",
    "\n",
    "target = data[data['IndicatorName']==target_id]"
   ]
  },
  {
   "cell_type": "code",
   "execution_count": 7,
   "metadata": {},
   "outputs": [],
   "source": [
    "rel_columns_8 = ['Adolescent fertility rate (births per 1,000 women ages 15-19)',\n",
    " 'Birth rate, crude (per 1,000 people)',\n",
    " 'Net enrolment rate, secondary, both sexes (%)',\n",
    " 'Net enrolment rate, secondary, female (%)',\n",
    " 'Net enrolment rate, secondary, male (%)',\n",
    " 'Teenage mothers (% of women ages 15-19 who have had children or are currently pregnant)',\n",
    " 'Mortality rate, under-5, female (per 1,000 live births)',\n",
    " 'Mortality rate, under-5, male (per 1,000 live births)',\n",
    " 'Prevalence of anemia among children (% of children under 5)',\n",
    " 'Cause of death, by communicable diseases and maternal, prenatal and nutrition conditions (% of total)',\n",
    " 'Cause of death, by non-communicable diseases (% of total)',\n",
    " 'Survey mean consumption or income per capita, bottom 40% of population (2005 PPP $ per day)',\n",
    " 'Survey mean consumption or income per capita, total population (2005 PPP $ per day)']"
   ]
  },
  {
   "cell_type": "code",
   "execution_count": 8,
   "metadata": {},
   "outputs": [],
   "source": [
    "rel_columns_7 = ['Adolescent fertility rate (births per 1,000 women ages 15-19)',\n",
    " 'Age dependency ratio (% of working-age population)',\n",
    " 'Age dependency ratio, young (% of working-age population)',\n",
    " 'Birth rate, crude (per 1,000 people)',\n",
    " 'Fertility rate, total (births per woman)',\n",
    " 'Life expectancy at birth, female (years)',\n",
    " 'Life expectancy at birth, male (years)',\n",
    " 'Life expectancy at birth, total (years)',\n",
    " 'Mortality rate, adult, female (per 1,000 female adults)',\n",
    " 'Mortality rate, infant (per 1,000 live births)',\n",
    " 'Mortality rate, under-5 (per 1,000)',\n",
    " 'Population, ages 0-14 (% of total)',\n",
    " 'Population, ages 15-64 (% of total)',\n",
    " 'Survival to age 65, female (% of cohort)',\n",
    " 'Survival to age 65, male (% of cohort)',\n",
    " 'Adjusted net enrolment rate, primary, both sexes (%)',\n",
    " 'Adjusted net enrolment rate, primary, female (%)',\n",
    " 'Gross enrolment ratio, secondary, both sexes (%)',\n",
    " 'Gross enrolment ratio, secondary, female (%)',\n",
    " 'Gross enrolment ratio, secondary, male (%)',\n",
    " 'Lower secondary completion rate, both sexes (%)',\n",
    " 'Net enrolment rate, secondary, both sexes (%)',\n",
    " 'Net enrolment rate, secondary, female (%)',\n",
    " 'Net enrolment rate, secondary, male (%)',\n",
    " 'Primary completion rate, both sexes (%)',\n",
    " 'Primary completion rate, female (%)',\n",
    " 'Survival rate to the last grade of primary education, both sexes (%)',\n",
    " 'Lower secondary completion rate, female (%)',\n",
    " 'Lower secondary completion rate, male (%)',\n",
    " 'Survival rate to the last grade of primary education, female (%)',\n",
    " 'Survival rate to the last grade of primary education, male (%)',\n",
    " 'Survival rate to Grade 5 of primary education, female (%)',\n",
    " 'Youth literacy rate, population 15-24 years, both sexes (%)',\n",
    " 'Youth literacy rate, population 15-24 years, male (%)',\n",
    " 'Teenage mothers (% of women ages 15-19 who have had children or are currently pregnant)',\n",
    " 'Wanted fertility rate (births per woman)',\n",
    " 'Access to electricity (% of population)',\n",
    " 'Access to electricity, rural (% of rural population)',\n",
    " 'Improved sanitation facilities (% of population with access)',\n",
    " 'Improved sanitation facilities, rural (% of rural population with access)',\n",
    " 'Improved sanitation facilities, urban (% of urban population with access)',\n",
    " 'Improved water source (% of population with access)',\n",
    " 'Improved water source, rural (% of rural population with access)',\n",
    " 'Lifetime risk of maternal death (%)',\n",
    " 'Maternal mortality ratio (modeled estimate, per 100,000 live births)',\n",
    " 'Mortality rate, infant, female (per 1,000 live births)',\n",
    " 'Mortality rate, infant, male (per 1,000 live births)',\n",
    " 'Mortality rate, neonatal (per 1,000 live births)',\n",
    " 'Mortality rate, under-5, female (per 1,000 live births)',\n",
    " 'Mortality rate, under-5, male (per 1,000 live births)',\n",
    " 'Prevalence of anemia among children (% of children under 5)',\n",
    " 'Prevalence of anemia among pregnant women (%)',\n",
    " 'Renewable energy consumption (% of total final energy consumption)',\n",
    " 'Cause of death, by communicable diseases and maternal, prenatal and nutrition conditions (% of total)',\n",
    " 'Cause of death, by non-communicable diseases (% of total)',\n",
    " 'Survey mean consumption or income per capita, bottom 40% of population (2005 PPP $ per day)',\n",
    " 'Survey mean consumption or income per capita, total population (2005 PPP $ per day)']"
   ]
  },
  {
   "cell_type": "code",
   "execution_count": 9,
   "metadata": {},
   "outputs": [],
   "source": [
    "# 해당하는 indicator해서 그 데이터 프레임 사용하기 편하게 바꿔주는거 \n",
    "def transformDf(d, ind, tf):\n",
    "    data2000=d[(d['Year'] >= 2006) & (d['Year'] < 2014) ]\n",
    "    \n",
    "    \n",
    "    if tf==True:\n",
    "        \n",
    "        col8 = data2000[(data2000['IndicatorName'].isin(ind))]\n",
    "        col8=col8.reset_index(drop=True)\n",
    "        \n",
    "    else:\n",
    "        col8 = data2000[data2000['IndicatorName']==ind]\n",
    "        col8=col8.reset_index(drop=True)\n",
    "    \n",
    "    name_list = list()\n",
    "\n",
    "    for i in col8.index:\n",
    "        name_list.append( col8.loc[i,'CountryName'] + \"_\" + str(col8.loc[i,'Year']))\n",
    "    col8[\"name\"] = name_list\n",
    "\n",
    "    col8=col8.pivot_table(values=\"Value\",index=\"name\",columns=[\"IndicatorName\"] )\n",
    "\n",
    "    if tf==True:\n",
    "        col8=col8.dropna(subset=[target_id])\n",
    "    return col8\n",
    "    \n",
    "    "
   ]
  },
  {
   "cell_type": "code",
   "execution_count": 10,
   "metadata": {},
   "outputs": [],
   "source": [
    "df=transformDf(data,rel_columns_8,True)"
   ]
  },
  {
   "cell_type": "code",
   "execution_count": 11,
   "metadata": {},
   "outputs": [],
   "source": [
    "\n",
    "def make_grade(merged, k):\n",
    "    min_value = min(merged[target_id])\n",
    "    max_value = max(merged[target_id])\n",
    "    value=(max_value-min_value)/k\n",
    "    for i in range(k):\n",
    "        for j in merged.index:\n",
    "            if merged.loc[j, target_id] >=min_value + value*i and merged.loc[j, target_id] <= min_value + value*(i+1):\n",
    "                merged.loc[j, 'grade'] = i\n",
    "    return merged\n"
   ]
  },
  {
   "cell_type": "code",
   "execution_count": 12,
   "metadata": {},
   "outputs": [],
   "source": [
    "def preprocessingMissing(df):\n",
    "    \n",
    "    #전체 개수랑 null 값이 비슷 하게 나오는 경우에는 그냥 아예 그 컬럼을 안쓰는게 나을 거 가음\n",
    "    for i in df.columns:\n",
    "        if df.isna().sum()[i]/len(df) >=0.7:\n",
    "            df=df.drop(columns=[i])\n",
    "            \n",
    "    data_inter=pd.DataFrame(data=df.values,index=range(len(df)))\n",
    "    data_inter=data_inter.interpolate(method='index' ,limit_direction=\"both\")\n",
    "    df=pd.DataFrame(data=data_inter.values,index=df.index, columns=df.columns)\n",
    "\n",
    "\n",
    "    return df\n",
    "        "
   ]
  },
  {
   "cell_type": "code",
   "execution_count": 13,
   "metadata": {},
   "outputs": [],
   "source": [
    "df1=preprocessingMissing(df)\n"
   ]
  },
  {
   "cell_type": "code",
   "execution_count": 14,
   "metadata": {},
   "outputs": [],
   "source": [
    "# cleansing dataset\n",
    "def robust(X):\n",
    "    # cleansing missing data\n",
    "    X.dropna(axis=0, thresh=1, inplace=True)\n",
    "    # cleansing outliers\n",
    "    robust = preprocessing.RobustScaler().fit(X)\n",
    "\n",
    "    X_robust = robust.transform(X)\n",
    "    X_robust = pd.DataFrame(X, columns=X.columns, index=list(X.index.values))\n",
    "    return X_robust"
   ]
  },
  {
   "cell_type": "code",
   "execution_count": 15,
   "metadata": {},
   "outputs": [],
   "source": [
    "# scaling data (MinMaxScaler)\n",
    "def minmax(X):\n",
    "    scaler = preprocessing.MinMaxScaler()\n",
    "    fit = scaler.fit(X)\n",
    "\n",
    "    X_scaled = scaler.transform(X)\n",
    "    X_scaled = pd.DataFrame(X_scaled, columns=X.columns, index=list(X.index.values))\n",
    "    return X_scaled"
   ]
  },
  {
   "cell_type": "code",
   "execution_count": 16,
   "metadata": {},
   "outputs": [],
   "source": [
    "# scaling data (MinMaxScaler)\n",
    "def standard(X):\n",
    "    scaler = preprocessing.StandardScaler()\n",
    "    fit = scaler.fit(X)\n",
    "\n",
    "    X_scaled = scaler.transform(X)\n",
    "    X_scaled = pd.DataFrame(X_scaled, columns=X.columns, index=list(X.index.values))\n",
    "    return X_scaled\n"
   ]
  },
  {
   "cell_type": "code",
   "execution_count": 17,
   "metadata": {},
   "outputs": [],
   "source": [
    "def fillnaX(X):\n",
    "    for i in X.columns:\n",
    "        df[i] = df[i].fillna(df[i].mean())\n",
    "    return X                     "
   ]
  },
  {
   "cell_type": "code",
   "execution_count": 53,
   "metadata": {},
   "outputs": [],
   "source": [
    "#나중에 dbscan이나 EM 도 한파일에 있어야되서 함수 명 바꿧어\n",
    "def runKMeans(df, k,max_iter, n_init):\n",
    "    \n",
    "    df=make_grade(df,k)\n",
    "    kmeans= KMeans(algorithm='auto', copy_x=True, init='k-means++', max_iter=max_iter, \n",
    "               n_clusters=k, n_init=n_init, n_jobs=1, precompute_distances='auto', \n",
    "               random_state=None, tol=0.0001, verbose=0)\n",
    "    \n",
    "    X= df.drop(['grade',target_id], 1)\n",
    "    #일단은 다 dropna 처리\n",
    "    X=X.dropna()\n",
    "    y=df['grade']\n",
    "\n",
    "    kmeans.fit(X)\n",
    "    predict=kmeans.predict(X)\n",
    "    scatter_plot(df, predict)\n",
    "    return calcAccuracy(predict, X,y)"
   ]
  },
  {
   "cell_type": "code",
   "execution_count": 19,
   "metadata": {},
   "outputs": [],
   "source": [
    "\n",
    "def calcAccuracy(y_pred, x,y):\n",
    "    '''\n",
    "    print accuracy of prediction\n",
    "    '''\n",
    "    correct=0\n",
    "    for i in range(len(x)):\n",
    "        \n",
    "        #predict_me= np.array(x[i].astype(float))\n",
    "        #predict_me = predict_me.reshape(-1, len(predict_me))\n",
    "        #prediction = kmeans.predict(predict_me)\n",
    "        #여기서는 predict 값을 넘겨서 [i]로 해야돼\n",
    "        if y_pred[i] == y[i]:\n",
    "            correct += 1\n",
    "    print(correct/len(x))\n"
   ]
  },
  {
   "cell_type": "code",
   "execution_count": 95,
   "metadata": {},
   "outputs": [],
   "source": [
    "def runDBSCAN(df,eps, min_samples, metric):\n",
    "    \n",
    "    df=make_grade(df,min_samples)\n",
    "    X=df.drop(columns=['grade',target_id])\n",
    "    y=df['grade']\n",
    "    \n",
    "    \"\"\"\n",
    "    X=df.drop(columns=[target_id])\n",
    "    y=df[target_id]\n",
    "    \"\"\"\n",
    "    \n",
    "    \"\"\"\n",
    "    X = robust(X)\n",
    "    X= fillnaX(X)\n",
    "    \"\"\"\n",
    "    db = DBSCAN(eps = eps, min_samples = min_samples, metric= metric).fit(X) \n",
    "\n",
    "    cluster_labels = db.labels_\n",
    "    n_clusters = len(set(cluster_labels))\n",
    "    print(cluster_labels)\n",
    "    scatter_plot(df, cluster_labels)\n",
    "    \n",
    "    return calcAccuracy(cluster_labels, X,y)"
   ]
  },
  {
   "cell_type": "code",
   "execution_count": 102,
   "metadata": {},
   "outputs": [],
   "source": [
    "def runGMM(df, k):\n",
    "    df=make_grade(df,k)\n",
    "\n",
    "    X = df.drop(columns=[target_id])\n",
    "    y=df['grade']\n",
    "    \n",
    "   \n",
    "    #X= fillnaX(X)\n",
    "    gmm = GaussianMixture(n_components=k)\n",
    "    gmm.fit(X)\n",
    "\n",
    "    y_cluster_gmm = gmm.predict(X)\n",
    "    scatter_plot(df, y_cluster_gmm)\n",
    "\n",
    "    return calcAccuracy(y_cluster_gmm, X, y)"
   ]
  },
  {
   "cell_type": "code",
   "execution_count": 27,
   "metadata": {
    "scrolled": true
   },
   "outputs": [],
   "source": [
    "df=transformDf(data,rel_columns_8,True)\n",
    "df=preprocessingMissing(df)"
   ]
  },
  {
   "cell_type": "code",
   "execution_count": 55,
   "metadata": {},
   "outputs": [
    {
     "name": "stdout",
     "output_type": "stream",
     "text": [
      "[1 1 1 ... 1 1 1]\n",
      "name\n",
      "Afghanistan_2006    1.0\n",
      "Afghanistan_2007    1.0\n",
      "Afghanistan_2008    1.0\n",
      "Afghanistan_2009    0.0\n",
      "Afghanistan_2010    0.0\n",
      "                   ... \n",
      "Zimbabwe_2009       1.0\n",
      "Zimbabwe_2010       1.0\n",
      "Zimbabwe_2011       1.0\n",
      "Zimbabwe_2012       1.0\n",
      "Zimbabwe_2013       1.0\n",
      "Name: grade, Length: 1816, dtype: float64\n"
     ]
    },
    {
     "data": {
      "image/png": "[encoded data removed]",
      "text/plain": [
       "<Figure size 432x288 with 1 Axes>"
      ]
     },
     "metadata": {
      "needs_background": "light"
     },
     "output_type": "display_data"
    },
    {
     "name": "stdout",
     "output_type": "stream",
     "text": [
      "0.7384361233480177\n"
     ]
    }
   ],
   "source": [
    "runKMeans(df,2,600,20)"
   ]
  },
  {
   "cell_type": "code",
   "execution_count": 24,
   "metadata": {},
   "outputs": [],
   "source": [
    "eps=[10, 20, 30, 40, 50 ]\n",
    "min_samples=[ 3, 5, 10, 15, 20, 30, 50, 100 ]\n",
    "dis_measure = ['euclidean', 'hamming']"
   ]
  },
  {
   "cell_type": "code",
   "execution_count": 101,
   "metadata": {},
   "outputs": [
    {
     "name": "stdout",
     "output_type": "stream",
     "text": [
      "[0 0 0 ... 0 0 0]\n"
     ]
    },
    {
     "data": {
      "image/png": "[encoded data removed]",
      "text/plain": [
       "<Figure size 432x288 with 1 Axes>"
      ]
     },
     "metadata": {
      "needs_background": "light"
     },
     "output_type": "display_data"
    },
    {
     "name": "stdout",
     "output_type": "stream",
     "text": [
      "0.30837004405286345\n"
     ]
    }
   ],
   "source": [
    "runDBSCAN(df,50,10,'euclidean')"
   ]
  },
  {
   "cell_type": "code",
   "execution_count": 105,
   "metadata": {},
   "outputs": [
    {
     "data": {
      "image/png": "[encoded data removed]",
      "text/plain": [
       "<Figure size 432x288 with 1 Axes>"
      ]
     },
     "metadata": {
      "needs_background": "light"
     },
     "output_type": "display_data"
    },
    {
     "name": "stdout",
     "output_type": "stream",
     "text": [
      "0.7290748898678414\n"
     ]
    }
   ],
   "source": [
    "runGMM(df, 3)"
   ]
  },
  {
   "cell_type": "code",
   "execution_count": 27,
   "metadata": {},
   "outputs": [
    {
     "data": {
      "text/plain": [
       "'\\n선택지\\n1. rel_columns_8 or 7\\n2. 몇개 미만이면 제외할지\\n3. kmeans parameter\\n'"
      ]
     },
     "execution_count": 27,
     "metadata": {},
     "output_type": "execute_result"
    }
   ],
   "source": [
    "'''\n",
    "선택지\n",
    "1. rel_columns_8 or 7\n",
    "2. 몇개 미만이면 제외할지\n",
    "3. kmeans parameter\n",
    "'''"
   ]
  },
  {
   "cell_type": "code",
   "execution_count": 184,
   "metadata": {},
   "outputs": [],
   "source": [
    "def scatter_plot(df, predict):\n",
    "    plt.figure(figsize=(15,5))\n",
    "    for i in range(len(set(predict))):\n",
    "        value = []\n",
    "        for j in range(len(df)):\n",
    "            if predict[j] == i:\n",
    "                value.append(df.iloc[j][target_id])\n",
    "        grade = [i]*len(value)\n",
    "        sns.scatterplot(value, grade, alpha=0.3)\n",
    "    plt.show()\n"
   ]
  },
  {
   "cell_type": "code",
   "execution_count": 185,
   "metadata": {},
   "outputs": [
    {
     "data": {
      "image/png": "[encoded data removed]",
      "text/plain": [
       "<Figure size 1080x360 with 1 Axes>"
      ]
     },
     "metadata": {
      "needs_background": "light"
     },
     "output_type": "display_data"
    },
    {
     "name": "stdout",
     "output_type": "stream",
     "text": [
      "0.7384361233480177\n"
     ]
    }
   ],
   "source": [
    "runKMeans(df,2,600,30)"
   ]
  },
  {
   "cell_type": "code",
   "execution_count": 186,
   "metadata": {},
   "outputs": [
    {
     "data": {
      "image/png": "[encoded data removed]",
      "text/plain": [
       "<Figure size 1080x360 with 1 Axes>"
      ]
     },
     "metadata": {
      "needs_background": "light"
     },
     "output_type": "display_data"
    },
    {
     "name": "stdout",
     "output_type": "stream",
     "text": [
      "0.5748898678414097\n"
     ]
    }
   ],
   "source": [
    "runKMeans(df,3,600,30)"
   ]
  },
  {
   "cell_type": "code",
   "execution_count": 187,
   "metadata": {},
   "outputs": [
    {
     "name": "stdout",
     "output_type": "stream",
     "text": [
      "[0 0 0 ... 0 0 0]\n"
     ]
    },
    {
     "data": {
      "image/png": "[encoded data removed]",
      "text/plain": [
       "<Figure size 1080x360 with 1 Axes>"
      ]
     },
     "metadata": {
      "needs_background": "light"
     },
     "output_type": "display_data"
    },
    {
     "name": "stdout",
     "output_type": "stream",
     "text": [
      "0.30837004405286345\n"
     ]
    }
   ],
   "source": [
    "runDBSCAN(df,50,10,'euclidean')"
   ]
  },
  {
   "cell_type": "code",
   "execution_count": 188,
   "metadata": {},
   "outputs": [
    {
     "data": {
      "image/png": "[encoded data removed]",
      "text/plain": [
       "<Figure size 1080x360 with 1 Axes>"
      ]
     },
     "metadata": {
      "needs_background": "light"
     },
     "output_type": "display_data"
    },
    {
     "name": "stdout",
     "output_type": "stream",
     "text": [
      "0.7290748898678414\n"
     ]
    }
   ],
   "source": [
    "runGMM(df, 3)"
   ]
  }
 ],
 "metadata": {
  "kernelspec": {
   "display_name": "Python 3",
   "language": "python",
   "name": "python3"
  },
  "language_info": {
   "codemirror_mode": {
    "name": "ipython",
    "version": 3
   },
   "file_extension": ".py",
   "mimetype": "text/x-python",
   "name": "python",
   "nbconvert_exporter": "python",
   "pygments_lexer": "ipython3",
   "version": "3.7.4"
  }
 },
 "nbformat": 4,
 "nbformat_minor": 2
}
