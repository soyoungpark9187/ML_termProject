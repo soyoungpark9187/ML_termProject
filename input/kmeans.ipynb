{
 "cells": [
  {
   "cell_type": "code",
   "execution_count": 1,
   "metadata": {},
   "outputs": [],
   "source": [
    "import pandas as pd\n",
    "import numpy as np\n",
    "import math\n",
    "from sklearn.cluster import KMeans\n",
    "import sklearn.preprocessing as preprocessing\n"
   ]
  },
  {
   "cell_type": "code",
   "execution_count": 2,
   "metadata": {},
   "outputs": [
    {
     "data": {
      "text/plain": [
       "(5656458, 6)"
      ]
     },
     "execution_count": 2,
     "metadata": {},
     "output_type": "execute_result"
    }
   ],
   "source": [
    "data = pd.read_csv('Indicators.csv')\n",
    "data.shape"
   ]
  },
  {
   "cell_type": "code",
   "execution_count": 60,
   "metadata": {},
   "outputs": [
    {
     "data": {
      "text/html": [
       "<div>\n",
       "<style scoped>\n",
       "    .dataframe tbody tr th:only-of-type {\n",
       "        vertical-align: middle;\n",
       "    }\n",
       "\n",
       "    .dataframe tbody tr th {\n",
       "        vertical-align: top;\n",
       "    }\n",
       "\n",
       "    .dataframe thead th {\n",
       "        text-align: right;\n",
       "    }\n",
       "</style>\n",
       "<table border=\"1\" class=\"dataframe\">\n",
       "  <thead>\n",
       "    <tr style=\"text-align: right;\">\n",
       "      <th></th>\n",
       "      <th>CountryName</th>\n",
       "      <th>CountryCode</th>\n",
       "      <th>IndicatorName</th>\n",
       "      <th>IndicatorCode</th>\n",
       "      <th>Year</th>\n",
       "      <th>Value</th>\n",
       "      <th>name</th>\n",
       "    </tr>\n",
       "  </thead>\n",
       "  <tbody>\n",
       "    <tr>\n",
       "      <th>0</th>\n",
       "      <td>Arab World</td>\n",
       "      <td>ARB</td>\n",
       "      <td>Adolescent fertility rate (births per 1,000 wo...</td>\n",
       "      <td>SP.ADO.TFRT</td>\n",
       "      <td>2000</td>\n",
       "      <td>53.829472</td>\n",
       "      <td>Arab World_2000</td>\n",
       "    </tr>\n",
       "    <tr>\n",
       "      <th>1</th>\n",
       "      <td>Arab World</td>\n",
       "      <td>ARB</td>\n",
       "      <td>Birth rate, crude (per 1,000 people)</td>\n",
       "      <td>SP.DYN.CBRT.IN</td>\n",
       "      <td>2000</td>\n",
       "      <td>28.282837</td>\n",
       "      <td>Arab World_2000</td>\n",
       "    </tr>\n",
       "    <tr>\n",
       "      <th>2</th>\n",
       "      <td>Arab World</td>\n",
       "      <td>ARB</td>\n",
       "      <td>Cause of death, by communicable diseases and m...</td>\n",
       "      <td>SH.DTH.COMM.ZS</td>\n",
       "      <td>2000</td>\n",
       "      <td>34.960297</td>\n",
       "      <td>Arab World_2000</td>\n",
       "    </tr>\n",
       "    <tr>\n",
       "      <th>3</th>\n",
       "      <td>Arab World</td>\n",
       "      <td>ARB</td>\n",
       "      <td>Cause of death, by non-communicable diseases (...</td>\n",
       "      <td>SH.DTH.NCOM.ZS</td>\n",
       "      <td>2000</td>\n",
       "      <td>56.536043</td>\n",
       "      <td>Arab World_2000</td>\n",
       "    </tr>\n",
       "    <tr>\n",
       "      <th>4</th>\n",
       "      <td>Arab World</td>\n",
       "      <td>ARB</td>\n",
       "      <td>Mortality rate, under-5, female (per 1,000 liv...</td>\n",
       "      <td>SH.DYN.MORT.FE</td>\n",
       "      <td>2000</td>\n",
       "      <td>56.807549</td>\n",
       "      <td>Arab World_2000</td>\n",
       "    </tr>\n",
       "  </tbody>\n",
       "</table>\n",
       "</div>"
      ],
      "text/plain": [
       "  CountryName CountryCode                                      IndicatorName  \\\n",
       "0  Arab World         ARB  Adolescent fertility rate (births per 1,000 wo...   \n",
       "1  Arab World         ARB               Birth rate, crude (per 1,000 people)   \n",
       "2  Arab World         ARB  Cause of death, by communicable diseases and m...   \n",
       "3  Arab World         ARB  Cause of death, by non-communicable diseases (...   \n",
       "4  Arab World         ARB  Mortality rate, under-5, female (per 1,000 liv...   \n",
       "\n",
       "    IndicatorCode  Year      Value             name  \n",
       "0     SP.ADO.TFRT  2000  53.829472  Arab World_2000  \n",
       "1  SP.DYN.CBRT.IN  2000  28.282837  Arab World_2000  \n",
       "2  SH.DTH.COMM.ZS  2000  34.960297  Arab World_2000  \n",
       "3  SH.DTH.NCOM.ZS  2000  56.536043  Arab World_2000  \n",
       "4  SH.DYN.MORT.FE  2000  56.807549  Arab World_2000  "
      ]
     },
     "execution_count": 60,
     "metadata": {},
     "output_type": "execute_result"
    }
   ],
   "source": [
    "data.head()"
   ]
  },
  {
   "cell_type": "code",
   "execution_count": 94,
   "metadata": {},
   "outputs": [],
   "source": [
    "# 여기서부터 관련도 높은 feature 뽑는 것\n",
    "target_id = 'Adolescent fertility rate (births per 1,000 women ages 15-19)';\n",
    "\n",
    "target = data[data['IndicatorName']==target_id]"
   ]
  },
  {
   "cell_type": "code",
   "execution_count": 6,
   "metadata": {},
   "outputs": [],
   "source": [
    "rel_columns_8 = ['Adolescent fertility rate (births per 1,000 women ages 15-19)',\n",
    " 'Birth rate, crude (per 1,000 people)',\n",
    " 'Net enrolment rate, secondary, both sexes (%)',\n",
    " 'Net enrolment rate, secondary, female (%)',\n",
    " 'Net enrolment rate, secondary, male (%)',\n",
    " 'Teenage mothers (% of women ages 15-19 who have had children or are currently pregnant)',\n",
    " 'Mortality rate, under-5, female (per 1,000 live births)',\n",
    " 'Mortality rate, under-5, male (per 1,000 live births)',\n",
    " 'Prevalence of anemia among children (% of children under 5)',\n",
    " 'Cause of death, by communicable diseases and maternal, prenatal and nutrition conditions (% of total)',\n",
    " 'Cause of death, by non-communicable diseases (% of total)',\n",
    " 'Survey mean consumption or income per capita, bottom 40% of population (2005 PPP $ per day)',\n",
    " 'Survey mean consumption or income per capita, total population (2005 PPP $ per day)']"
   ]
  },
  {
   "cell_type": "code",
   "execution_count": 7,
   "metadata": {},
   "outputs": [],
   "source": [
    "rel_columns_7 = ['Adolescent fertility rate (births per 1,000 women ages 15-19)',\n",
    " 'Age dependency ratio (% of working-age population)',\n",
    " 'Age dependency ratio, young (% of working-age population)',\n",
    " 'Birth rate, crude (per 1,000 people)',\n",
    " 'Fertility rate, total (births per woman)',\n",
    " 'Life expectancy at birth, female (years)',\n",
    " 'Life expectancy at birth, male (years)',\n",
    " 'Life expectancy at birth, total (years)',\n",
    " 'Mortality rate, adult, female (per 1,000 female adults)',\n",
    " 'Mortality rate, infant (per 1,000 live births)',\n",
    " 'Mortality rate, under-5 (per 1,000)',\n",
    " 'Population, ages 0-14 (% of total)',\n",
    " 'Population, ages 15-64 (% of total)',\n",
    " 'Survival to age 65, female (% of cohort)',\n",
    " 'Survival to age 65, male (% of cohort)',\n",
    " 'Adjusted net enrolment rate, primary, both sexes (%)',\n",
    " 'Adjusted net enrolment rate, primary, female (%)',\n",
    " 'Gross enrolment ratio, secondary, both sexes (%)',\n",
    " 'Gross enrolment ratio, secondary, female (%)',\n",
    " 'Gross enrolment ratio, secondary, male (%)',\n",
    " 'Lower secondary completion rate, both sexes (%)',\n",
    " 'Net enrolment rate, secondary, both sexes (%)',\n",
    " 'Net enrolment rate, secondary, female (%)',\n",
    " 'Net enrolment rate, secondary, male (%)',\n",
    " 'Primary completion rate, both sexes (%)',\n",
    " 'Primary completion rate, female (%)',\n",
    " 'Survival rate to the last grade of primary education, both sexes (%)',\n",
    " 'Lower secondary completion rate, female (%)',\n",
    " 'Lower secondary completion rate, male (%)',\n",
    " 'Survival rate to the last grade of primary education, female (%)',\n",
    " 'Survival rate to the last grade of primary education, male (%)',\n",
    " 'Survival rate to Grade 5 of primary education, female (%)',\n",
    " 'Youth literacy rate, population 15-24 years, both sexes (%)',\n",
    " 'Youth literacy rate, population 15-24 years, male (%)',\n",
    " 'Teenage mothers (% of women ages 15-19 who have had children or are currently pregnant)',\n",
    " 'Wanted fertility rate (births per woman)',\n",
    " 'Access to electricity (% of population)',\n",
    " 'Access to electricity, rural (% of rural population)',\n",
    " 'Improved sanitation facilities (% of population with access)',\n",
    " 'Improved sanitation facilities, rural (% of rural population with access)',\n",
    " 'Improved sanitation facilities, urban (% of urban population with access)',\n",
    " 'Improved water source (% of population with access)',\n",
    " 'Improved water source, rural (% of rural population with access)',\n",
    " 'Lifetime risk of maternal death (%)',\n",
    " 'Maternal mortality ratio (modeled estimate, per 100,000 live births)',\n",
    " 'Mortality rate, infant, female (per 1,000 live births)',\n",
    " 'Mortality rate, infant, male (per 1,000 live births)',\n",
    " 'Mortality rate, neonatal (per 1,000 live births)',\n",
    " 'Mortality rate, under-5, female (per 1,000 live births)',\n",
    " 'Mortality rate, under-5, male (per 1,000 live births)',\n",
    " 'Prevalence of anemia among children (% of children under 5)',\n",
    " 'Prevalence of anemia among pregnant women (%)',\n",
    " 'Renewable energy consumption (% of total final energy consumption)',\n",
    " 'Cause of death, by communicable diseases and maternal, prenatal and nutrition conditions (% of total)',\n",
    " 'Cause of death, by non-communicable diseases (% of total)',\n",
    " 'Survey mean consumption or income per capita, bottom 40% of population (2005 PPP $ per day)',\n",
    " 'Survey mean consumption or income per capita, total population (2005 PPP $ per day)']"
   ]
  },
  {
   "cell_type": "code",
   "execution_count": 84,
   "metadata": {},
   "outputs": [],
   "source": [
    "# 해당하는 indicator해서 그 데이터 프레임 사용하기 편하게 바꿔주는거 \n",
    "def transformDf(data, ind):\n",
    "    data2000=data[(data['Year'] >= 2000) & (data['Year'] < 2015) ]\n",
    "    col8 = data2000[(data2000['IndicatorName'].isin(ind))]\n",
    "    col8=col8.reset_index(drop=True)\n",
    "    \n",
    "    name_list = list()\n",
    "\n",
    "    for i in col8.index:\n",
    "        name_list.append( col8.loc[i,'CountryName'] + \"_\" + str(col8.loc[i,'Year']))\n",
    "    col8[\"name\"] = name_list\n",
    "    col8=col8.pivot_table(values=\"Value\",index=\"name\",columns=\"IndicatorName\")\n",
    "    return col8\n",
    "\n",
    "    "
   ]
  },
  {
   "cell_type": "code",
   "execution_count": 101,
   "metadata": {},
   "outputs": [],
   "source": [
    "df=transformDf(data,rel_columns_8)\n",
    "df=df.dropna(subset=[target_id])"
   ]
  },
  {
   "cell_type": "code",
   "execution_count": 105,
   "metadata": {},
   "outputs": [
    {
     "data": {
      "text/plain": [
       "IndicatorName\n",
       "Adolescent fertility rate (births per 1,000 women ages 15-19)                                               0\n",
       "Birth rate, crude (per 1,000 people)                                                                      233\n",
       "Cause of death, by communicable diseases and maternal, prenatal and nutrition conditions (% of total)    2997\n",
       "Cause of death, by non-communicable diseases (% of total)                                                2997\n",
       "Mortality rate, under-5, female (per 1,000 live births)                                                  2971\n",
       "Mortality rate, under-5, male (per 1,000 live births)                                                    2971\n",
       "Net enrolment rate, secondary, both sexes (%)                                                            1691\n",
       "Net enrolment rate, secondary, female (%)                                                                1715\n",
       "Net enrolment rate, secondary, male (%)                                                                  1715\n",
       "Prevalence of anemia among children (% of children under 5)                                               825\n",
       "Survey mean consumption or income per capita, bottom 40% of population (2005 PPP $ per day)              3397\n",
       "Survey mean consumption or income per capita, total population (2005 PPP $ per day)                      3397\n",
       "Teenage mothers (% of women ages 15-19 who have had children or are currently pregnant)                  3244\n",
       "grade                                                                                                       2\n",
       "dtype: int64"
      ]
     },
     "execution_count": 105,
     "metadata": {},
     "output_type": "execute_result"
    }
   ],
   "source": [
    "df.isna().sum()"
   ]
  },
  {
   "cell_type": "code",
   "execution_count": 103,
   "metadata": {},
   "outputs": [],
   "source": [
    "\n",
    "def make_grade(merged, k):\n",
    "    min_value = min(merged[target_id])\n",
    "    max_value = max(merged[target_id])\n",
    "    value=(max_value-min_value)/k\n",
    "    for i in range(k):\n",
    "        for j in merged.index:\n",
    "            if merged.loc[j, target_id] > min_value + value*i and merged.loc[j, target_id] < min_value + value*(i+1):\n",
    "                merged.loc[j, 'grade'] = i\n",
    "    return merged\n"
   ]
  },
  {
   "cell_type": "code",
   "execution_count": 104,
   "metadata": {},
   "outputs": [
    {
     "data": {
      "text/plain": [
       "array([ 1.,  0., nan])"
      ]
     },
     "execution_count": 104,
     "metadata": {},
     "output_type": "execute_result"
    }
   ],
   "source": [
    "d=make_grade(df,2)\n",
    "d.grade.unique()"
   ]
  },
  {
   "cell_type": "code",
   "execution_count": 70,
   "metadata": {},
   "outputs": [
    {
     "data": {
      "text/plain": [
       "'\\ndef merge_8(merged):\\n    for i in rel_columns_8:\\n        target = data[data[\\'IndicatorName\\']==i]\\n        target.rename(columns={\"Value\": i}, inplace = True)\\n        target=target.drop(columns=[\\'IndicatorCode\\', \\'IndicatorName\\', \\'CountryCode\\'])\\n        merged_bef = merged\\n        merged = pd.merge(merged, target)\\n        if len(merged) < 300:\\n            merged = merged_bef\\n    return merged\\n'"
      ]
     },
     "execution_count": 70,
     "metadata": {},
     "output_type": "execute_result"
    }
   ],
   "source": [
    "\"\"\"\n",
    "def merge_8(merged):\n",
    "    for i in rel_columns_8:\n",
    "        target = data[data['IndicatorName']==i]\n",
    "        target.rename(columns={\"Value\": i}, inplace = True)\n",
    "        target=target.drop(columns=['IndicatorCode', 'IndicatorName', 'CountryCode'])\n",
    "        merged_bef = merged\n",
    "        merged = pd.merge(merged, target)\n",
    "        if len(merged) < 300:\n",
    "            merged = merged_bef\n",
    "    return merged\n",
    "\"\"\""
   ]
  },
  {
   "cell_type": "code",
   "execution_count": 52,
   "metadata": {},
   "outputs": [
    {
     "data": {
      "text/plain": [
       "'\\ndef merge_7(merged):\\n    for i in rel_columns_7:\\n        target = data[data[\\'IndicatorName\\']==i]\\n        target.rename(columns={\"Value\": i}, inplace = True)\\n        target=target.drop(columns=[\\'IndicatorCode\\', \\'IndicatorName\\', \\'CountryCode\\'])\\n        merged_bef = merged\\n        merged = pd.merge(merged, target)\\n        if len(merged) < 300:\\n            merged = merged_bef\\n    return merged\\n'"
      ]
     },
     "execution_count": 52,
     "metadata": {},
     "output_type": "execute_result"
    }
   ],
   "source": [
    "\"\"\"\n",
    "def merge_7(merged):\n",
    "    for i in rel_columns_7:\n",
    "        target = data[data['IndicatorName']==i]\n",
    "        target.rename(columns={\"Value\": i}, inplace = True)\n",
    "        target=target.drop(columns=['IndicatorCode', 'IndicatorName', 'CountryCode'])\n",
    "        merged_bef = merged\n",
    "        merged = pd.merge(merged, target)\n",
    "        if len(merged) < 300:\n",
    "            merged = merged_bef\n",
    "    return merged\n",
    "\"\"\"\n"
   ]
  },
  {
   "cell_type": "code",
   "execution_count": 71,
   "metadata": {},
   "outputs": [
    {
     "data": {
      "text/plain": [
       "\"\\ndef make_grade(merged, k):\\n    min_value = min(merged['Value'])\\n    max_value = max(merged['Value'])\\n    value=(max_value-min_value)/k\\n    for i in range(k):\\n        for j in range(len(merged)):\\n            if merged.loc[j, 'Value'] > min_value + value*i and merged.loc[j, 'Value'] < min_value + value*(i+1):\\n                merged.loc[j, 'grade'] = i\\n    return merged\\n\""
      ]
     },
     "execution_count": 71,
     "metadata": {},
     "output_type": "execute_result"
    }
   ],
   "source": [
    "\"\"\"\n",
    "def make_grade(merged, k):\n",
    "    min_value = min(merged['Value'])\n",
    "    max_value = max(merged['Value'])\n",
    "    value=(max_value-min_value)/k\n",
    "    for i in range(k):\n",
    "        for j in range(len(merged)):\n",
    "            if merged.loc[j, 'Value'] > min_value + value*i and merged.loc[j, 'Value'] < min_value + value*(i+1):\n",
    "                merged.loc[j, 'grade'] = i\n",
    "    return merged\n",
    "\"\"\""
   ]
  },
  {
   "cell_type": "code",
   "execution_count": 10,
   "metadata": {},
   "outputs": [],
   "source": [
    "# label encode categorical data (array)\n",
    "def labelEncode_arr(y):\n",
    "    '''\n",
    "    label encoding array\n",
    "    return value: label encoded array\n",
    "    '''\n",
    "    le = preprocessing.LabelEncoder()\n",
    "    le.fit(y)\n",
    "    y= le.transform(y)\n",
    "    return y"
   ]
  },
  {
   "cell_type": "code",
   "execution_count": 11,
   "metadata": {},
   "outputs": [],
   "source": [
    "def calcAccuracy(kmeans, x,y):\n",
    "    '''\n",
    "    print accuracy of prediction\n",
    "    '''\n",
    "    correct=0\n",
    "    for i in range(len(x)):\n",
    "        predict_me= np.array(x[i].astype(float))\n",
    "        predict_me = predict_me.reshape(-1, len(predict_me))\n",
    "        prediction = kmeans.predict(predict_me)\n",
    "        if prediction[0] == y[i]:\n",
    "            correct += 1\n",
    "    print(correct/len(x))"
   ]
  },
  {
   "cell_type": "code",
   "execution_count": 55,
   "metadata": {},
   "outputs": [],
   "source": [
    "def preprocess_df_8(merged, k):\n",
    "    merged=merge_8(merged)\n",
    "    print(merged)\n",
    "    make_grade(merged, k)\n",
    "    \n",
    "    merged['CountryName']= labelEncode_arr(merged['CountryName'])\n",
    "    \n",
    "    return merged"
   ]
  },
  {
   "cell_type": "code",
   "execution_count": 13,
   "metadata": {},
   "outputs": [],
   "source": [
    "def preprocess_df_7(merged, k):\n",
    "    merged=merge_7(merged)\n",
    "    make_grade(merged, k)\n",
    "    \n",
    "    merged['CountryName']= labelEncode_arr(merged['CountryName'])\n",
    "\n",
    "    return merged"
   ]
  },
  {
   "cell_type": "code",
   "execution_count": 137,
   "metadata": {},
   "outputs": [],
   "source": [
    "def predict_8(merged_8, k):\n",
    "    merged_8 = data[data['IndicatorName']==target_id]\n",
    "    merged_8 =preprocess_df_8(merged_8, k)\n",
    "    \n",
    "    merged_8['CountryName']= labelEncode_arr(merged_8['CountryName'])\n",
    "    merged_8['IndicatorName']= labelEncode_arr(merged_8['IndicatorName'])\n",
    "    merged_8= merged_8.drop(columns=['CountryCode', 'IndicatorCode', 'name'])\n",
    "    \n",
    "    kmeans= KMeans(algorithm='auto', copy_x=True, init='k-means++', max_iter=800, \n",
    "               n_clusters=k, n_init=20, n_jobs=1, precompute_distances='auto', \n",
    "               random_state=None, tol=0.0001, verbose=0)\n",
    "\n",
    "    X= np.array(merged_8.drop(['grade'], 1).astype(float))\n",
    "    y=merged_8['grade']\n",
    "\n",
    "    print('bef', len(X[0]))\n",
    "    kmeans.fit(X)\n",
    "    return calcAccuracy(kmeans, X,y)"
   ]
  },
  {
   "cell_type": "code",
   "execution_count": 138,
   "metadata": {},
   "outputs": [],
   "source": [
    "def predict_7(merged_7, k):\n",
    "    merged_7 = data[data['IndicatorName']==target_id]\n",
    "    merged_7 =preprocess_df_7(merged_7, k)\n",
    "    \n",
    "    merged_7['CountryName']= labelEncode_arr(merged_7['CountryName'])\n",
    "    merged_7['IndicatorName']= labelEncode_arr(merged_7['IndicatorName'])\n",
    "    merged_7= merged_7.drop(columns=['CountryCode', 'IndicatorCode', 'name'])\n",
    "\n",
    "    kmeans= KMeans(algorithm='auto', copy_x=True, init='k-means++', max_iter=800, \n",
    "               n_clusters=k, n_init=20, n_jobs=1, precompute_distances='auto', \n",
    "               random_state=None, tol=0.0001, verbose=0)\n",
    "\n",
    "    X= np.array(merged_7.drop(['grade'], 1).astype(float))\n",
    "    y=merged_7['grade']\n",
    "\n",
    "    kmeans.fit(X)\n",
    "    return calcAccuracy(kmeans, X,y)"
   ]
  },
  {
   "cell_type": "code",
   "execution_count": 139,
   "metadata": {
    "scrolled": true
   },
   "outputs": [
    {
     "name": "stdout",
     "output_type": "stream",
     "text": [
      "bef 10\n",
      "0.5003538570417552\n"
     ]
    }
   ],
   "source": [
    "predict_8(target,5)"
   ]
  },
  {
   "cell_type": "code",
   "execution_count": null,
   "metadata": {},
   "outputs": [
    {
     "name": "stderr",
     "output_type": "stream",
     "text": [
      "c:\\users\\parksoyoung\\appdata\\local\\programs\\python\\python37\\lib\\site-packages\\pandas\\core\\frame.py:4218: SettingWithCopyWarning: \n",
      "A value is trying to be set on a copy of a slice from a DataFrame\n",
      "\n",
      "See the caveats in the documentation: http://pandas.pydata.org/pandas-docs/stable/user_guide/indexing.html#returning-a-view-versus-a-copy\n",
      "  return super().rename(**kwargs)\n"
     ]
    }
   ],
   "source": [
    "predict_7(target,5)"
   ]
  },
  {
   "cell_type": "code",
   "execution_count": 69,
   "metadata": {
    "collapsed": true
   },
   "outputs": [
    {
     "data": {
      "text/html": [
       "<div>\n",
       "<style scoped>\n",
       "    .dataframe tbody tr th:only-of-type {\n",
       "        vertical-align: middle;\n",
       "    }\n",
       "\n",
       "    .dataframe tbody tr th {\n",
       "        vertical-align: top;\n",
       "    }\n",
       "\n",
       "    .dataframe thead th {\n",
       "        text-align: right;\n",
       "    }\n",
       "</style>\n",
       "<table border=\"1\" class=\"dataframe\">\n",
       "  <thead>\n",
       "    <tr style=\"text-align: right;\">\n",
       "      <th></th>\n",
       "      <th>CountryName</th>\n",
       "      <th>CountryCode</th>\n",
       "      <th>IndicatorName</th>\n",
       "      <th>IndicatorCode</th>\n",
       "      <th>Year</th>\n",
       "      <th>Value</th>\n",
       "      <th>name</th>\n",
       "      <th>Adolescent fertility rate (births per 1,000 women ages 15-19)</th>\n",
       "      <th>Birth rate, crude (per 1,000 people)</th>\n",
       "      <th>Net enrolment rate, secondary, both sexes (%)</th>\n",
       "      <th>Net enrolment rate, secondary, female (%)</th>\n",
       "      <th>Net enrolment rate, secondary, male (%)</th>\n",
       "      <th>Prevalence of anemia among children (% of children under 5)</th>\n",
       "      <th>grade</th>\n",
       "    </tr>\n",
       "  </thead>\n",
       "  <tbody>\n",
       "    <tr>\n",
       "      <th>10</th>\n",
       "      <td>Heavily indebted poor countries (HIPC)</td>\n",
       "      <td>HPC</td>\n",
       "      <td>Adolescent fertility rate (births per 1,000 wo...</td>\n",
       "      <td>SP.ADO.TFRT</td>\n",
       "      <td>2000</td>\n",
       "      <td>131.718540</td>\n",
       "      <td>Heavily indebted poor countries (HIPC)_2000</td>\n",
       "      <td>131.718540</td>\n",
       "      <td>42.952911</td>\n",
       "      <td>17.257088</td>\n",
       "      <td>14.603803</td>\n",
       "      <td>19.892557</td>\n",
       "      <td>70.960171</td>\n",
       "      <td>1.0</td>\n",
       "    </tr>\n",
       "    <tr>\n",
       "      <th>15</th>\n",
       "      <td>Least developed countries: UN classification</td>\n",
       "      <td>LDC</td>\n",
       "      <td>Adolescent fertility rate (births per 1,000 wo...</td>\n",
       "      <td>SP.ADO.TFRT</td>\n",
       "      <td>2000</td>\n",
       "      <td>119.138024</td>\n",
       "      <td>Least developed countries: UN classification_2000</td>\n",
       "      <td>119.138024</td>\n",
       "      <td>38.604856</td>\n",
       "      <td>23.962164</td>\n",
       "      <td>21.846199</td>\n",
       "      <td>26.045223</td>\n",
       "      <td>68.058792</td>\n",
       "      <td>1.0</td>\n",
       "    </tr>\n",
       "    <tr>\n",
       "      <th>17</th>\n",
       "      <td>Low income</td>\n",
       "      <td>LIC</td>\n",
       "      <td>Adolescent fertility rate (births per 1,000 wo...</td>\n",
       "      <td>SP.ADO.TFRT</td>\n",
       "      <td>2000</td>\n",
       "      <td>125.876992</td>\n",
       "      <td>Low income_2000</td>\n",
       "      <td>125.876992</td>\n",
       "      <td>41.740544</td>\n",
       "      <td>17.811901</td>\n",
       "      <td>15.033191</td>\n",
       "      <td>20.574837</td>\n",
       "      <td>68.742138</td>\n",
       "      <td>1.0</td>\n",
       "    </tr>\n",
       "    <tr>\n",
       "      <th>28</th>\n",
       "      <td>Sub-Saharan Africa (all income levels)</td>\n",
       "      <td>SSF</td>\n",
       "      <td>Adolescent fertility rate (births per 1,000 wo...</td>\n",
       "      <td>SP.ADO.TFRT</td>\n",
       "      <td>2000</td>\n",
       "      <td>128.676948</td>\n",
       "      <td>Sub-Saharan Africa (all income levels)_2000</td>\n",
       "      <td>128.676948</td>\n",
       "      <td>41.681171</td>\n",
       "      <td>20.800966</td>\n",
       "      <td>18.987701</td>\n",
       "      <td>22.596594</td>\n",
       "      <td>70.645349</td>\n",
       "      <td>1.0</td>\n",
       "    </tr>\n",
       "    <tr>\n",
       "      <th>29</th>\n",
       "      <td>Sub-Saharan Africa (developing only)</td>\n",
       "      <td>SSA</td>\n",
       "      <td>Adolescent fertility rate (births per 1,000 wo...</td>\n",
       "      <td>SP.ADO.TFRT</td>\n",
       "      <td>2000</td>\n",
       "      <td>128.683435</td>\n",
       "      <td>Sub-Saharan Africa (developing only)_2000</td>\n",
       "      <td>128.683435</td>\n",
       "      <td>41.685870</td>\n",
       "      <td>20.792463</td>\n",
       "      <td>18.985275</td>\n",
       "      <td>22.582077</td>\n",
       "      <td>70.645572</td>\n",
       "      <td>1.0</td>\n",
       "    </tr>\n",
       "    <tr>\n",
       "      <th>...</th>\n",
       "      <td>...</td>\n",
       "      <td>...</td>\n",
       "      <td>...</td>\n",
       "      <td>...</td>\n",
       "      <td>...</td>\n",
       "      <td>...</td>\n",
       "      <td>...</td>\n",
       "      <td>...</td>\n",
       "      <td>...</td>\n",
       "      <td>...</td>\n",
       "      <td>...</td>\n",
       "      <td>...</td>\n",
       "      <td>...</td>\n",
       "      <td>...</td>\n",
       "    </tr>\n",
       "    <tr>\n",
       "      <th>1372</th>\n",
       "      <td>Madagascar</td>\n",
       "      <td>MDG</td>\n",
       "      <td>Adolescent fertility rate (births per 1,000 wo...</td>\n",
       "      <td>SP.ADO.TFRT</td>\n",
       "      <td>2011</td>\n",
       "      <td>125.128400</td>\n",
       "      <td>Madagascar_2011</td>\n",
       "      <td>125.128400</td>\n",
       "      <td>35.173000</td>\n",
       "      <td>29.812330</td>\n",
       "      <td>29.798660</td>\n",
       "      <td>29.826040</td>\n",
       "      <td>50.000000</td>\n",
       "      <td>1.0</td>\n",
       "    </tr>\n",
       "    <tr>\n",
       "      <th>1373</th>\n",
       "      <td>Malawi</td>\n",
       "      <td>MWI</td>\n",
       "      <td>Adolescent fertility rate (births per 1,000 wo...</td>\n",
       "      <td>SP.ADO.TFRT</td>\n",
       "      <td>2011</td>\n",
       "      <td>143.457600</td>\n",
       "      <td>Malawi_2011</td>\n",
       "      <td>143.457600</td>\n",
       "      <td>40.531000</td>\n",
       "      <td>28.977949</td>\n",
       "      <td>28.542721</td>\n",
       "      <td>29.407009</td>\n",
       "      <td>65.600000</td>\n",
       "      <td>1.0</td>\n",
       "    </tr>\n",
       "    <tr>\n",
       "      <th>1375</th>\n",
       "      <td>Mali</td>\n",
       "      <td>MLI</td>\n",
       "      <td>Adolescent fertility rate (births per 1,000 wo...</td>\n",
       "      <td>SP.ADO.TFRT</td>\n",
       "      <td>2011</td>\n",
       "      <td>178.709400</td>\n",
       "      <td>Mali_2011</td>\n",
       "      <td>178.709400</td>\n",
       "      <td>45.338000</td>\n",
       "      <td>34.488689</td>\n",
       "      <td>28.422960</td>\n",
       "      <td>40.279839</td>\n",
       "      <td>80.100000</td>\n",
       "      <td>1.0</td>\n",
       "    </tr>\n",
       "    <tr>\n",
       "      <th>1379</th>\n",
       "      <td>Mozambique</td>\n",
       "      <td>MOZ</td>\n",
       "      <td>Adolescent fertility rate (births per 1,000 wo...</td>\n",
       "      <td>SP.ADO.TFRT</td>\n",
       "      <td>2011</td>\n",
       "      <td>157.713800</td>\n",
       "      <td>Mozambique_2011</td>\n",
       "      <td>157.713800</td>\n",
       "      <td>40.590000</td>\n",
       "      <td>17.253139</td>\n",
       "      <td>16.657150</td>\n",
       "      <td>17.851070</td>\n",
       "      <td>66.500000</td>\n",
       "      <td>1.0</td>\n",
       "    </tr>\n",
       "    <tr>\n",
       "      <th>1383</th>\n",
       "      <td>Niger</td>\n",
       "      <td>NER</td>\n",
       "      <td>Adolescent fertility rate (births per 1,000 wo...</td>\n",
       "      <td>SP.ADO.TFRT</td>\n",
       "      <td>2011</td>\n",
       "      <td>209.427000</td>\n",
       "      <td>Niger_2011</td>\n",
       "      <td>209.427000</td>\n",
       "      <td>50.072000</td>\n",
       "      <td>12.199370</td>\n",
       "      <td>9.709640</td>\n",
       "      <td>14.690440</td>\n",
       "      <td>75.600000</td>\n",
       "      <td>1.0</td>\n",
       "    </tr>\n",
       "  </tbody>\n",
       "</table>\n",
       "<p>136 rows × 14 columns</p>\n",
       "</div>"
      ],
      "text/plain": [
       "                                       CountryName CountryCode  \\\n",
       "10          Heavily indebted poor countries (HIPC)         HPC   \n",
       "15    Least developed countries: UN classification         LDC   \n",
       "17                                      Low income         LIC   \n",
       "28          Sub-Saharan Africa (all income levels)         SSF   \n",
       "29            Sub-Saharan Africa (developing only)         SSA   \n",
       "...                                            ...         ...   \n",
       "1372                                    Madagascar         MDG   \n",
       "1373                                        Malawi         MWI   \n",
       "1375                                          Mali         MLI   \n",
       "1379                                    Mozambique         MOZ   \n",
       "1383                                         Niger         NER   \n",
       "\n",
       "                                          IndicatorName IndicatorCode  Year  \\\n",
       "10    Adolescent fertility rate (births per 1,000 wo...   SP.ADO.TFRT  2000   \n",
       "15    Adolescent fertility rate (births per 1,000 wo...   SP.ADO.TFRT  2000   \n",
       "17    Adolescent fertility rate (births per 1,000 wo...   SP.ADO.TFRT  2000   \n",
       "28    Adolescent fertility rate (births per 1,000 wo...   SP.ADO.TFRT  2000   \n",
       "29    Adolescent fertility rate (births per 1,000 wo...   SP.ADO.TFRT  2000   \n",
       "...                                                 ...           ...   ...   \n",
       "1372  Adolescent fertility rate (births per 1,000 wo...   SP.ADO.TFRT  2011   \n",
       "1373  Adolescent fertility rate (births per 1,000 wo...   SP.ADO.TFRT  2011   \n",
       "1375  Adolescent fertility rate (births per 1,000 wo...   SP.ADO.TFRT  2011   \n",
       "1379  Adolescent fertility rate (births per 1,000 wo...   SP.ADO.TFRT  2011   \n",
       "1383  Adolescent fertility rate (births per 1,000 wo...   SP.ADO.TFRT  2011   \n",
       "\n",
       "           Value                                               name  \\\n",
       "10    131.718540        Heavily indebted poor countries (HIPC)_2000   \n",
       "15    119.138024  Least developed countries: UN classification_2000   \n",
       "17    125.876992                                    Low income_2000   \n",
       "28    128.676948        Sub-Saharan Africa (all income levels)_2000   \n",
       "29    128.683435          Sub-Saharan Africa (developing only)_2000   \n",
       "...          ...                                                ...   \n",
       "1372  125.128400                                    Madagascar_2011   \n",
       "1373  143.457600                                        Malawi_2011   \n",
       "1375  178.709400                                          Mali_2011   \n",
       "1379  157.713800                                    Mozambique_2011   \n",
       "1383  209.427000                                         Niger_2011   \n",
       "\n",
       "      Adolescent fertility rate (births per 1,000 women ages 15-19)  \\\n",
       "10                                           131.718540               \n",
       "15                                           119.138024               \n",
       "17                                           125.876992               \n",
       "28                                           128.676948               \n",
       "29                                           128.683435               \n",
       "...                                                 ...               \n",
       "1372                                         125.128400               \n",
       "1373                                         143.457600               \n",
       "1375                                         178.709400               \n",
       "1379                                         157.713800               \n",
       "1383                                         209.427000               \n",
       "\n",
       "      Birth rate, crude (per 1,000 people)  \\\n",
       "10                               42.952911   \n",
       "15                               38.604856   \n",
       "17                               41.740544   \n",
       "28                               41.681171   \n",
       "29                               41.685870   \n",
       "...                                    ...   \n",
       "1372                             35.173000   \n",
       "1373                             40.531000   \n",
       "1375                             45.338000   \n",
       "1379                             40.590000   \n",
       "1383                             50.072000   \n",
       "\n",
       "      Net enrolment rate, secondary, both sexes (%)  \\\n",
       "10                                        17.257088   \n",
       "15                                        23.962164   \n",
       "17                                        17.811901   \n",
       "28                                        20.800966   \n",
       "29                                        20.792463   \n",
       "...                                             ...   \n",
       "1372                                      29.812330   \n",
       "1373                                      28.977949   \n",
       "1375                                      34.488689   \n",
       "1379                                      17.253139   \n",
       "1383                                      12.199370   \n",
       "\n",
       "      Net enrolment rate, secondary, female (%)  \\\n",
       "10                                    14.603803   \n",
       "15                                    21.846199   \n",
       "17                                    15.033191   \n",
       "28                                    18.987701   \n",
       "29                                    18.985275   \n",
       "...                                         ...   \n",
       "1372                                  29.798660   \n",
       "1373                                  28.542721   \n",
       "1375                                  28.422960   \n",
       "1379                                  16.657150   \n",
       "1383                                   9.709640   \n",
       "\n",
       "      Net enrolment rate, secondary, male (%)  \\\n",
       "10                                  19.892557   \n",
       "15                                  26.045223   \n",
       "17                                  20.574837   \n",
       "28                                  22.596594   \n",
       "29                                  22.582077   \n",
       "...                                       ...   \n",
       "1372                                29.826040   \n",
       "1373                                29.407009   \n",
       "1375                                40.279839   \n",
       "1379                                17.851070   \n",
       "1383                                14.690440   \n",
       "\n",
       "      Prevalence of anemia among children (% of children under 5)  grade  \n",
       "10                                            70.960171              1.0  \n",
       "15                                            68.058792              1.0  \n",
       "17                                            68.742138              1.0  \n",
       "28                                            70.645349              1.0  \n",
       "29                                            70.645572              1.0  \n",
       "...                                                 ...              ...  \n",
       "1372                                          50.000000              1.0  \n",
       "1373                                          65.600000              1.0  \n",
       "1375                                          80.100000              1.0  \n",
       "1379                                          66.500000              1.0  \n",
       "1383                                          75.600000              1.0  \n",
       "\n",
       "[136 rows x 14 columns]"
      ]
     },
     "execution_count": 69,
     "metadata": {},
     "output_type": "execute_result"
    }
   ],
   "source": [
    "merged=merge_8(data[data['IndicatorName']==target_id])\n",
    "t=make_grade(merged, 2)\n"
   ]
  },
  {
   "cell_type": "code",
   "execution_count": 92,
   "metadata": {},
   "outputs": [
    {
     "data": {
      "text/plain": [
       "array([ 0.,  1., nan])"
      ]
     },
     "execution_count": 92,
     "metadata": {},
     "output_type": "execute_result"
    }
   ],
   "source": [
    "t.grade.unique()"
   ]
  },
  {
   "cell_type": "code",
   "execution_count": 18,
   "metadata": {},
   "outputs": [
    {
     "ename": "NameError",
     "evalue": "name 'X' is not defined",
     "output_type": "error",
     "traceback": [
      "\u001b[1;31m---------------------------------------------------------------------------\u001b[0m",
      "\u001b[1;31mNameError\u001b[0m                                 Traceback (most recent call last)",
      "\u001b[1;32m<ipython-input-18-3ed6bd0f15b8>\u001b[0m in \u001b[0;36m<module>\u001b[1;34m\u001b[0m\n\u001b[0;32m      3\u001b[0m                \u001b[0mn_clusters\u001b[0m\u001b[1;33m=\u001b[0m\u001b[1;36m2\u001b[0m\u001b[1;33m,\u001b[0m \u001b[0mn_init\u001b[0m\u001b[1;33m=\u001b[0m\u001b[1;36m20\u001b[0m\u001b[1;33m,\u001b[0m \u001b[0mn_jobs\u001b[0m\u001b[1;33m=\u001b[0m\u001b[1;36m1\u001b[0m\u001b[1;33m,\u001b[0m \u001b[0mprecompute_distances\u001b[0m\u001b[1;33m=\u001b[0m\u001b[1;34m'auto'\u001b[0m\u001b[1;33m,\u001b[0m\u001b[1;33m\u001b[0m\u001b[1;33m\u001b[0m\u001b[0m\n\u001b[0;32m      4\u001b[0m                random_state=None, tol=0.0001, verbose=0)\n\u001b[1;32m----> 5\u001b[1;33m \u001b[0mkmeans\u001b[0m\u001b[1;33m.\u001b[0m\u001b[0mfit\u001b[0m\u001b[1;33m(\u001b[0m\u001b[0mX\u001b[0m\u001b[1;33m)\u001b[0m\u001b[1;33m\u001b[0m\u001b[1;33m\u001b[0m\u001b[0m\n\u001b[0m\u001b[0;32m      6\u001b[0m \u001b[1;33m\u001b[0m\u001b[0m\n\u001b[0;32m      7\u001b[0m \u001b[0mcalcAccuracy\u001b[0m\u001b[1;33m(\u001b[0m\u001b[0mX\u001b[0m\u001b[1;33m,\u001b[0m\u001b[0my\u001b[0m\u001b[1;33m)\u001b[0m\u001b[1;33m\u001b[0m\u001b[1;33m\u001b[0m\u001b[0m\n",
      "\u001b[1;31mNameError\u001b[0m: name 'X' is not defined"
     ]
    }
   ],
   "source": [
    "### rel_columns_7\n",
    "kmeans= KMeans(algorithm='auto', copy_x=True, init='k-means++', max_iter=800, \n",
    "               n_clusters=2, n_init=20, n_jobs=1, precompute_distances='auto', \n",
    "               random_state=None, tol=0.0001, verbose=0)\n",
    "kmeans.fit(X)\n",
    "\n",
    "calcAccuracy(X,y)"
   ]
  },
  {
   "cell_type": "code",
   "execution_count": null,
   "metadata": {},
   "outputs": [],
   "source": [
    "'''\n",
    "선택지\n",
    "1. rel_columns_8 or 7\n",
    "2. 몇개 미만이면 제외할지\n",
    "3. kmeans parameter\n",
    "'''"
   ]
  },
  {
   "cell_type": "code",
   "execution_count": null,
   "metadata": {},
   "outputs": [],
   "source": []
  }
 ],
 "metadata": {
  "kernelspec": {
   "display_name": "Python 3",
   "language": "python",
   "name": "python3"
  },
  "language_info": {
   "codemirror_mode": {
    "name": "ipython",
    "version": 3
   },
   "file_extension": ".py",
   "mimetype": "text/x-python",
   "name": "python",
   "nbconvert_exporter": "python",
   "pygments_lexer": "ipython3",
   "version": "3.7.4"
  }
 },
 "nbformat": 4,
 "nbformat_minor": 2
}
