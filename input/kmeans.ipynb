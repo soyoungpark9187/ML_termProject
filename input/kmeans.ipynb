{
 "cells": [
  {
   "cell_type": "code",
   "execution_count": 77,
   "metadata": {},
   "outputs": [],
   "source": [
    "import pandas as pd\n",
    "import numpy as np\n",
    "import math\n",
    "from sklearn.cluster import KMeans\n",
    "import sklearn.preprocessing as preprocessing\n",
    "from sklearn.cluster import DBSCAN\n",
    "from sklearn import linear_model\n",
    "import scipy.interpolate as ip\n",
    "from sklearn.mixture import GaussianMixture\n",
    "import seaborn as sns\n",
    "import matplotlib.pyplot as plt\n",
    "import plotly.graph_objs as go\n",
    "import plotly.express as px\n",
    "import scipy as sp\n",
    "from sklearn.metrics import silhouette_score, silhouette_samples\n",
    "from itertools import combinations"
   ]
  },
  {
   "cell_type": "code",
   "execution_count": 2,
   "metadata": {},
   "outputs": [
    {
     "data": {
      "text/plain": [
       "(5656458, 6)"
      ]
     },
     "execution_count": 2,
     "metadata": {},
     "output_type": "execute_result"
    }
   ],
   "source": [
    "data = pd.read_csv('Indicators.csv')\n",
    "data.shape"
   ]
  },
  {
   "cell_type": "code",
   "execution_count": 3,
   "metadata": {},
   "outputs": [
    {
     "data": {
      "text/html": [
       "<div>\n",
       "<style scoped>\n",
       "    .dataframe tbody tr th:only-of-type {\n",
       "        vertical-align: middle;\n",
       "    }\n",
       "\n",
       "    .dataframe tbody tr th {\n",
       "        vertical-align: top;\n",
       "    }\n",
       "\n",
       "    .dataframe thead th {\n",
       "        text-align: right;\n",
       "    }\n",
       "</style>\n",
       "<table border=\"1\" class=\"dataframe\">\n",
       "  <thead>\n",
       "    <tr style=\"text-align: right;\">\n",
       "      <th></th>\n",
       "      <th>CountryName</th>\n",
       "      <th>CountryCode</th>\n",
       "      <th>IndicatorName</th>\n",
       "      <th>IndicatorCode</th>\n",
       "      <th>Year</th>\n",
       "      <th>Value</th>\n",
       "    </tr>\n",
       "  </thead>\n",
       "  <tbody>\n",
       "    <tr>\n",
       "      <th>0</th>\n",
       "      <td>Arab World</td>\n",
       "      <td>ARB</td>\n",
       "      <td>Adolescent fertility rate (births per 1,000 wo...</td>\n",
       "      <td>SP.ADO.TFRT</td>\n",
       "      <td>1960</td>\n",
       "      <td>1.335609e+02</td>\n",
       "    </tr>\n",
       "    <tr>\n",
       "      <th>1</th>\n",
       "      <td>Arab World</td>\n",
       "      <td>ARB</td>\n",
       "      <td>Age dependency ratio (% of working-age populat...</td>\n",
       "      <td>SP.POP.DPND</td>\n",
       "      <td>1960</td>\n",
       "      <td>8.779760e+01</td>\n",
       "    </tr>\n",
       "    <tr>\n",
       "      <th>2</th>\n",
       "      <td>Arab World</td>\n",
       "      <td>ARB</td>\n",
       "      <td>Age dependency ratio, old (% of working-age po...</td>\n",
       "      <td>SP.POP.DPND.OL</td>\n",
       "      <td>1960</td>\n",
       "      <td>6.634579e+00</td>\n",
       "    </tr>\n",
       "    <tr>\n",
       "      <th>3</th>\n",
       "      <td>Arab World</td>\n",
       "      <td>ARB</td>\n",
       "      <td>Age dependency ratio, young (% of working-age ...</td>\n",
       "      <td>SP.POP.DPND.YG</td>\n",
       "      <td>1960</td>\n",
       "      <td>8.102333e+01</td>\n",
       "    </tr>\n",
       "    <tr>\n",
       "      <th>4</th>\n",
       "      <td>Arab World</td>\n",
       "      <td>ARB</td>\n",
       "      <td>Arms exports (SIPRI trend indicator values)</td>\n",
       "      <td>MS.MIL.XPRT.KD</td>\n",
       "      <td>1960</td>\n",
       "      <td>3.000000e+06</td>\n",
       "    </tr>\n",
       "  </tbody>\n",
       "</table>\n",
       "</div>"
      ],
      "text/plain": [
       "  CountryName CountryCode                                      IndicatorName  \\\n",
       "0  Arab World         ARB  Adolescent fertility rate (births per 1,000 wo...   \n",
       "1  Arab World         ARB  Age dependency ratio (% of working-age populat...   \n",
       "2  Arab World         ARB  Age dependency ratio, old (% of working-age po...   \n",
       "3  Arab World         ARB  Age dependency ratio, young (% of working-age ...   \n",
       "4  Arab World         ARB        Arms exports (SIPRI trend indicator values)   \n",
       "\n",
       "    IndicatorCode  Year         Value  \n",
       "0     SP.ADO.TFRT  1960  1.335609e+02  \n",
       "1     SP.POP.DPND  1960  8.779760e+01  \n",
       "2  SP.POP.DPND.OL  1960  6.634579e+00  \n",
       "3  SP.POP.DPND.YG  1960  8.102333e+01  \n",
       "4  MS.MIL.XPRT.KD  1960  3.000000e+06  "
      ]
     },
     "execution_count": 3,
     "metadata": {},
     "output_type": "execute_result"
    }
   ],
   "source": [
    "data.head()"
   ]
  },
  {
   "cell_type": "code",
   "execution_count": 4,
   "metadata": {},
   "outputs": [],
   "source": [
    "def corr(data, column):\n",
    "    data=data[(data['Year'] >= 2000) & (data['Year'] < 2014) ]\n",
    "    for i in data.columns:\n",
    "        if data.isna().sum()[i]/len(data) >=0.8:\n",
    "            data=data.drop(columns=[i])\n",
    "\n",
    "    rel_columns= []\n",
    "    rel_columns_7=[]\n",
    "    unique_name = data['IndicatorName'].unique()\n",
    "    for i in range(len(unique_name)):\n",
    "        #print(unique_name[i])\n",
    "        indicator = data[data['IndicatorName'] == unique_name[i]]\n",
    "        indicator.rename(columns={\"Value\": unique_name[i]}, inplace = True)\n",
    "        indicator=indicator.drop(columns=['IndicatorCode', 'IndicatorName', 'CountryName'])\n",
    "        merged = pd.merge(target, indicator)\n",
    "        corr=merged.corr()\n",
    "        if corr[\"Value\"][unique_name[i]] > 0.8 or corr[\"Value\"][unique_name[i]] < -0.8:\n",
    "            rel_columns.append(unique_name[i])\n",
    "        if corr['Value'][unique_name[i]] > 0.7 or corr[\"Value\"][unique_name[i]] < -0.7:\n",
    "            rel_columns_7.append(unique_name[i])\n",
    "    return rel_columns, rel_columns_7"
   ]
  },
  {
   "cell_type": "code",
   "execution_count": 5,
   "metadata": {},
   "outputs": [],
   "source": [
    "#일단 이렇게 되는데, 나중에 주석 풀고 하는게 나을듯\n",
    "#rel_columns_8,rel_columns_7=corr(data2000)"
   ]
  },
  {
   "cell_type": "code",
   "execution_count": 6,
   "metadata": {},
   "outputs": [],
   "source": [
    "# 여기서부터 관련도 높은 feature 뽑는 것\n",
    "target_id = 'Adolescent fertility rate (births per 1,000 women ages 15-19)';\n",
    "\n",
    "target = data[data['IndicatorName']==target_id]"
   ]
  },
  {
   "cell_type": "code",
   "execution_count": 96,
   "metadata": {},
   "outputs": [],
   "source": [
    "feature=[\n",
    "    \n",
    "    'Adjusted net national income (current US$)','Age dependency ratio, young (% of working-age population)',\n",
    "    'Annualized average growth rate in per capita real survey mean consumption or income, total population (%)',\n",
    "    'Birth rate, crude (per 1,000 people)','Births attended by skilled health staff (% of total)'\n",
    "    ,'Cause of death, by communicable diseases and maternal, prenatal and nutrition conditions (% of total)',\n",
    "    'CPIA gender equality rating (1=low to 6=high)','GDP (constant LCU)' ,'Net enrolment rate, secondary, both sexes (%)',\n",
    " 'Net enrolment rate, secondary, female (%)', 'Net enrolment rate, secondary, male (%)','Population, ages 15-64',   \n",
    "'Life expectancy at birth' ,'female (years),Life expectancy at birth, male (years)',\n",
    "'Life expectancy at birth, total (years)',\n",
    "'Prevalence of anemia among children (% of children under 5)',\n",
    "'Mortality rate, adult, female (per 1,000 female adults)',\n",
    "'Population, ages 0-14 (% of total)',\n",
    "'Survival to age 65, female (% of cohort)',\n",
    "'Improved water source (% of population with access)',\n",
    "'Improved water source, rural (% of rural population with access)',\n",
    "'Lifetime risk of maternal death (%)'\n",
    "]"
   ]
  },
  {
   "cell_type": "code",
   "execution_count": 83,
   "metadata": {},
   "outputs": [],
   "source": [
    "def selection_feature(feature,num):\n",
    "    return list(combinations(feature,num))"
   ]
  },
  {
   "cell_type": "code",
   "execution_count": 91,
   "metadata": {},
   "outputs": [],
   "source": [
    "# 해당하는 indicator해서 그 데이터 프레임 사용하기 편하게 바꿔주는거 \n",
    "def transformDf(d, ind, tf):\n",
    "    data2000=d[(d['Year'] >= 2006) & (d['Year'] < 2014) ]\n",
    "    \n",
    "    \n",
    "    if tf==True:\n",
    "        \n",
    "        col8 = data2000[(data2000['IndicatorName'].isin(ind))]\n",
    "        col8=col8.reset_index(drop=True)\n",
    "        \n",
    "    else:\n",
    "        col8 = data2000[data2000['IndicatorName']==ind]\n",
    "        col8=col8.reset_index(drop=True)\n",
    "    \n",
    "    name_list = list()\n",
    "\n",
    "    for i in col8.index:\n",
    "        name_list.append( col8.loc[i,'CountryName'] + \"_\" + str(col8.loc[i,'Year']))\n",
    "    col8[\"name\"] = name_list\n",
    "\n",
    "    col8=col8.pivot_table(values=\"Value\",index=\"name\",columns=[\"IndicatorName\"] )\n",
    "    \n",
    "    return col8\n",
    "    \n",
    "    "
   ]
  },
  {
   "cell_type": "code",
   "execution_count": 10,
   "metadata": {},
   "outputs": [],
   "source": [
    "\n",
    "def make_grade(merged, k):\n",
    "    min_value = min(merged[target_id])\n",
    "    max_value = max(merged[target_id])\n",
    "    value=(max_value-min_value)/k\n",
    "    for i in range(k):\n",
    "        for j in merged.index:\n",
    "            if merged.loc[j, target_id] >=min_value + value*i and merged.loc[j, target_id] <= min_value + value*(i+1):\n",
    "                merged.loc[j, 'grade'] = i\n",
    "    return merged\n"
   ]
  },
  {
   "cell_type": "code",
   "execution_count": 11,
   "metadata": {},
   "outputs": [],
   "source": [
    "def preprocessingMissing(df):\n",
    "    \n",
    "    #전체 개수랑 null 값이 비슷 하게 나오는 경우에는 그냥 아예 그 컬럼을 안쓰는게 나을 거 가음\n",
    "    for i in df.columns:\n",
    "        if df.isna().sum()[i]/len(df) >=0.7:\n",
    "            df=df.drop(columns=[i])\n",
    "            \n",
    "    data_inter=pd.DataFrame(data=df.values,index=range(len(df)))\n",
    "    data_inter=data_inter.interpolate(method='index' ,limit_direction=\"both\")\n",
    "    df=pd.DataFrame(data=data_inter.values,index=df.index, columns=df.columns)\n",
    "\n",
    "\n",
    "    return df\n",
    "        "
   ]
  },
  {
   "cell_type": "code",
   "execution_count": 12,
   "metadata": {},
   "outputs": [],
   "source": [
    "# cleansing dataset\n",
    "def robust(X):\n",
    "    # cleansing missing data\n",
    "    X.dropna(axis=0, thresh=1, inplace=True)\n",
    "    # cleansing outliers\n",
    "    robust = preprocessing.RobustScaler().fit(X)\n",
    "\n",
    "    X_robust = robust.transform(X)\n",
    "    X_robust = pd.DataFrame(X, columns=X.columns, index=list(X.index.values))\n",
    "    return X_robust"
   ]
  },
  {
   "cell_type": "code",
   "execution_count": 13,
   "metadata": {},
   "outputs": [],
   "source": [
    "# scaling data (MinMaxScaler)\n",
    "def minmax(X):\n",
    "    scaler = preprocessing.MinMaxScaler()\n",
    "    fit = scaler.fit(X)\n",
    "\n",
    "    X_scaled = scaler.transform(X)\n",
    "    X_scaled = pd.DataFrame(X_scaled, columns=X.columns, index=list(X.index.values))\n",
    "    return X_scaled"
   ]
  },
  {
   "cell_type": "code",
   "execution_count": 14,
   "metadata": {},
   "outputs": [],
   "source": [
    "# scaling data (MinMaxScaler)\n",
    "def standard(X):\n",
    "    scaler = preprocessing.StandardScaler()\n",
    "    fit = scaler.fit(X)\n",
    "\n",
    "    X_scaled = scaler.transform(X)\n",
    "    X_scaled = pd.DataFrame(X_scaled, columns=X.columns, index=list(X.index.values))\n",
    "    return X_scaled\n"
   ]
  },
  {
   "cell_type": "code",
   "execution_count": 15,
   "metadata": {},
   "outputs": [],
   "source": [
    "def fillnaX(X):\n",
    "    for i in X.columns:\n",
    "        df[i] = df[i].fillna(df[i].mean())\n",
    "    return X                     "
   ]
  },
  {
   "cell_type": "code",
   "execution_count": 36,
   "metadata": {},
   "outputs": [],
   "source": [
    "#K-means parameter\n",
    "\n",
    "# DBSCAN parameter\n",
    "eps=[10, 20, 30, 40, 50 ]\n",
    "min_samples=[ 3, 5, 10, 15, 20, 30, 50, 100 ]\n",
    "dis_measure = ['euclidean', 'hamming']\n",
    "\n",
    "# EM parameter\n"
   ]
  },
  {
   "cell_type": "code",
   "execution_count": 113,
   "metadata": {},
   "outputs": [],
   "source": [
    "#나중에 dbscan이나 EM 도 한파일에 있어야되서 함수 명 바꿧어\n",
    "def runKMeans(df, k,max_iter, n_init):\n",
    "    \n",
    "    df=make_grade(df,k)\n",
    "    kmeans=KMeans(n_clusters=k)\n",
    "    \"\"\"\n",
    "    kmeans= KMeans(algorithm='auto', copy_x=True, init='k-means++', max_iter=max_iter, \n",
    "               n_clusters=k, n_init=n_init, n_jobs=1, precompute_distances='auto', \n",
    "               random_state=None, tol=0.0001, verbose=0)\n",
    "    \"\"\"\n",
    "    X= df.drop(['grade',target_id], 1)\n",
    "    #일단은 다 dropna 처리\n",
    "    y=df['grade']\n",
    "\n",
    "    kmeans.fit(X)\n",
    "    predict=kmeans.predict(X)\n",
    "\n",
    "    #scatter_plot(df, predict)\n",
    "    \n",
    "    return predict,calcAccuracy(predict, X,y)"
   ]
  },
  {
   "cell_type": "code",
   "execution_count": 17,
   "metadata": {},
   "outputs": [],
   "source": [
    "\n",
    "def calcAccuracy(y_pred, x,y):\n",
    "    '''\n",
    "    print accuracy of prediction\n",
    "    '''\n",
    "    correct=0\n",
    "    for i in range(len(x)):\n",
    "        \n",
    "        #predict_me= np.array(x[i].astype(float))\n",
    "        #predict_me = predict_me.reshape(-1, len(predict_me))\n",
    "        #prediction = kmeans.predict(predict_me)\n",
    "        #여기서는 predict 값을 넘겨서 [i]로 해야돼\n",
    "        if y_pred[i] == y[i]:\n",
    "            correct += 1\n",
    "    print(correct/len(x))\n"
   ]
  },
  {
   "cell_type": "code",
   "execution_count": 18,
   "metadata": {},
   "outputs": [],
   "source": [
    "def runDBSCAN(df,eps, min_samples, metric):\n",
    "    \n",
    "    df=make_grade(df,min_samples)\n",
    "    X=df.drop(columns=['grade',target_id])\n",
    "    y=df['grade']\n",
    "    \n",
    "    \"\"\"\n",
    "    X=df.drop(columns=[target_id])\n",
    "    y=df[target_id]\n",
    "    \"\"\"\n",
    "    \n",
    "    \"\"\"\n",
    "    X = robust(X)\n",
    "    X= fillnaX(X)\n",
    "    \"\"\"\n",
    "    db = DBSCAN(eps = eps, min_samples = min_samples, metric= metric).fit(X) \n",
    "\n",
    "    cluster_labels = db.labels_\n",
    "    n_clusters = len(set(cluster_labels))\n",
    "    print(cluster_labels)\n",
    "    df = make_grade(df, n_clusters)\n",
    "    scatter_plot(df, cluster_labels)\n",
    "    \n",
    "    return calcAccuracy(cluster_labels, X,y)"
   ]
  },
  {
   "cell_type": "code",
   "execution_count": 19,
   "metadata": {},
   "outputs": [],
   "source": [
    "def runGMM(df, k):\n",
    "    df=make_grade(df,k)\n",
    "\n",
    "    X = df.drop(columns=[target_id])\n",
    "    y=df['grade']\n",
    "    \n",
    "   \n",
    "    #X= fillnaX(X)\n",
    "    gmm = GaussianMixture(n_components=k)\n",
    "    gmm.fit(X)\n",
    "\n",
    "    y_cluster_gmm = gmm.predict(X)\n",
    "    scatter_plot(df, y_cluster_gmm)\n",
    "\n",
    "    return calcAccuracy(y_cluster_gmm, X, y)"
   ]
  },
  {
   "cell_type": "code",
   "execution_count": 75,
   "metadata": {},
   "outputs": [],
   "source": [
    "def bestParmDBSCAN(df):\n",
    "    \n",
    "    eps=[10, 20, 30, 40, 50 ]\n",
    "    min_samples=[ 3, 5, 10, 15, 20, 30, 50, 100 ]\n",
    "    metric = ['euclidean', 'hamming']\n",
    "\n",
    "    X=df.drop(columns=['grade',target_id])\n",
    "        \n",
    "    best_score = 0\n",
    "    try:\n",
    "        for i in min_samples:\n",
    "            df = make_grade(df,i)\n",
    "            y=df['grade']\n",
    "            for j in eps:\n",
    "                for k in metric:\n",
    "                    print(i, j, k)\n",
    "                    db = DBSCAN(eps = i, min_samples = j, metric= k).fit(X) \n",
    "                    cluster_labels = db.labels_\n",
    "                    if len(set(cluster_labels)) == 1:\n",
    "                        print('one')\n",
    "                    else:\n",
    "                        score = silhouette_score(df, cluster_labels)\n",
    "                        print('silhoutte', score)\n",
    "                        if i==10 and j ==3 and metric == 'euclidean':\n",
    "                            best_score = score\n",
    "                            best_eps, best_min, best_metric = i,j,k\n",
    "                        if score >= best_score:\n",
    "                            best_score = score\n",
    "                            best_eps, best_min, best_metric = i,j,k\n",
    "    # cluster label 종류가 한개일때는 valueError가 나서 무시하게 함\n",
    "    except ValueError:\n",
    "        print('one')\n",
    "    return best_score, best_eps, best_min, best_metric"
   ]
  },
  {
   "cell_type": "code",
   "execution_count": 76,
   "metadata": {
    "collapsed": true
   },
   "outputs": [
    {
     "ename": "KeyError",
     "evalue": "\"['grade' 'Adolescent fertility rate (births per 1,000 women ages 15-19)'] not found in axis\"",
     "output_type": "error",
     "traceback": [
      "\u001b[1;31m---------------------------------------------------------------------------\u001b[0m",
      "\u001b[1;31mKeyError\u001b[0m                                  Traceback (most recent call last)",
      "\u001b[1;32m<ipython-input-76-e8f6986c683b>\u001b[0m in \u001b[0;36m<module>\u001b[1;34m\u001b[0m\n\u001b[1;32m----> 1\u001b[1;33m \u001b[0mbest_score\u001b[0m\u001b[1;33m,\u001b[0m \u001b[0mbest_eps\u001b[0m\u001b[1;33m,\u001b[0m \u001b[0mbest_min\u001b[0m\u001b[1;33m,\u001b[0m \u001b[0mbest_metric\u001b[0m \u001b[1;33m=\u001b[0m \u001b[0mbestParmDBSCAN\u001b[0m\u001b[1;33m(\u001b[0m\u001b[0mdf\u001b[0m\u001b[1;33m)\u001b[0m\u001b[1;33m\u001b[0m\u001b[1;33m\u001b[0m\u001b[0m\n\u001b[0m\u001b[0;32m      2\u001b[0m \u001b[0mprint\u001b[0m\u001b[1;33m(\u001b[0m\u001b[0mbest_score\u001b[0m\u001b[1;33m,\u001b[0m \u001b[0mbest_eps\u001b[0m\u001b[1;33m,\u001b[0m \u001b[0mbest_min\u001b[0m\u001b[1;33m,\u001b[0m \u001b[0mbest_metric\u001b[0m\u001b[1;33m)\u001b[0m\u001b[1;33m\u001b[0m\u001b[1;33m\u001b[0m\u001b[0m\n",
      "\u001b[1;32m<ipython-input-75-1f0548c9bdac>\u001b[0m in \u001b[0;36mbestParmDBSCAN\u001b[1;34m(df)\u001b[0m\n\u001b[0;32m      5\u001b[0m     \u001b[0mmetric\u001b[0m \u001b[1;33m=\u001b[0m \u001b[1;33m[\u001b[0m\u001b[1;34m'euclidean'\u001b[0m\u001b[1;33m,\u001b[0m \u001b[1;34m'hamming'\u001b[0m\u001b[1;33m]\u001b[0m\u001b[1;33m\u001b[0m\u001b[1;33m\u001b[0m\u001b[0m\n\u001b[0;32m      6\u001b[0m \u001b[1;33m\u001b[0m\u001b[0m\n\u001b[1;32m----> 7\u001b[1;33m     \u001b[0mX\u001b[0m\u001b[1;33m=\u001b[0m\u001b[0mdf\u001b[0m\u001b[1;33m.\u001b[0m\u001b[0mdrop\u001b[0m\u001b[1;33m(\u001b[0m\u001b[0mcolumns\u001b[0m\u001b[1;33m=\u001b[0m\u001b[1;33m[\u001b[0m\u001b[1;34m'grade'\u001b[0m\u001b[1;33m,\u001b[0m\u001b[0mtarget_id\u001b[0m\u001b[1;33m]\u001b[0m\u001b[1;33m)\u001b[0m\u001b[1;33m\u001b[0m\u001b[1;33m\u001b[0m\u001b[0m\n\u001b[0m\u001b[0;32m      8\u001b[0m \u001b[1;33m\u001b[0m\u001b[0m\n\u001b[0;32m      9\u001b[0m     \u001b[0mbest_score\u001b[0m \u001b[1;33m=\u001b[0m \u001b[1;36m0\u001b[0m\u001b[1;33m\u001b[0m\u001b[1;33m\u001b[0m\u001b[0m\n",
      "\u001b[1;32mc:\\users\\jinkyum\\appdata\\local\\programs\\python\\python37\\lib\\site-packages\\pandas\\core\\frame.py\u001b[0m in \u001b[0;36mdrop\u001b[1;34m(self, labels, axis, index, columns, level, inplace, errors)\u001b[0m\n\u001b[0;32m   4115\u001b[0m             \u001b[0mlevel\u001b[0m\u001b[1;33m=\u001b[0m\u001b[0mlevel\u001b[0m\u001b[1;33m,\u001b[0m\u001b[1;33m\u001b[0m\u001b[1;33m\u001b[0m\u001b[0m\n\u001b[0;32m   4116\u001b[0m             \u001b[0minplace\u001b[0m\u001b[1;33m=\u001b[0m\u001b[0minplace\u001b[0m\u001b[1;33m,\u001b[0m\u001b[1;33m\u001b[0m\u001b[1;33m\u001b[0m\u001b[0m\n\u001b[1;32m-> 4117\u001b[1;33m             \u001b[0merrors\u001b[0m\u001b[1;33m=\u001b[0m\u001b[0merrors\u001b[0m\u001b[1;33m,\u001b[0m\u001b[1;33m\u001b[0m\u001b[1;33m\u001b[0m\u001b[0m\n\u001b[0m\u001b[0;32m   4118\u001b[0m         )\n\u001b[0;32m   4119\u001b[0m \u001b[1;33m\u001b[0m\u001b[0m\n",
      "\u001b[1;32mc:\\users\\jinkyum\\appdata\\local\\programs\\python\\python37\\lib\\site-packages\\pandas\\core\\generic.py\u001b[0m in \u001b[0;36mdrop\u001b[1;34m(self, labels, axis, index, columns, level, inplace, errors)\u001b[0m\n\u001b[0;32m   3912\u001b[0m         \u001b[1;32mfor\u001b[0m \u001b[0maxis\u001b[0m\u001b[1;33m,\u001b[0m \u001b[0mlabels\u001b[0m \u001b[1;32min\u001b[0m \u001b[0maxes\u001b[0m\u001b[1;33m.\u001b[0m\u001b[0mitems\u001b[0m\u001b[1;33m(\u001b[0m\u001b[1;33m)\u001b[0m\u001b[1;33m:\u001b[0m\u001b[1;33m\u001b[0m\u001b[1;33m\u001b[0m\u001b[0m\n\u001b[0;32m   3913\u001b[0m             \u001b[1;32mif\u001b[0m \u001b[0mlabels\u001b[0m \u001b[1;32mis\u001b[0m \u001b[1;32mnot\u001b[0m \u001b[1;32mNone\u001b[0m\u001b[1;33m:\u001b[0m\u001b[1;33m\u001b[0m\u001b[1;33m\u001b[0m\u001b[0m\n\u001b[1;32m-> 3914\u001b[1;33m                 \u001b[0mobj\u001b[0m \u001b[1;33m=\u001b[0m \u001b[0mobj\u001b[0m\u001b[1;33m.\u001b[0m\u001b[0m_drop_axis\u001b[0m\u001b[1;33m(\u001b[0m\u001b[0mlabels\u001b[0m\u001b[1;33m,\u001b[0m \u001b[0maxis\u001b[0m\u001b[1;33m,\u001b[0m \u001b[0mlevel\u001b[0m\u001b[1;33m=\u001b[0m\u001b[0mlevel\u001b[0m\u001b[1;33m,\u001b[0m \u001b[0merrors\u001b[0m\u001b[1;33m=\u001b[0m\u001b[0merrors\u001b[0m\u001b[1;33m)\u001b[0m\u001b[1;33m\u001b[0m\u001b[1;33m\u001b[0m\u001b[0m\n\u001b[0m\u001b[0;32m   3915\u001b[0m \u001b[1;33m\u001b[0m\u001b[0m\n\u001b[0;32m   3916\u001b[0m         \u001b[1;32mif\u001b[0m \u001b[0minplace\u001b[0m\u001b[1;33m:\u001b[0m\u001b[1;33m\u001b[0m\u001b[1;33m\u001b[0m\u001b[0m\n",
      "\u001b[1;32mc:\\users\\jinkyum\\appdata\\local\\programs\\python\\python37\\lib\\site-packages\\pandas\\core\\generic.py\u001b[0m in \u001b[0;36m_drop_axis\u001b[1;34m(self, labels, axis, level, errors)\u001b[0m\n\u001b[0;32m   3944\u001b[0m                 \u001b[0mnew_axis\u001b[0m \u001b[1;33m=\u001b[0m \u001b[0maxis\u001b[0m\u001b[1;33m.\u001b[0m\u001b[0mdrop\u001b[0m\u001b[1;33m(\u001b[0m\u001b[0mlabels\u001b[0m\u001b[1;33m,\u001b[0m \u001b[0mlevel\u001b[0m\u001b[1;33m=\u001b[0m\u001b[0mlevel\u001b[0m\u001b[1;33m,\u001b[0m \u001b[0merrors\u001b[0m\u001b[1;33m=\u001b[0m\u001b[0merrors\u001b[0m\u001b[1;33m)\u001b[0m\u001b[1;33m\u001b[0m\u001b[1;33m\u001b[0m\u001b[0m\n\u001b[0;32m   3945\u001b[0m             \u001b[1;32melse\u001b[0m\u001b[1;33m:\u001b[0m\u001b[1;33m\u001b[0m\u001b[1;33m\u001b[0m\u001b[0m\n\u001b[1;32m-> 3946\u001b[1;33m                 \u001b[0mnew_axis\u001b[0m \u001b[1;33m=\u001b[0m \u001b[0maxis\u001b[0m\u001b[1;33m.\u001b[0m\u001b[0mdrop\u001b[0m\u001b[1;33m(\u001b[0m\u001b[0mlabels\u001b[0m\u001b[1;33m,\u001b[0m \u001b[0merrors\u001b[0m\u001b[1;33m=\u001b[0m\u001b[0merrors\u001b[0m\u001b[1;33m)\u001b[0m\u001b[1;33m\u001b[0m\u001b[1;33m\u001b[0m\u001b[0m\n\u001b[0m\u001b[0;32m   3947\u001b[0m             \u001b[0mresult\u001b[0m \u001b[1;33m=\u001b[0m \u001b[0mself\u001b[0m\u001b[1;33m.\u001b[0m\u001b[0mreindex\u001b[0m\u001b[1;33m(\u001b[0m\u001b[1;33m**\u001b[0m\u001b[1;33m{\u001b[0m\u001b[0maxis_name\u001b[0m\u001b[1;33m:\u001b[0m \u001b[0mnew_axis\u001b[0m\u001b[1;33m}\u001b[0m\u001b[1;33m)\u001b[0m\u001b[1;33m\u001b[0m\u001b[1;33m\u001b[0m\u001b[0m\n\u001b[0;32m   3948\u001b[0m \u001b[1;33m\u001b[0m\u001b[0m\n",
      "\u001b[1;32mc:\\users\\jinkyum\\appdata\\local\\programs\\python\\python37\\lib\\site-packages\\pandas\\core\\indexes\\base.py\u001b[0m in \u001b[0;36mdrop\u001b[1;34m(self, labels, errors)\u001b[0m\n\u001b[0;32m   5338\u001b[0m         \u001b[1;32mif\u001b[0m \u001b[0mmask\u001b[0m\u001b[1;33m.\u001b[0m\u001b[0many\u001b[0m\u001b[1;33m(\u001b[0m\u001b[1;33m)\u001b[0m\u001b[1;33m:\u001b[0m\u001b[1;33m\u001b[0m\u001b[1;33m\u001b[0m\u001b[0m\n\u001b[0;32m   5339\u001b[0m             \u001b[1;32mif\u001b[0m \u001b[0merrors\u001b[0m \u001b[1;33m!=\u001b[0m \u001b[1;34m\"ignore\"\u001b[0m\u001b[1;33m:\u001b[0m\u001b[1;33m\u001b[0m\u001b[1;33m\u001b[0m\u001b[0m\n\u001b[1;32m-> 5340\u001b[1;33m                 \u001b[1;32mraise\u001b[0m \u001b[0mKeyError\u001b[0m\u001b[1;33m(\u001b[0m\u001b[1;34m\"{} not found in axis\"\u001b[0m\u001b[1;33m.\u001b[0m\u001b[0mformat\u001b[0m\u001b[1;33m(\u001b[0m\u001b[0mlabels\u001b[0m\u001b[1;33m[\u001b[0m\u001b[0mmask\u001b[0m\u001b[1;33m]\u001b[0m\u001b[1;33m)\u001b[0m\u001b[1;33m)\u001b[0m\u001b[1;33m\u001b[0m\u001b[1;33m\u001b[0m\u001b[0m\n\u001b[0m\u001b[0;32m   5341\u001b[0m             \u001b[0mindexer\u001b[0m \u001b[1;33m=\u001b[0m \u001b[0mindexer\u001b[0m\u001b[1;33m[\u001b[0m\u001b[1;33m~\u001b[0m\u001b[0mmask\u001b[0m\u001b[1;33m]\u001b[0m\u001b[1;33m\u001b[0m\u001b[1;33m\u001b[0m\u001b[0m\n\u001b[0;32m   5342\u001b[0m         \u001b[1;32mreturn\u001b[0m \u001b[0mself\u001b[0m\u001b[1;33m.\u001b[0m\u001b[0mdelete\u001b[0m\u001b[1;33m(\u001b[0m\u001b[0mindexer\u001b[0m\u001b[1;33m)\u001b[0m\u001b[1;33m\u001b[0m\u001b[1;33m\u001b[0m\u001b[0m\n",
      "\u001b[1;31mKeyError\u001b[0m: \"['grade' 'Adolescent fertility rate (births per 1,000 women ages 15-19)'] not found in axis\""
     ]
    }
   ],
   "source": [
    "best_score, best_eps, best_min, best_metric = bestParmDBSCAN(df)\n",
    "print(best_score, best_eps, best_min, best_metric)"
   ]
  },
  {
   "cell_type": "code",
   "execution_count": 20,
   "metadata": {},
   "outputs": [],
   "source": [
    "def mode(x):\n",
    "    return sp.stats.mode(x)[0][0]"
   ]
  },
  {
   "cell_type": "code",
   "execution_count": 127,
   "metadata": {},
   "outputs": [],
   "source": [
    "def scatter_plot(df, predict):\n",
    "    plt.figure(figsize=(15,5))\n",
    "    for i in range(len(set(predict))):\n",
    "        value = []\n",
    "        for j in range(len(df)):\n",
    "            if predict[j] == i:\n",
    "                value.append(df.iloc[j][target_id])\n",
    "        grade = [i]*len(value)\n",
    "        sns.scatterplot(value, grade, alpha=0.3)\n",
    "    plt.show()\n"
   ]
  },
  {
   "cell_type": "code",
   "execution_count": 84,
   "metadata": {},
   "outputs": [],
   "source": [
    "def plotCluster(df,predict,model):\n",
    "    df_plot=df.copy()\n",
    "    country=list()\n",
    "    for i in range(len(df)):\n",
    "        country.append(df.index.array[i].split(\"_\")[0])\n",
    "    df_plot['country']=country\n",
    "    \n",
    "    if model!=\"origin\":\n",
    "        df_plot['predict']=label\n",
    "        df_plot.groupby('country').agg(mode)\n",
    "        title=\"Clustering of Countries based on\"+model\n",
    "        ti=np.unique(label)\n",
    "        d=dict(type='choropleth',locations=df_plot.index,locationmode=\"country names\",\n",
    "               z=df_plot['predict'],text=df_plot.index,colorbar={\"title\":\"cluster\",\"tickmode\":\"array\",\"tickvals\":ti},\n",
    "               colorscale=\"Viridis\" \n",
    "              )\n",
    "    else:\n",
    "        df_plot=df_plot.groupby('country').mean()\n",
    "        d=dict(type='choropleth',locations=df_plot.index,locationmode=\"country names\",\n",
    "           z=df_plot[target_id],text=df_plot.index,colorbar={\"title\":\"f\" ,\"tickmode\":\"array\",\"tickvals\":[0,20,40,60,80,100,120,140,160,180,200]},\n",
    "           colorscale=\"Viridis\"\n",
    "          )\n",
    "        title=target_id\n",
    "    layout = dict(title=title,height=500,\n",
    "                  geo=dict(showframe = False,\n",
    "                           projection = {'type':'mercator'}))\n",
    "    go.Figure(data=[d],layout=layout).show()"
   ]
  },
  {
   "cell_type": "code",
   "execution_count": 92,
   "metadata": {
    "collapsed": true
   },
   "outputs": [
    {
     "data": {
      "text/html": [
       "<div>\n",
       "<style scoped>\n",
       "    .dataframe tbody tr th:only-of-type {\n",
       "        vertical-align: middle;\n",
       "    }\n",
       "\n",
       "    .dataframe tbody tr th {\n",
       "        vertical-align: top;\n",
       "    }\n",
       "\n",
       "    .dataframe thead th {\n",
       "        text-align: right;\n",
       "    }\n",
       "</style>\n",
       "<table border=\"1\" class=\"dataframe\">\n",
       "  <thead>\n",
       "    <tr style=\"text-align: right;\">\n",
       "      <th>IndicatorName</th>\n",
       "      <th>Adjusted net national income (current US$)</th>\n",
       "      <th>Adolescent fertility rate (births per 1,000 women ages 15-19)</th>\n",
       "      <th>Age dependency ratio, young (% of working-age population)</th>\n",
       "      <th>Birth rate, crude (per 1,000 people)</th>\n",
       "      <th>CPIA gender equality rating (1=low to 6=high)</th>\n",
       "      <th>GDP (constant LCU)</th>\n",
       "      <th>Improved water source (% of population with access)</th>\n",
       "      <th>Improved water source, rural (% of rural population with access)</th>\n",
       "      <th>Life expectancy at birth, total (years)</th>\n",
       "      <th>Lifetime risk of maternal death (%)</th>\n",
       "      <th>Mortality rate, adult, female (per 1,000 female adults)</th>\n",
       "      <th>Net enrolment rate, secondary, both sexes (%)</th>\n",
       "      <th>Net enrolment rate, secondary, female (%)</th>\n",
       "      <th>Net enrolment rate, secondary, male (%)</th>\n",
       "      <th>Population, ages 0-14 (% of total)</th>\n",
       "      <th>Prevalence of anemia among children (% of children under 5)</th>\n",
       "      <th>Survival to age 65, female (% of cohort)</th>\n",
       "    </tr>\n",
       "    <tr>\n",
       "      <th>name</th>\n",
       "      <th></th>\n",
       "      <th></th>\n",
       "      <th></th>\n",
       "      <th></th>\n",
       "      <th></th>\n",
       "      <th></th>\n",
       "      <th></th>\n",
       "      <th></th>\n",
       "      <th></th>\n",
       "      <th></th>\n",
       "      <th></th>\n",
       "      <th></th>\n",
       "      <th></th>\n",
       "      <th></th>\n",
       "      <th></th>\n",
       "      <th></th>\n",
       "      <th></th>\n",
       "    </tr>\n",
       "  </thead>\n",
       "  <tbody>\n",
       "    <tr>\n",
       "      <th>Afghanistan_2006</th>\n",
       "      <td>6.391802e+09</td>\n",
       "      <td>123.1616</td>\n",
       "      <td>95.189611</td>\n",
       "      <td>43.893</td>\n",
       "      <td>2.0</td>\n",
       "      <td>2.385196e+11</td>\n",
       "      <td>40.8</td>\n",
       "      <td>34.0</td>\n",
       "      <td>57.432561</td>\n",
       "      <td>5.215934</td>\n",
       "      <td>269.281</td>\n",
       "      <td>27.024059</td>\n",
       "      <td>14.483140</td>\n",
       "      <td>39.084930</td>\n",
       "      <td>47.696334</td>\n",
       "      <td>41.9</td>\n",
       "      <td>56.34296</td>\n",
       "    </tr>\n",
       "    <tr>\n",
       "      <th>Afghanistan_2007</th>\n",
       "      <td>8.915827e+09</td>\n",
       "      <td>117.3900</td>\n",
       "      <td>95.573791</td>\n",
       "      <td>42.779</td>\n",
       "      <td>2.0</td>\n",
       "      <td>2.712927e+11</td>\n",
       "      <td>42.6</td>\n",
       "      <td>35.6</td>\n",
       "      <td>57.833829</td>\n",
       "      <td>4.768727</td>\n",
       "      <td>264.908</td>\n",
       "      <td>27.024059</td>\n",
       "      <td>14.483140</td>\n",
       "      <td>39.084930</td>\n",
       "      <td>47.786807</td>\n",
       "      <td>42.0</td>\n",
       "      <td>56.98872</td>\n",
       "    </tr>\n",
       "    <tr>\n",
       "      <th>Afghanistan_2008</th>\n",
       "      <td>9.156321e+09</td>\n",
       "      <td>111.4708</td>\n",
       "      <td>95.753705</td>\n",
       "      <td>41.560</td>\n",
       "      <td>2.0</td>\n",
       "      <td>2.810901e+11</td>\n",
       "      <td>44.4</td>\n",
       "      <td>37.3</td>\n",
       "      <td>58.225024</td>\n",
       "      <td>4.363613</td>\n",
       "      <td>261.025</td>\n",
       "      <td>30.324249</td>\n",
       "      <td>17.597977</td>\n",
       "      <td>42.551494</td>\n",
       "      <td>47.825228</td>\n",
       "      <td>42.4</td>\n",
       "      <td>57.57401</td>\n",
       "    </tr>\n",
       "    <tr>\n",
       "      <th>Afghanistan_2009</th>\n",
       "      <td>1.129889e+10</td>\n",
       "      <td>105.5516</td>\n",
       "      <td>95.562245</td>\n",
       "      <td>40.265</td>\n",
       "      <td>2.0</td>\n",
       "      <td>3.401770e+11</td>\n",
       "      <td>46.2</td>\n",
       "      <td>38.9</td>\n",
       "      <td>58.603683</td>\n",
       "      <td>3.962105</td>\n",
       "      <td>257.142</td>\n",
       "      <td>33.624439</td>\n",
       "      <td>20.712814</td>\n",
       "      <td>46.018058</td>\n",
       "      <td>47.766678</td>\n",
       "      <td>42.8</td>\n",
       "      <td>58.15931</td>\n",
       "    </tr>\n",
       "    <tr>\n",
       "      <th>Afghanistan_2010</th>\n",
       "      <td>1.427348e+10</td>\n",
       "      <td>99.6324</td>\n",
       "      <td>94.921630</td>\n",
       "      <td>38.940</td>\n",
       "      <td>2.0</td>\n",
       "      <td>3.688652e+11</td>\n",
       "      <td>48.0</td>\n",
       "      <td>40.5</td>\n",
       "      <td>58.970829</td>\n",
       "      <td>3.543144</td>\n",
       "      <td>253.259</td>\n",
       "      <td>36.924629</td>\n",
       "      <td>23.827651</td>\n",
       "      <td>49.484621</td>\n",
       "      <td>47.589344</td>\n",
       "      <td>43.6</td>\n",
       "      <td>58.74461</td>\n",
       "    </tr>\n",
       "    <tr>\n",
       "      <th>...</th>\n",
       "      <td>...</td>\n",
       "      <td>...</td>\n",
       "      <td>...</td>\n",
       "      <td>...</td>\n",
       "      <td>...</td>\n",
       "      <td>...</td>\n",
       "      <td>...</td>\n",
       "      <td>...</td>\n",
       "      <td>...</td>\n",
       "      <td>...</td>\n",
       "      <td>...</td>\n",
       "      <td>...</td>\n",
       "      <td>...</td>\n",
       "      <td>...</td>\n",
       "      <td>...</td>\n",
       "      <td>...</td>\n",
       "      <td>...</td>\n",
       "    </tr>\n",
       "    <tr>\n",
       "      <th>Zimbabwe_2009</th>\n",
       "      <td>8.421641e+09</td>\n",
       "      <td>115.8354</td>\n",
       "      <td>75.051422</td>\n",
       "      <td>36.094</td>\n",
       "      <td>2.5</td>\n",
       "      <td>8.157077e+09</td>\n",
       "      <td>78.0</td>\n",
       "      <td>68.2</td>\n",
       "      <td>47.624659</td>\n",
       "      <td>2.005713</td>\n",
       "      <td>597.303</td>\n",
       "      <td>43.547720</td>\n",
       "      <td>42.035490</td>\n",
       "      <td>45.000445</td>\n",
       "      <td>41.479777</td>\n",
       "      <td>57.5</td>\n",
       "      <td>32.11813</td>\n",
       "    </tr>\n",
       "    <tr>\n",
       "      <th>Zimbabwe_2010</th>\n",
       "      <td>8.888351e+09</td>\n",
       "      <td>115.0006</td>\n",
       "      <td>75.172643</td>\n",
       "      <td>36.267</td>\n",
       "      <td>2.5</td>\n",
       "      <td>9.085020e+09</td>\n",
       "      <td>77.9</td>\n",
       "      <td>68.1</td>\n",
       "      <td>49.574659</td>\n",
       "      <td>1.917720</td>\n",
       "      <td>548.219</td>\n",
       "      <td>43.644610</td>\n",
       "      <td>42.680467</td>\n",
       "      <td>44.569070</td>\n",
       "      <td>41.535128</td>\n",
       "      <td>58.4</td>\n",
       "      <td>36.46822</td>\n",
       "    </tr>\n",
       "    <tr>\n",
       "      <th>Zimbabwe_2011</th>\n",
       "      <td>9.433701e+09</td>\n",
       "      <td>114.1658</td>\n",
       "      <td>75.011607</td>\n",
       "      <td>36.264</td>\n",
       "      <td>3.0</td>\n",
       "      <td>1.016663e+10</td>\n",
       "      <td>77.7</td>\n",
       "      <td>67.9</td>\n",
       "      <td>51.600366</td>\n",
       "      <td>1.807816</td>\n",
       "      <td>499.136</td>\n",
       "      <td>43.741500</td>\n",
       "      <td>43.325444</td>\n",
       "      <td>44.137696</td>\n",
       "      <td>41.502380</td>\n",
       "      <td>59.0</td>\n",
       "      <td>40.81831</td>\n",
       "    </tr>\n",
       "    <tr>\n",
       "      <th>Zimbabwe_2012</th>\n",
       "      <td>1.082837e+10</td>\n",
       "      <td>113.3310</td>\n",
       "      <td>74.957283</td>\n",
       "      <td>36.077</td>\n",
       "      <td>3.0</td>\n",
       "      <td>1.124075e+10</td>\n",
       "      <td>77.5</td>\n",
       "      <td>67.8</td>\n",
       "      <td>53.643073</td>\n",
       "      <td>1.718034</td>\n",
       "      <td>450.052</td>\n",
       "      <td>43.838390</td>\n",
       "      <td>43.970421</td>\n",
       "      <td>43.706322</td>\n",
       "      <td>41.509213</td>\n",
       "      <td>59.0</td>\n",
       "      <td>45.16841</td>\n",
       "    </tr>\n",
       "    <tr>\n",
       "      <th>Zimbabwe_2013</th>\n",
       "      <td>1.183453e+10</td>\n",
       "      <td>111.8664</td>\n",
       "      <td>74.988887</td>\n",
       "      <td>35.715</td>\n",
       "      <td>3.0</td>\n",
       "      <td>1.174480e+10</td>\n",
       "      <td>77.3</td>\n",
       "      <td>67.6</td>\n",
       "      <td>55.633000</td>\n",
       "      <td>1.669140</td>\n",
       "      <td>415.875</td>\n",
       "      <td>43.838390</td>\n",
       "      <td>43.970421</td>\n",
       "      <td>43.706322</td>\n",
       "      <td>41.545132</td>\n",
       "      <td>59.0</td>\n",
       "      <td>48.49746</td>\n",
       "    </tr>\n",
       "  </tbody>\n",
       "</table>\n",
       "<p>1960 rows × 17 columns</p>\n",
       "</div>"
      ],
      "text/plain": [
       "IndicatorName     Adjusted net national income (current US$)  \\\n",
       "name                                                           \n",
       "Afghanistan_2006                                6.391802e+09   \n",
       "Afghanistan_2007                                8.915827e+09   \n",
       "Afghanistan_2008                                9.156321e+09   \n",
       "Afghanistan_2009                                1.129889e+10   \n",
       "Afghanistan_2010                                1.427348e+10   \n",
       "...                                                      ...   \n",
       "Zimbabwe_2009                                   8.421641e+09   \n",
       "Zimbabwe_2010                                   8.888351e+09   \n",
       "Zimbabwe_2011                                   9.433701e+09   \n",
       "Zimbabwe_2012                                   1.082837e+10   \n",
       "Zimbabwe_2013                                   1.183453e+10   \n",
       "\n",
       "IndicatorName     Adolescent fertility rate (births per 1,000 women ages 15-19)  \\\n",
       "name                                                                              \n",
       "Afghanistan_2006                                           123.1616               \n",
       "Afghanistan_2007                                           117.3900               \n",
       "Afghanistan_2008                                           111.4708               \n",
       "Afghanistan_2009                                           105.5516               \n",
       "Afghanistan_2010                                            99.6324               \n",
       "...                                                             ...               \n",
       "Zimbabwe_2009                                              115.8354               \n",
       "Zimbabwe_2010                                              115.0006               \n",
       "Zimbabwe_2011                                              114.1658               \n",
       "Zimbabwe_2012                                              113.3310               \n",
       "Zimbabwe_2013                                              111.8664               \n",
       "\n",
       "IndicatorName     Age dependency ratio, young (% of working-age population)  \\\n",
       "name                                                                          \n",
       "Afghanistan_2006                                          95.189611           \n",
       "Afghanistan_2007                                          95.573791           \n",
       "Afghanistan_2008                                          95.753705           \n",
       "Afghanistan_2009                                          95.562245           \n",
       "Afghanistan_2010                                          94.921630           \n",
       "...                                                             ...           \n",
       "Zimbabwe_2009                                             75.051422           \n",
       "Zimbabwe_2010                                             75.172643           \n",
       "Zimbabwe_2011                                             75.011607           \n",
       "Zimbabwe_2012                                             74.957283           \n",
       "Zimbabwe_2013                                             74.988887           \n",
       "\n",
       "IndicatorName     Birth rate, crude (per 1,000 people)  \\\n",
       "name                                                     \n",
       "Afghanistan_2006                                43.893   \n",
       "Afghanistan_2007                                42.779   \n",
       "Afghanistan_2008                                41.560   \n",
       "Afghanistan_2009                                40.265   \n",
       "Afghanistan_2010                                38.940   \n",
       "...                                                ...   \n",
       "Zimbabwe_2009                                   36.094   \n",
       "Zimbabwe_2010                                   36.267   \n",
       "Zimbabwe_2011                                   36.264   \n",
       "Zimbabwe_2012                                   36.077   \n",
       "Zimbabwe_2013                                   35.715   \n",
       "\n",
       "IndicatorName     CPIA gender equality rating (1=low to 6=high)  \\\n",
       "name                                                              \n",
       "Afghanistan_2006                                            2.0   \n",
       "Afghanistan_2007                                            2.0   \n",
       "Afghanistan_2008                                            2.0   \n",
       "Afghanistan_2009                                            2.0   \n",
       "Afghanistan_2010                                            2.0   \n",
       "...                                                         ...   \n",
       "Zimbabwe_2009                                               2.5   \n",
       "Zimbabwe_2010                                               2.5   \n",
       "Zimbabwe_2011                                               3.0   \n",
       "Zimbabwe_2012                                               3.0   \n",
       "Zimbabwe_2013                                               3.0   \n",
       "\n",
       "IndicatorName     GDP (constant LCU)  \\\n",
       "name                                   \n",
       "Afghanistan_2006        2.385196e+11   \n",
       "Afghanistan_2007        2.712927e+11   \n",
       "Afghanistan_2008        2.810901e+11   \n",
       "Afghanistan_2009        3.401770e+11   \n",
       "Afghanistan_2010        3.688652e+11   \n",
       "...                              ...   \n",
       "Zimbabwe_2009           8.157077e+09   \n",
       "Zimbabwe_2010           9.085020e+09   \n",
       "Zimbabwe_2011           1.016663e+10   \n",
       "Zimbabwe_2012           1.124075e+10   \n",
       "Zimbabwe_2013           1.174480e+10   \n",
       "\n",
       "IndicatorName     Improved water source (% of population with access)  \\\n",
       "name                                                                    \n",
       "Afghanistan_2006                                               40.8     \n",
       "Afghanistan_2007                                               42.6     \n",
       "Afghanistan_2008                                               44.4     \n",
       "Afghanistan_2009                                               46.2     \n",
       "Afghanistan_2010                                               48.0     \n",
       "...                                                             ...     \n",
       "Zimbabwe_2009                                                  78.0     \n",
       "Zimbabwe_2010                                                  77.9     \n",
       "Zimbabwe_2011                                                  77.7     \n",
       "Zimbabwe_2012                                                  77.5     \n",
       "Zimbabwe_2013                                                  77.3     \n",
       "\n",
       "IndicatorName     Improved water source, rural (% of rural population with access)  \\\n",
       "name                                                                                 \n",
       "Afghanistan_2006                                               34.0                  \n",
       "Afghanistan_2007                                               35.6                  \n",
       "Afghanistan_2008                                               37.3                  \n",
       "Afghanistan_2009                                               38.9                  \n",
       "Afghanistan_2010                                               40.5                  \n",
       "...                                                             ...                  \n",
       "Zimbabwe_2009                                                  68.2                  \n",
       "Zimbabwe_2010                                                  68.1                  \n",
       "Zimbabwe_2011                                                  67.9                  \n",
       "Zimbabwe_2012                                                  67.8                  \n",
       "Zimbabwe_2013                                                  67.6                  \n",
       "\n",
       "IndicatorName     Life expectancy at birth, total (years)  \\\n",
       "name                                                        \n",
       "Afghanistan_2006                                57.432561   \n",
       "Afghanistan_2007                                57.833829   \n",
       "Afghanistan_2008                                58.225024   \n",
       "Afghanistan_2009                                58.603683   \n",
       "Afghanistan_2010                                58.970829   \n",
       "...                                                   ...   \n",
       "Zimbabwe_2009                                   47.624659   \n",
       "Zimbabwe_2010                                   49.574659   \n",
       "Zimbabwe_2011                                   51.600366   \n",
       "Zimbabwe_2012                                   53.643073   \n",
       "Zimbabwe_2013                                   55.633000   \n",
       "\n",
       "IndicatorName     Lifetime risk of maternal death (%)  \\\n",
       "name                                                    \n",
       "Afghanistan_2006                             5.215934   \n",
       "Afghanistan_2007                             4.768727   \n",
       "Afghanistan_2008                             4.363613   \n",
       "Afghanistan_2009                             3.962105   \n",
       "Afghanistan_2010                             3.543144   \n",
       "...                                               ...   \n",
       "Zimbabwe_2009                                2.005713   \n",
       "Zimbabwe_2010                                1.917720   \n",
       "Zimbabwe_2011                                1.807816   \n",
       "Zimbabwe_2012                                1.718034   \n",
       "Zimbabwe_2013                                1.669140   \n",
       "\n",
       "IndicatorName     Mortality rate, adult, female (per 1,000 female adults)  \\\n",
       "name                                                                        \n",
       "Afghanistan_2006                                            269.281         \n",
       "Afghanistan_2007                                            264.908         \n",
       "Afghanistan_2008                                            261.025         \n",
       "Afghanistan_2009                                            257.142         \n",
       "Afghanistan_2010                                            253.259         \n",
       "...                                                             ...         \n",
       "Zimbabwe_2009                                               597.303         \n",
       "Zimbabwe_2010                                               548.219         \n",
       "Zimbabwe_2011                                               499.136         \n",
       "Zimbabwe_2012                                               450.052         \n",
       "Zimbabwe_2013                                               415.875         \n",
       "\n",
       "IndicatorName     Net enrolment rate, secondary, both sexes (%)  \\\n",
       "name                                                              \n",
       "Afghanistan_2006                                      27.024059   \n",
       "Afghanistan_2007                                      27.024059   \n",
       "Afghanistan_2008                                      30.324249   \n",
       "Afghanistan_2009                                      33.624439   \n",
       "Afghanistan_2010                                      36.924629   \n",
       "...                                                         ...   \n",
       "Zimbabwe_2009                                         43.547720   \n",
       "Zimbabwe_2010                                         43.644610   \n",
       "Zimbabwe_2011                                         43.741500   \n",
       "Zimbabwe_2012                                         43.838390   \n",
       "Zimbabwe_2013                                         43.838390   \n",
       "\n",
       "IndicatorName     Net enrolment rate, secondary, female (%)  \\\n",
       "name                                                          \n",
       "Afghanistan_2006                                  14.483140   \n",
       "Afghanistan_2007                                  14.483140   \n",
       "Afghanistan_2008                                  17.597977   \n",
       "Afghanistan_2009                                  20.712814   \n",
       "Afghanistan_2010                                  23.827651   \n",
       "...                                                     ...   \n",
       "Zimbabwe_2009                                     42.035490   \n",
       "Zimbabwe_2010                                     42.680467   \n",
       "Zimbabwe_2011                                     43.325444   \n",
       "Zimbabwe_2012                                     43.970421   \n",
       "Zimbabwe_2013                                     43.970421   \n",
       "\n",
       "IndicatorName     Net enrolment rate, secondary, male (%)  \\\n",
       "name                                                        \n",
       "Afghanistan_2006                                39.084930   \n",
       "Afghanistan_2007                                39.084930   \n",
       "Afghanistan_2008                                42.551494   \n",
       "Afghanistan_2009                                46.018058   \n",
       "Afghanistan_2010                                49.484621   \n",
       "...                                                   ...   \n",
       "Zimbabwe_2009                                   45.000445   \n",
       "Zimbabwe_2010                                   44.569070   \n",
       "Zimbabwe_2011                                   44.137696   \n",
       "Zimbabwe_2012                                   43.706322   \n",
       "Zimbabwe_2013                                   43.706322   \n",
       "\n",
       "IndicatorName     Population, ages 0-14 (% of total)  \\\n",
       "name                                                   \n",
       "Afghanistan_2006                           47.696334   \n",
       "Afghanistan_2007                           47.786807   \n",
       "Afghanistan_2008                           47.825228   \n",
       "Afghanistan_2009                           47.766678   \n",
       "Afghanistan_2010                           47.589344   \n",
       "...                                              ...   \n",
       "Zimbabwe_2009                              41.479777   \n",
       "Zimbabwe_2010                              41.535128   \n",
       "Zimbabwe_2011                              41.502380   \n",
       "Zimbabwe_2012                              41.509213   \n",
       "Zimbabwe_2013                              41.545132   \n",
       "\n",
       "IndicatorName     Prevalence of anemia among children (% of children under 5)  \\\n",
       "name                                                                            \n",
       "Afghanistan_2006                                               41.9             \n",
       "Afghanistan_2007                                               42.0             \n",
       "Afghanistan_2008                                               42.4             \n",
       "Afghanistan_2009                                               42.8             \n",
       "Afghanistan_2010                                               43.6             \n",
       "...                                                             ...             \n",
       "Zimbabwe_2009                                                  57.5             \n",
       "Zimbabwe_2010                                                  58.4             \n",
       "Zimbabwe_2011                                                  59.0             \n",
       "Zimbabwe_2012                                                  59.0             \n",
       "Zimbabwe_2013                                                  59.0             \n",
       "\n",
       "IndicatorName     Survival to age 65, female (% of cohort)  \n",
       "name                                                        \n",
       "Afghanistan_2006                                  56.34296  \n",
       "Afghanistan_2007                                  56.98872  \n",
       "Afghanistan_2008                                  57.57401  \n",
       "Afghanistan_2009                                  58.15931  \n",
       "Afghanistan_2010                                  58.74461  \n",
       "...                                                    ...  \n",
       "Zimbabwe_2009                                     32.11813  \n",
       "Zimbabwe_2010                                     36.46822  \n",
       "Zimbabwe_2011                                     40.81831  \n",
       "Zimbabwe_2012                                     45.16841  \n",
       "Zimbabwe_2013                                     48.49746  \n",
       "\n",
       "[1960 rows x 17 columns]"
      ]
     },
     "execution_count": 92,
     "metadata": {},
     "output_type": "execute_result"
    }
   ],
   "source": [
    "df=transformDf(data,feature,True)\n",
    "df=preprocessingMissing(df)\n",
    "df\n"
   ]
  },
  {
   "cell_type": "code",
   "execution_count": 93,
   "metadata": {
    "collapsed": true
   },
   "outputs": [
    {
     "data": {
      "application/vnd.plotly.v1+json": {
       "config": {
        "plotlyServerURL": "https://plot.ly"
       },
       "data": [
        {
         "colorbar": {
          "tickmode": "array",
          "tickvals": [
           0,
           20,
           40,
           60,
           80,
           100,
           120,
           140,
           160,
           180,
           200
          ],
          "title": {
           "text": "f"
          }
         },
         "colorscale": [
          [
           0,
           "#440154"
          ],
          [
           0.1111111111111111,
           "#482878"
          ],
          [
           0.2222222222222222,
           "#3e4989"
          ],
          [
           0.3333333333333333,
           "#31688e"
          ],
          [
           0.4444444444444444,
           "#26828e"
          ],
          [
           0.5555555555555556,
           "#1f9e89"
          ],
          [
           0.6666666666666666,
           "#35b779"
          ],
          [
           0.7777777777777778,
           "#6ece58"
          ],
          [
           0.8888888888888888,
           "#b5de2b"
          ],
          [
           1,
           "#fde725"
          ]
         ],
         "locationmode": "country names",
         "locations": [
          "Afghanistan",
          "Albania",
          "Algeria",
          "American Samoa",
          "Andorra",
          "Angola",
          "Antigua and Barbuda",
          "Arab World",
          "Argentina",
          "Armenia",
          "Aruba",
          "Australia",
          "Austria",
          "Azerbaijan",
          "Bahamas, The",
          "Bahrain",
          "Bangladesh",
          "Barbados",
          "Belarus",
          "Belgium",
          "Belize",
          "Benin",
          "Bermuda",
          "Bhutan",
          "Bolivia",
          "Bosnia and Herzegovina",
          "Botswana",
          "Brazil",
          "Brunei Darussalam",
          "Bulgaria",
          "Burkina Faso",
          "Burundi",
          "Cabo Verde",
          "Cambodia",
          "Cameroon",
          "Canada",
          "Caribbean small states",
          "Cayman Islands",
          "Central African Republic",
          "Central Europe and the Baltics",
          "Chad",
          "Channel Islands",
          "Chile",
          "China",
          "Colombia",
          "Comoros",
          "Congo, Dem. Rep.",
          "Congo, Rep.",
          "Costa Rica",
          "Cote d'Ivoire",
          "Croatia",
          "Cuba",
          "Curacao",
          "Cyprus",
          "Czech Republic",
          "Denmark",
          "Djibouti",
          "Dominica",
          "Dominican Republic",
          "East Asia & Pacific (all income levels)",
          "East Asia & Pacific (developing only)",
          "Ecuador",
          "Egypt, Arab Rep.",
          "El Salvador",
          "Equatorial Guinea",
          "Eritrea",
          "Estonia",
          "Ethiopia",
          "Euro area",
          "Europe & Central Asia (all income levels)",
          "Europe & Central Asia (developing only)",
          "European Union",
          "Faeroe Islands",
          "Fiji",
          "Finland",
          "Fragile and conflict affected situations",
          "France",
          "French Polynesia",
          "Gabon",
          "Gambia, The",
          "Georgia",
          "Germany",
          "Ghana",
          "Greece",
          "Greenland",
          "Grenada",
          "Guam",
          "Guatemala",
          "Guinea",
          "Guinea-Bissau",
          "Guyana",
          "Haiti",
          "Heavily indebted poor countries (HIPC)",
          "High income",
          "High income: OECD",
          "High income: nonOECD",
          "Honduras",
          "Hong Kong SAR, China",
          "Hungary",
          "Iceland",
          "India",
          "Indonesia",
          "Iran, Islamic Rep.",
          "Iraq",
          "Ireland",
          "Isle of Man",
          "Israel",
          "Italy",
          "Jamaica",
          "Japan",
          "Jordan",
          "Kazakhstan",
          "Kenya",
          "Kiribati",
          "Korea, Dem. Rep.",
          "Korea, Rep.",
          "Kosovo",
          "Kuwait",
          "Kyrgyz Republic",
          "Lao PDR",
          "Latin America & Caribbean (all income levels)",
          "Latin America & Caribbean (developing only)",
          "Latvia",
          "Least developed countries: UN classification",
          "Lebanon",
          "Lesotho",
          "Liberia",
          "Libya",
          "Liechtenstein",
          "Lithuania",
          "Low & middle income",
          "Low income",
          "Lower middle income",
          "Luxembourg",
          "Macao SAR, China",
          "Macedonia, FYR",
          "Madagascar",
          "Malawi",
          "Malaysia",
          "Maldives",
          "Mali",
          "Malta",
          "Marshall Islands",
          "Mauritania",
          "Mauritius",
          "Mexico",
          "Micronesia, Fed. Sts.",
          "Middle East & North Africa (all income levels)",
          "Middle East & North Africa (developing only)",
          "Middle income",
          "Moldova",
          "Monaco",
          "Mongolia",
          "Montenegro",
          "Morocco",
          "Mozambique",
          "Myanmar",
          "Namibia",
          "Nepal",
          "Netherlands",
          "New Caledonia",
          "New Zealand",
          "Nicaragua",
          "Niger",
          "Nigeria",
          "North America",
          "Northern Mariana Islands",
          "Norway",
          "OECD members",
          "Oman",
          "Other small states",
          "Pacific island small states",
          "Pakistan",
          "Palau",
          "Panama",
          "Papua New Guinea",
          "Paraguay",
          "Peru",
          "Philippines",
          "Poland",
          "Portugal",
          "Puerto Rico",
          "Qatar",
          "Romania",
          "Russian Federation",
          "Rwanda",
          "Samoa",
          "San Marino",
          "Sao Tome and Principe",
          "Saudi Arabia",
          "Senegal",
          "Serbia",
          "Seychelles",
          "Sierra Leone",
          "Singapore",
          "Sint Maarten (Dutch part)",
          "Slovak Republic",
          "Slovenia",
          "Small states",
          "Solomon Islands",
          "Somalia",
          "South Africa",
          "South Asia",
          "South Sudan",
          "Spain",
          "Sri Lanka",
          "St. Kitts and Nevis",
          "St. Lucia",
          "St. Martin (French part)",
          "St. Vincent and the Grenadines",
          "Sub-Saharan Africa (all income levels)",
          "Sub-Saharan Africa (developing only)",
          "Sudan",
          "Suriname",
          "Swaziland",
          "Sweden",
          "Switzerland",
          "Syrian Arab Republic",
          "Tajikistan",
          "Tanzania",
          "Thailand",
          "Timor-Leste",
          "Togo",
          "Tonga",
          "Trinidad and Tobago",
          "Tunisia",
          "Turkey",
          "Turkmenistan",
          "Turks and Caicos Islands",
          "Tuvalu",
          "Uganda",
          "Ukraine",
          "United Arab Emirates",
          "United Kingdom",
          "United States",
          "Upper middle income",
          "Uruguay",
          "Uzbekistan",
          "Vanuatu",
          "Venezuela, RB",
          "Vietnam",
          "Virgin Islands (U.S.)",
          "West Bank and Gaza",
          "World",
          "Yemen, Rep.",
          "Zambia",
          "Zimbabwe"
         ],
         "text": [
          "Afghanistan",
          "Albania",
          "Algeria",
          "American Samoa",
          "Andorra",
          "Angola",
          "Antigua and Barbuda",
          "Arab World",
          "Argentina",
          "Armenia",
          "Aruba",
          "Australia",
          "Austria",
          "Azerbaijan",
          "Bahamas, The",
          "Bahrain",
          "Bangladesh",
          "Barbados",
          "Belarus",
          "Belgium",
          "Belize",
          "Benin",
          "Bermuda",
          "Bhutan",
          "Bolivia",
          "Bosnia and Herzegovina",
          "Botswana",
          "Brazil",
          "Brunei Darussalam",
          "Bulgaria",
          "Burkina Faso",
          "Burundi",
          "Cabo Verde",
          "Cambodia",
          "Cameroon",
          "Canada",
          "Caribbean small states",
          "Cayman Islands",
          "Central African Republic",
          "Central Europe and the Baltics",
          "Chad",
          "Channel Islands",
          "Chile",
          "China",
          "Colombia",
          "Comoros",
          "Congo, Dem. Rep.",
          "Congo, Rep.",
          "Costa Rica",
          "Cote d'Ivoire",
          "Croatia",
          "Cuba",
          "Curacao",
          "Cyprus",
          "Czech Republic",
          "Denmark",
          "Djibouti",
          "Dominica",
          "Dominican Republic",
          "East Asia & Pacific (all income levels)",
          "East Asia & Pacific (developing only)",
          "Ecuador",
          "Egypt, Arab Rep.",
          "El Salvador",
          "Equatorial Guinea",
          "Eritrea",
          "Estonia",
          "Ethiopia",
          "Euro area",
          "Europe & Central Asia (all income levels)",
          "Europe & Central Asia (developing only)",
          "European Union",
          "Faeroe Islands",
          "Fiji",
          "Finland",
          "Fragile and conflict affected situations",
          "France",
          "French Polynesia",
          "Gabon",
          "Gambia, The",
          "Georgia",
          "Germany",
          "Ghana",
          "Greece",
          "Greenland",
          "Grenada",
          "Guam",
          "Guatemala",
          "Guinea",
          "Guinea-Bissau",
          "Guyana",
          "Haiti",
          "Heavily indebted poor countries (HIPC)",
          "High income",
          "High income: OECD",
          "High income: nonOECD",
          "Honduras",
          "Hong Kong SAR, China",
          "Hungary",
          "Iceland",
          "India",
          "Indonesia",
          "Iran, Islamic Rep.",
          "Iraq",
          "Ireland",
          "Isle of Man",
          "Israel",
          "Italy",
          "Jamaica",
          "Japan",
          "Jordan",
          "Kazakhstan",
          "Kenya",
          "Kiribati",
          "Korea, Dem. Rep.",
          "Korea, Rep.",
          "Kosovo",
          "Kuwait",
          "Kyrgyz Republic",
          "Lao PDR",
          "Latin America & Caribbean (all income levels)",
          "Latin America & Caribbean (developing only)",
          "Latvia",
          "Least developed countries: UN classification",
          "Lebanon",
          "Lesotho",
          "Liberia",
          "Libya",
          "Liechtenstein",
          "Lithuania",
          "Low & middle income",
          "Low income",
          "Lower middle income",
          "Luxembourg",
          "Macao SAR, China",
          "Macedonia, FYR",
          "Madagascar",
          "Malawi",
          "Malaysia",
          "Maldives",
          "Mali",
          "Malta",
          "Marshall Islands",
          "Mauritania",
          "Mauritius",
          "Mexico",
          "Micronesia, Fed. Sts.",
          "Middle East & North Africa (all income levels)",
          "Middle East & North Africa (developing only)",
          "Middle income",
          "Moldova",
          "Monaco",
          "Mongolia",
          "Montenegro",
          "Morocco",
          "Mozambique",
          "Myanmar",
          "Namibia",
          "Nepal",
          "Netherlands",
          "New Caledonia",
          "New Zealand",
          "Nicaragua",
          "Niger",
          "Nigeria",
          "North America",
          "Northern Mariana Islands",
          "Norway",
          "OECD members",
          "Oman",
          "Other small states",
          "Pacific island small states",
          "Pakistan",
          "Palau",
          "Panama",
          "Papua New Guinea",
          "Paraguay",
          "Peru",
          "Philippines",
          "Poland",
          "Portugal",
          "Puerto Rico",
          "Qatar",
          "Romania",
          "Russian Federation",
          "Rwanda",
          "Samoa",
          "San Marino",
          "Sao Tome and Principe",
          "Saudi Arabia",
          "Senegal",
          "Serbia",
          "Seychelles",
          "Sierra Leone",
          "Singapore",
          "Sint Maarten (Dutch part)",
          "Slovak Republic",
          "Slovenia",
          "Small states",
          "Solomon Islands",
          "Somalia",
          "South Africa",
          "South Asia",
          "South Sudan",
          "Spain",
          "Sri Lanka",
          "St. Kitts and Nevis",
          "St. Lucia",
          "St. Martin (French part)",
          "St. Vincent and the Grenadines",
          "Sub-Saharan Africa (all income levels)",
          "Sub-Saharan Africa (developing only)",
          "Sudan",
          "Suriname",
          "Swaziland",
          "Sweden",
          "Switzerland",
          "Syrian Arab Republic",
          "Tajikistan",
          "Tanzania",
          "Thailand",
          "Timor-Leste",
          "Togo",
          "Tonga",
          "Trinidad and Tobago",
          "Tunisia",
          "Turkey",
          "Turkmenistan",
          "Turks and Caicos Islands",
          "Tuvalu",
          "Uganda",
          "Ukraine",
          "United Arab Emirates",
          "United Kingdom",
          "United States",
          "Upper middle income",
          "Uruguay",
          "Uzbekistan",
          "Vanuatu",
          "Venezuela, RB",
          "Vietnam",
          "Virgin Islands (U.S.)",
          "West Bank and Gaza",
          "World",
          "Yemen, Rep.",
          "Zambia",
          "Zimbabwe"
         ],
         "type": "choropleth",
         "z": [
          102.622175,
          19.7581,
          10.518849999999999,
          58.98251764705882,
          144.08708235294117,
          182.034475,
          52.335275,
          49.70019489197949,
          62.3826,
          26.828525,
          29.95565,
          16.23885,
          9.826874999999998,
          50.86237500000001,
          36.683525,
          14.275324999999999,
          89.671325,
          47.1066,
          21.640775,
          9.675125000000001,
          73.1422,
          97.572575,
          70.3888,
          38.663199999999996,
          77.28659999999999,
          13.321575000000001,
          44.037675,
          69.84375,
          22.747,
          42.23585,
          122.37175,
          31.86905,
          80.27842499999998,
          48.067074999999996,
          123.22885,
          12.570375,
          61.58312188229265,
          84.08455914380805,
          102.556525,
          21.381414842006564,
          166.7156,
          8.9812,
          50.971025000000004,
          7.6845,
          60.86289999999999,
          76.99255,
          127.13302499999999,
          127.12977500000001,
          61.782925,
          136.3411,
          12.92795,
          48.67305,
          34.7885,
          6.00515,
          11.0216,
          5.151425,
          24.779975,
          65.67490000000001,
          104.5481,
          19.172488954740853,
          20.153890388148774,
          80.0835,
          51.635200000000005,
          71.92079999999999,
          118.455675,
          68.368475,
          19.216950000000004,
          75.45547499999999,
          9.4305782400771,
          21.226608186011923,
          30.982136585384314,
          13.446077987910337,
          27.992669857562,
          44.064750000000004,
          8.238574999999999,
          91.953007184761,
          9.746649999999999,
          39.833675,
          117.28485,
          115.78415,
          48.334675000000004,
          8.896875,
          70.597825,
          10.0178,
          26.130599999999998,
          38.86022500000001,
          48.803975,
          88.730775,
          150.611075,
          110.36207499999999,
          92.134075,
          43.903699999999986,
          112.5091677013205,
          23.869545688965403,
          19.221348628149137,
          37.895281852968374,
          76.474175,
          3.292525,
          19.370975,
          11.187349999999999,
          37.606625,
          51.398125,
          29.811525,
          79.85485,
          14.1778,
          12.915,
          12.722125,
          6.627224999999999,
          68.78495,
          4.822875,
          26.990499999999997,
          29.566975,
          97.1249,
          24.144525,
          0.64275,
          1.939425,
          8.5039,
          12.9159,
          35.69185,
          70.33439999999999,
          68.5683366350474,
          69.06586854783383,
          16.650850000000002,
          101.99951208457897,
          13.14975,
          92.07034999999999,
          129.39955,
          6.4793,
          12.809999999999999,
          16.370224999999998,
          50.639703020148325,
          108.74786574883662,
          53.419755009803694,
          8.308225,
          3.5355750000000006,
          19.869625,
          128.603725,
          148.16145,
          12.844050000000001,
          11.931775,
          178.48997500000002,
          18.058549999999997,
          53.112399999999994,
          84.937975,
          32.01875,
          68.55380000000001,
          22.033075000000004,
          38.55824799712559,
          41.66034923664712,
          43.00700035572995,
          26.351774999999996,
          21.9896,
          18.926075,
          15.913499999999999,
          32.974375,
          163.3114,
          18.8695,
          79.67612500000001,
          84.692275,
          4.915025,
          20.258499999999998,
          27.5348,
          98.75915,
          210.64225,
          119.96789999999999,
          32.513376548594835,
          17.337752977669947,
          7.527025000000001,
          27.370325704007264,
          12.175475,
          77.73225035931912,
          42.92015438308087,
          41.223800000000004,
          61.361599999999996,
          80.13072500000001,
          59.0695,
          64.112725,
          53.434749999999994,
          55.77185,
          15.2541,
          14.088349999999998,
          48.738324999999996,
          13.49455,
          37.995400000000004,
          27.891375000000004,
          35.130825,
          29.930475,
          60.68889999999999,
          90.763275,
          11.572675,
          91.161775,
          21.269374999999997,
          59.78552499999999,
          134.91065000000003,
          4.969775,
          12.271199999999997,
          20.944599999999998,
          4.701675,
          71.82348881090032,
          58.061524999999996,
          118.43400000000001,
          55.03247499999999,
          45.1355344314839,
          88.1334,
          10.489325,
          20.022375000000004,
          39.0411,
          58.749975,
          57.7055,
          56.68597499999999,
          112.87270098452201,
          112.87217057564612,
          95.1016,
          49.6746,
          86.74297499999999,
          5.757099999999999,
          3.991775,
          43.518024999999994,
          40.81270000000001,
          126.404,
          43.551375,
          58.833949999999994,
          92.27244999999999,
          17.777925,
          36.28965,
          6.413750000000001,
          35.586475,
          19.450025,
          36.04512727272727,
          98.36421818181816,
          138.11657499999998,
          28.961950000000005,
          28.742525,
          21.715400000000002,
          34.564750000000004,
          28.935496163698286,
          59.57775000000001,
          18.1107,
          46.337799999999994,
          81.7843,
          33.485,
          48.41055,
          63.54735,
          46.832740034519986,
          71.7048,
          112.55930000000001,
          114.97902500000001
         ]
        }
       ],
       "layout": {
        "geo": {
         "projection": {
          "type": "mercator"
         },
         "showframe": false
        },
        "height": 500,
        "template": {
         "data": {
          "bar": [
           {
            "error_x": {
             "color": "#2a3f5f"
            },
            "error_y": {
             "color": "#2a3f5f"
            },
            "marker": {
             "line": {
              "color": "#E5ECF6",
              "width": 0.5
             }
            },
            "type": "bar"
           }
          ],
          "barpolar": [
           {
            "marker": {
             "line": {
              "color": "#E5ECF6",
              "width": 0.5
             }
            },
            "type": "barpolar"
           }
          ],
          "carpet": [
           {
            "aaxis": {
             "endlinecolor": "#2a3f5f",
             "gridcolor": "white",
             "linecolor": "white",
             "minorgridcolor": "white",
             "startlinecolor": "#2a3f5f"
            },
            "baxis": {
             "endlinecolor": "#2a3f5f",
             "gridcolor": "white",
             "linecolor": "white",
             "minorgridcolor": "white",
             "startlinecolor": "#2a3f5f"
            },
            "type": "carpet"
           }
          ],
          "choropleth": [
           {
            "colorbar": {
             "outlinewidth": 0,
             "ticks": ""
            },
            "type": "choropleth"
           }
          ],
          "contour": [
           {
            "colorbar": {
             "outlinewidth": 0,
             "ticks": ""
            },
            "colorscale": [
             [
              0,
              "#0d0887"
             ],
             [
              0.1111111111111111,
              "#46039f"
             ],
             [
              0.2222222222222222,
              "#7201a8"
             ],
             [
              0.3333333333333333,
              "#9c179e"
             ],
             [
              0.4444444444444444,
              "#bd3786"
             ],
             [
              0.5555555555555556,
              "#d8576b"
             ],
             [
              0.6666666666666666,
              "#ed7953"
             ],
             [
              0.7777777777777778,
              "#fb9f3a"
             ],
             [
              0.8888888888888888,
              "#fdca26"
             ],
             [
              1,
              "#f0f921"
             ]
            ],
            "type": "contour"
           }
          ],
          "contourcarpet": [
           {
            "colorbar": {
             "outlinewidth": 0,
             "ticks": ""
            },
            "type": "contourcarpet"
           }
          ],
          "heatmap": [
           {
            "colorbar": {
             "outlinewidth": 0,
             "ticks": ""
            },
            "colorscale": [
             [
              0,
              "#0d0887"
             ],
             [
              0.1111111111111111,
              "#46039f"
             ],
             [
              0.2222222222222222,
              "#7201a8"
             ],
             [
              0.3333333333333333,
              "#9c179e"
             ],
             [
              0.4444444444444444,
              "#bd3786"
             ],
             [
              0.5555555555555556,
              "#d8576b"
             ],
             [
              0.6666666666666666,
              "#ed7953"
             ],
             [
              0.7777777777777778,
              "#fb9f3a"
             ],
             [
              0.8888888888888888,
              "#fdca26"
             ],
             [
              1,
              "#f0f921"
             ]
            ],
            "type": "heatmap"
           }
          ],
          "heatmapgl": [
           {
            "colorbar": {
             "outlinewidth": 0,
             "ticks": ""
            },
            "colorscale": [
             [
              0,
              "#0d0887"
             ],
             [
              0.1111111111111111,
              "#46039f"
             ],
             [
              0.2222222222222222,
              "#7201a8"
             ],
             [
              0.3333333333333333,
              "#9c179e"
             ],
             [
              0.4444444444444444,
              "#bd3786"
             ],
             [
              0.5555555555555556,
              "#d8576b"
             ],
             [
              0.6666666666666666,
              "#ed7953"
             ],
             [
              0.7777777777777778,
              "#fb9f3a"
             ],
             [
              0.8888888888888888,
              "#fdca26"
             ],
             [
              1,
              "#f0f921"
             ]
            ],
            "type": "heatmapgl"
           }
          ],
          "histogram": [
           {
            "marker": {
             "colorbar": {
              "outlinewidth": 0,
              "ticks": ""
             }
            },
            "type": "histogram"
           }
          ],
          "histogram2d": [
           {
            "colorbar": {
             "outlinewidth": 0,
             "ticks": ""
            },
            "colorscale": [
             [
              0,
              "#0d0887"
             ],
             [
              0.1111111111111111,
              "#46039f"
             ],
             [
              0.2222222222222222,
              "#7201a8"
             ],
             [
              0.3333333333333333,
              "#9c179e"
             ],
             [
              0.4444444444444444,
              "#bd3786"
             ],
             [
              0.5555555555555556,
              "#d8576b"
             ],
             [
              0.6666666666666666,
              "#ed7953"
             ],
             [
              0.7777777777777778,
              "#fb9f3a"
             ],
             [
              0.8888888888888888,
              "#fdca26"
             ],
             [
              1,
              "#f0f921"
             ]
            ],
            "type": "histogram2d"
           }
          ],
          "histogram2dcontour": [
           {
            "colorbar": {
             "outlinewidth": 0,
             "ticks": ""
            },
            "colorscale": [
             [
              0,
              "#0d0887"
             ],
             [
              0.1111111111111111,
              "#46039f"
             ],
             [
              0.2222222222222222,
              "#7201a8"
             ],
             [
              0.3333333333333333,
              "#9c179e"
             ],
             [
              0.4444444444444444,
              "#bd3786"
             ],
             [
              0.5555555555555556,
              "#d8576b"
             ],
             [
              0.6666666666666666,
              "#ed7953"
             ],
             [
              0.7777777777777778,
              "#fb9f3a"
             ],
             [
              0.8888888888888888,
              "#fdca26"
             ],
             [
              1,
              "#f0f921"
             ]
            ],
            "type": "histogram2dcontour"
           }
          ],
          "mesh3d": [
           {
            "colorbar": {
             "outlinewidth": 0,
             "ticks": ""
            },
            "type": "mesh3d"
           }
          ],
          "parcoords": [
           {
            "line": {
             "colorbar": {
              "outlinewidth": 0,
              "ticks": ""
             }
            },
            "type": "parcoords"
           }
          ],
          "pie": [
           {
            "automargin": true,
            "type": "pie"
           }
          ],
          "scatter": [
           {
            "marker": {
             "colorbar": {
              "outlinewidth": 0,
              "ticks": ""
             }
            },
            "type": "scatter"
           }
          ],
          "scatter3d": [
           {
            "line": {
             "colorbar": {
              "outlinewidth": 0,
              "ticks": ""
             }
            },
            "marker": {
             "colorbar": {
              "outlinewidth": 0,
              "ticks": ""
             }
            },
            "type": "scatter3d"
           }
          ],
          "scattercarpet": [
           {
            "marker": {
             "colorbar": {
              "outlinewidth": 0,
              "ticks": ""
             }
            },
            "type": "scattercarpet"
           }
          ],
          "scattergeo": [
           {
            "marker": {
             "colorbar": {
              "outlinewidth": 0,
              "ticks": ""
             }
            },
            "type": "scattergeo"
           }
          ],
          "scattergl": [
           {
            "marker": {
             "colorbar": {
              "outlinewidth": 0,
              "ticks": ""
             }
            },
            "type": "scattergl"
           }
          ],
          "scattermapbox": [
           {
            "marker": {
             "colorbar": {
              "outlinewidth": 0,
              "ticks": ""
             }
            },
            "type": "scattermapbox"
           }
          ],
          "scatterpolar": [
           {
            "marker": {
             "colorbar": {
              "outlinewidth": 0,
              "ticks": ""
             }
            },
            "type": "scatterpolar"
           }
          ],
          "scatterpolargl": [
           {
            "marker": {
             "colorbar": {
              "outlinewidth": 0,
              "ticks": ""
             }
            },
            "type": "scatterpolargl"
           }
          ],
          "scatterternary": [
           {
            "marker": {
             "colorbar": {
              "outlinewidth": 0,
              "ticks": ""
             }
            },
            "type": "scatterternary"
           }
          ],
          "surface": [
           {
            "colorbar": {
             "outlinewidth": 0,
             "ticks": ""
            },
            "colorscale": [
             [
              0,
              "#0d0887"
             ],
             [
              0.1111111111111111,
              "#46039f"
             ],
             [
              0.2222222222222222,
              "#7201a8"
             ],
             [
              0.3333333333333333,
              "#9c179e"
             ],
             [
              0.4444444444444444,
              "#bd3786"
             ],
             [
              0.5555555555555556,
              "#d8576b"
             ],
             [
              0.6666666666666666,
              "#ed7953"
             ],
             [
              0.7777777777777778,
              "#fb9f3a"
             ],
             [
              0.8888888888888888,
              "#fdca26"
             ],
             [
              1,
              "#f0f921"
             ]
            ],
            "type": "surface"
           }
          ],
          "table": [
           {
            "cells": {
             "fill": {
              "color": "#EBF0F8"
             },
             "line": {
              "color": "white"
             }
            },
            "header": {
             "fill": {
              "color": "#C8D4E3"
             },
             "line": {
              "color": "white"
             }
            },
            "type": "table"
           }
          ]
         },
         "layout": {
          "annotationdefaults": {
           "arrowcolor": "#2a3f5f",
           "arrowhead": 0,
           "arrowwidth": 1
          },
          "coloraxis": {
           "colorbar": {
            "outlinewidth": 0,
            "ticks": ""
           }
          },
          "colorscale": {
           "diverging": [
            [
             0,
             "#8e0152"
            ],
            [
             0.1,
             "#c51b7d"
            ],
            [
             0.2,
             "#de77ae"
            ],
            [
             0.3,
             "#f1b6da"
            ],
            [
             0.4,
             "#fde0ef"
            ],
            [
             0.5,
             "#f7f7f7"
            ],
            [
             0.6,
             "#e6f5d0"
            ],
            [
             0.7,
             "#b8e186"
            ],
            [
             0.8,
             "#7fbc41"
            ],
            [
             0.9,
             "#4d9221"
            ],
            [
             1,
             "#276419"
            ]
           ],
           "sequential": [
            [
             0,
             "#0d0887"
            ],
            [
             0.1111111111111111,
             "#46039f"
            ],
            [
             0.2222222222222222,
             "#7201a8"
            ],
            [
             0.3333333333333333,
             "#9c179e"
            ],
            [
             0.4444444444444444,
             "#bd3786"
            ],
            [
             0.5555555555555556,
             "#d8576b"
            ],
            [
             0.6666666666666666,
             "#ed7953"
            ],
            [
             0.7777777777777778,
             "#fb9f3a"
            ],
            [
             0.8888888888888888,
             "#fdca26"
            ],
            [
             1,
             "#f0f921"
            ]
           ],
           "sequentialminus": [
            [
             0,
             "#0d0887"
            ],
            [
             0.1111111111111111,
             "#46039f"
            ],
            [
             0.2222222222222222,
             "#7201a8"
            ],
            [
             0.3333333333333333,
             "#9c179e"
            ],
            [
             0.4444444444444444,
             "#bd3786"
            ],
            [
             0.5555555555555556,
             "#d8576b"
            ],
            [
             0.6666666666666666,
             "#ed7953"
            ],
            [
             0.7777777777777778,
             "#fb9f3a"
            ],
            [
             0.8888888888888888,
             "#fdca26"
            ],
            [
             1,
             "#f0f921"
            ]
           ]
          },
          "colorway": [
           "#636efa",
           "#EF553B",
           "#00cc96",
           "#ab63fa",
           "#FFA15A",
           "#19d3f3",
           "#FF6692",
           "#B6E880",
           "#FF97FF",
           "#FECB52"
          ],
          "font": {
           "color": "#2a3f5f"
          },
          "geo": {
           "bgcolor": "white",
           "lakecolor": "white",
           "landcolor": "#E5ECF6",
           "showlakes": true,
           "showland": true,
           "subunitcolor": "white"
          },
          "hoverlabel": {
           "align": "left"
          },
          "hovermode": "closest",
          "mapbox": {
           "style": "light"
          },
          "paper_bgcolor": "white",
          "plot_bgcolor": "#E5ECF6",
          "polar": {
           "angularaxis": {
            "gridcolor": "white",
            "linecolor": "white",
            "ticks": ""
           },
           "bgcolor": "#E5ECF6",
           "radialaxis": {
            "gridcolor": "white",
            "linecolor": "white",
            "ticks": ""
           }
          },
          "scene": {
           "xaxis": {
            "backgroundcolor": "#E5ECF6",
            "gridcolor": "white",
            "gridwidth": 2,
            "linecolor": "white",
            "showbackground": true,
            "ticks": "",
            "zerolinecolor": "white"
           },
           "yaxis": {
            "backgroundcolor": "#E5ECF6",
            "gridcolor": "white",
            "gridwidth": 2,
            "linecolor": "white",
            "showbackground": true,
            "ticks": "",
            "zerolinecolor": "white"
           },
           "zaxis": {
            "backgroundcolor": "#E5ECF6",
            "gridcolor": "white",
            "gridwidth": 2,
            "linecolor": "white",
            "showbackground": true,
            "ticks": "",
            "zerolinecolor": "white"
           }
          },
          "shapedefaults": {
           "line": {
            "color": "#2a3f5f"
           }
          },
          "ternary": {
           "aaxis": {
            "gridcolor": "white",
            "linecolor": "white",
            "ticks": ""
           },
           "baxis": {
            "gridcolor": "white",
            "linecolor": "white",
            "ticks": ""
           },
           "bgcolor": "#E5ECF6",
           "caxis": {
            "gridcolor": "white",
            "linecolor": "white",
            "ticks": ""
           }
          },
          "title": {
           "x": 0.05
          },
          "xaxis": {
           "automargin": true,
           "gridcolor": "white",
           "linecolor": "white",
           "ticks": "",
           "title": {
            "standoff": 15
           },
           "zerolinecolor": "white",
           "zerolinewidth": 2
          },
          "yaxis": {
           "automargin": true,
           "gridcolor": "white",
           "linecolor": "white",
           "ticks": "",
           "title": {
            "standoff": 15
           },
           "zerolinecolor": "white",
           "zerolinewidth": 2
          }
         }
        },
        "title": {
         "text": "Adolescent fertility rate (births per 1,000 women ages 15-19)"
        }
       }
      },
      "text/html": [
       "<div>\n",
       "        \n",
       "        \n",
       "            <div id=\"11cbabfe-019f-462c-9a3f-8db51e07343a\" class=\"plotly-graph-div\" style=\"height:500px; width:100%;\"></div>\n",
       "            <script type=\"text/javascript\">\n",
       "                require([\"plotly\"], function(Plotly) {\n",
       "                    window.PLOTLYENV=window.PLOTLYENV || {};\n",
       "                    \n",
       "                if (document.getElementById(\"11cbabfe-019f-462c-9a3f-8db51e07343a\")) {\n",
       "                    Plotly.newPlot(\n",
       "                        '11cbabfe-019f-462c-9a3f-8db51e07343a',\n",
       "                        [{\"colorbar\": {\"tickmode\": \"array\", \"tickvals\": [0, 20, 40, 60, 80, 100, 120, 140, 160, 180, 200], \"title\": {\"text\": \"f\"}}, \"colorscale\": [[0.0, \"#440154\"], [0.1111111111111111, \"#482878\"], [0.2222222222222222, \"#3e4989\"], [0.3333333333333333, \"#31688e\"], [0.4444444444444444, \"#26828e\"], [0.5555555555555556, \"#1f9e89\"], [0.6666666666666666, \"#35b779\"], [0.7777777777777778, \"#6ece58\"], [0.8888888888888888, \"#b5de2b\"], [1.0, \"#fde725\"]], \"locationmode\": \"country names\", \"locations\": [\"Afghanistan\", \"Albania\", \"Algeria\", \"American Samoa\", \"Andorra\", \"Angola\", \"Antigua and Barbuda\", \"Arab World\", \"Argentina\", \"Armenia\", \"Aruba\", \"Australia\", \"Austria\", \"Azerbaijan\", \"Bahamas, The\", \"Bahrain\", \"Bangladesh\", \"Barbados\", \"Belarus\", \"Belgium\", \"Belize\", \"Benin\", \"Bermuda\", \"Bhutan\", \"Bolivia\", \"Bosnia and Herzegovina\", \"Botswana\", \"Brazil\", \"Brunei Darussalam\", \"Bulgaria\", \"Burkina Faso\", \"Burundi\", \"Cabo Verde\", \"Cambodia\", \"Cameroon\", \"Canada\", \"Caribbean small states\", \"Cayman Islands\", \"Central African Republic\", \"Central Europe and the Baltics\", \"Chad\", \"Channel Islands\", \"Chile\", \"China\", \"Colombia\", \"Comoros\", \"Congo, Dem. Rep.\", \"Congo, Rep.\", \"Costa Rica\", \"Cote d'Ivoire\", \"Croatia\", \"Cuba\", \"Curacao\", \"Cyprus\", \"Czech Republic\", \"Denmark\", \"Djibouti\", \"Dominica\", \"Dominican Republic\", \"East Asia & Pacific (all income levels)\", \"East Asia & Pacific (developing only)\", \"Ecuador\", \"Egypt, Arab Rep.\", \"El Salvador\", \"Equatorial Guinea\", \"Eritrea\", \"Estonia\", \"Ethiopia\", \"Euro area\", \"Europe & Central Asia (all income levels)\", \"Europe & Central Asia (developing only)\", \"European Union\", \"Faeroe Islands\", \"Fiji\", \"Finland\", \"Fragile and conflict affected situations\", \"France\", \"French Polynesia\", \"Gabon\", \"Gambia, The\", \"Georgia\", \"Germany\", \"Ghana\", \"Greece\", \"Greenland\", \"Grenada\", \"Guam\", \"Guatemala\", \"Guinea\", \"Guinea-Bissau\", \"Guyana\", \"Haiti\", \"Heavily indebted poor countries (HIPC)\", \"High income\", \"High income: OECD\", \"High income: nonOECD\", \"Honduras\", \"Hong Kong SAR, China\", \"Hungary\", \"Iceland\", \"India\", \"Indonesia\", \"Iran, Islamic Rep.\", \"Iraq\", \"Ireland\", \"Isle of Man\", \"Israel\", \"Italy\", \"Jamaica\", \"Japan\", \"Jordan\", \"Kazakhstan\", \"Kenya\", \"Kiribati\", \"Korea, Dem. Rep.\", \"Korea, Rep.\", \"Kosovo\", \"Kuwait\", \"Kyrgyz Republic\", \"Lao PDR\", \"Latin America & Caribbean (all income levels)\", \"Latin America & Caribbean (developing only)\", \"Latvia\", \"Least developed countries: UN classification\", \"Lebanon\", \"Lesotho\", \"Liberia\", \"Libya\", \"Liechtenstein\", \"Lithuania\", \"Low & middle income\", \"Low income\", \"Lower middle income\", \"Luxembourg\", \"Macao SAR, China\", \"Macedonia, FYR\", \"Madagascar\", \"Malawi\", \"Malaysia\", \"Maldives\", \"Mali\", \"Malta\", \"Marshall Islands\", \"Mauritania\", \"Mauritius\", \"Mexico\", \"Micronesia, Fed. Sts.\", \"Middle East & North Africa (all income levels)\", \"Middle East & North Africa (developing only)\", \"Middle income\", \"Moldova\", \"Monaco\", \"Mongolia\", \"Montenegro\", \"Morocco\", \"Mozambique\", \"Myanmar\", \"Namibia\", \"Nepal\", \"Netherlands\", \"New Caledonia\", \"New Zealand\", \"Nicaragua\", \"Niger\", \"Nigeria\", \"North America\", \"Northern Mariana Islands\", \"Norway\", \"OECD members\", \"Oman\", \"Other small states\", \"Pacific island small states\", \"Pakistan\", \"Palau\", \"Panama\", \"Papua New Guinea\", \"Paraguay\", \"Peru\", \"Philippines\", \"Poland\", \"Portugal\", \"Puerto Rico\", \"Qatar\", \"Romania\", \"Russian Federation\", \"Rwanda\", \"Samoa\", \"San Marino\", \"Sao Tome and Principe\", \"Saudi Arabia\", \"Senegal\", \"Serbia\", \"Seychelles\", \"Sierra Leone\", \"Singapore\", \"Sint Maarten (Dutch part)\", \"Slovak Republic\", \"Slovenia\", \"Small states\", \"Solomon Islands\", \"Somalia\", \"South Africa\", \"South Asia\", \"South Sudan\", \"Spain\", \"Sri Lanka\", \"St. Kitts and Nevis\", \"St. Lucia\", \"St. Martin (French part)\", \"St. Vincent and the Grenadines\", \"Sub-Saharan Africa (all income levels)\", \"Sub-Saharan Africa (developing only)\", \"Sudan\", \"Suriname\", \"Swaziland\", \"Sweden\", \"Switzerland\", \"Syrian Arab Republic\", \"Tajikistan\", \"Tanzania\", \"Thailand\", \"Timor-Leste\", \"Togo\", \"Tonga\", \"Trinidad and Tobago\", \"Tunisia\", \"Turkey\", \"Turkmenistan\", \"Turks and Caicos Islands\", \"Tuvalu\", \"Uganda\", \"Ukraine\", \"United Arab Emirates\", \"United Kingdom\", \"United States\", \"Upper middle income\", \"Uruguay\", \"Uzbekistan\", \"Vanuatu\", \"Venezuela, RB\", \"Vietnam\", \"Virgin Islands (U.S.)\", \"West Bank and Gaza\", \"World\", \"Yemen, Rep.\", \"Zambia\", \"Zimbabwe\"], \"text\": [\"Afghanistan\", \"Albania\", \"Algeria\", \"American Samoa\", \"Andorra\", \"Angola\", \"Antigua and Barbuda\", \"Arab World\", \"Argentina\", \"Armenia\", \"Aruba\", \"Australia\", \"Austria\", \"Azerbaijan\", \"Bahamas, The\", \"Bahrain\", \"Bangladesh\", \"Barbados\", \"Belarus\", \"Belgium\", \"Belize\", \"Benin\", \"Bermuda\", \"Bhutan\", \"Bolivia\", \"Bosnia and Herzegovina\", \"Botswana\", \"Brazil\", \"Brunei Darussalam\", \"Bulgaria\", \"Burkina Faso\", \"Burundi\", \"Cabo Verde\", \"Cambodia\", \"Cameroon\", \"Canada\", \"Caribbean small states\", \"Cayman Islands\", \"Central African Republic\", \"Central Europe and the Baltics\", \"Chad\", \"Channel Islands\", \"Chile\", \"China\", \"Colombia\", \"Comoros\", \"Congo, Dem. Rep.\", \"Congo, Rep.\", \"Costa Rica\", \"Cote d'Ivoire\", \"Croatia\", \"Cuba\", \"Curacao\", \"Cyprus\", \"Czech Republic\", \"Denmark\", \"Djibouti\", \"Dominica\", \"Dominican Republic\", \"East Asia & Pacific (all income levels)\", \"East Asia & Pacific (developing only)\", \"Ecuador\", \"Egypt, Arab Rep.\", \"El Salvador\", \"Equatorial Guinea\", \"Eritrea\", \"Estonia\", \"Ethiopia\", \"Euro area\", \"Europe & Central Asia (all income levels)\", \"Europe & Central Asia (developing only)\", \"European Union\", \"Faeroe Islands\", \"Fiji\", \"Finland\", \"Fragile and conflict affected situations\", \"France\", \"French Polynesia\", \"Gabon\", \"Gambia, The\", \"Georgia\", \"Germany\", \"Ghana\", \"Greece\", \"Greenland\", \"Grenada\", \"Guam\", \"Guatemala\", \"Guinea\", \"Guinea-Bissau\", \"Guyana\", \"Haiti\", \"Heavily indebted poor countries (HIPC)\", \"High income\", \"High income: OECD\", \"High income: nonOECD\", \"Honduras\", \"Hong Kong SAR, China\", \"Hungary\", \"Iceland\", \"India\", \"Indonesia\", \"Iran, Islamic Rep.\", \"Iraq\", \"Ireland\", \"Isle of Man\", \"Israel\", \"Italy\", \"Jamaica\", \"Japan\", \"Jordan\", \"Kazakhstan\", \"Kenya\", \"Kiribati\", \"Korea, Dem. Rep.\", \"Korea, Rep.\", \"Kosovo\", \"Kuwait\", \"Kyrgyz Republic\", \"Lao PDR\", \"Latin America & Caribbean (all income levels)\", \"Latin America & Caribbean (developing only)\", \"Latvia\", \"Least developed countries: UN classification\", \"Lebanon\", \"Lesotho\", \"Liberia\", \"Libya\", \"Liechtenstein\", \"Lithuania\", \"Low & middle income\", \"Low income\", \"Lower middle income\", \"Luxembourg\", \"Macao SAR, China\", \"Macedonia, FYR\", \"Madagascar\", \"Malawi\", \"Malaysia\", \"Maldives\", \"Mali\", \"Malta\", \"Marshall Islands\", \"Mauritania\", \"Mauritius\", \"Mexico\", \"Micronesia, Fed. Sts.\", \"Middle East & North Africa (all income levels)\", \"Middle East & North Africa (developing only)\", \"Middle income\", \"Moldova\", \"Monaco\", \"Mongolia\", \"Montenegro\", \"Morocco\", \"Mozambique\", \"Myanmar\", \"Namibia\", \"Nepal\", \"Netherlands\", \"New Caledonia\", \"New Zealand\", \"Nicaragua\", \"Niger\", \"Nigeria\", \"North America\", \"Northern Mariana Islands\", \"Norway\", \"OECD members\", \"Oman\", \"Other small states\", \"Pacific island small states\", \"Pakistan\", \"Palau\", \"Panama\", \"Papua New Guinea\", \"Paraguay\", \"Peru\", \"Philippines\", \"Poland\", \"Portugal\", \"Puerto Rico\", \"Qatar\", \"Romania\", \"Russian Federation\", \"Rwanda\", \"Samoa\", \"San Marino\", \"Sao Tome and Principe\", \"Saudi Arabia\", \"Senegal\", \"Serbia\", \"Seychelles\", \"Sierra Leone\", \"Singapore\", \"Sint Maarten (Dutch part)\", \"Slovak Republic\", \"Slovenia\", \"Small states\", \"Solomon Islands\", \"Somalia\", \"South Africa\", \"South Asia\", \"South Sudan\", \"Spain\", \"Sri Lanka\", \"St. Kitts and Nevis\", \"St. Lucia\", \"St. Martin (French part)\", \"St. Vincent and the Grenadines\", \"Sub-Saharan Africa (all income levels)\", \"Sub-Saharan Africa (developing only)\", \"Sudan\", \"Suriname\", \"Swaziland\", \"Sweden\", \"Switzerland\", \"Syrian Arab Republic\", \"Tajikistan\", \"Tanzania\", \"Thailand\", \"Timor-Leste\", \"Togo\", \"Tonga\", \"Trinidad and Tobago\", \"Tunisia\", \"Turkey\", \"Turkmenistan\", \"Turks and Caicos Islands\", \"Tuvalu\", \"Uganda\", \"Ukraine\", \"United Arab Emirates\", \"United Kingdom\", \"United States\", \"Upper middle income\", \"Uruguay\", \"Uzbekistan\", \"Vanuatu\", \"Venezuela, RB\", \"Vietnam\", \"Virgin Islands (U.S.)\", \"West Bank and Gaza\", \"World\", \"Yemen, Rep.\", \"Zambia\", \"Zimbabwe\"], \"type\": \"choropleth\", \"z\": [102.622175, 19.7581, 10.518849999999999, 58.98251764705882, 144.08708235294117, 182.034475, 52.335275, 49.70019489197949, 62.3826, 26.828525, 29.95565, 16.23885, 9.826874999999998, 50.86237500000001, 36.683525, 14.275324999999999, 89.671325, 47.1066, 21.640775, 9.675125000000001, 73.1422, 97.572575, 70.3888, 38.663199999999996, 77.28659999999999, 13.321575000000001, 44.037675, 69.84375, 22.747, 42.23585, 122.37175, 31.86905, 80.27842499999998, 48.067074999999996, 123.22885, 12.570375, 61.58312188229265, 84.08455914380805, 102.556525, 21.381414842006564, 166.7156, 8.9812, 50.971025000000004, 7.6845, 60.86289999999999, 76.99255, 127.13302499999999, 127.12977500000001, 61.782925, 136.3411, 12.92795, 48.67305, 34.7885, 6.00515, 11.0216, 5.151425, 24.779975, 65.67490000000001, 104.5481, 19.172488954740853, 20.153890388148774, 80.0835, 51.635200000000005, 71.92079999999999, 118.455675, 68.368475, 19.216950000000004, 75.45547499999999, 9.4305782400771, 21.226608186011923, 30.982136585384314, 13.446077987910337, 27.992669857562, 44.064750000000004, 8.238574999999999, 91.953007184761, 9.746649999999999, 39.833675, 117.28485, 115.78415, 48.334675000000004, 8.896875, 70.597825, 10.0178, 26.130599999999998, 38.86022500000001, 48.803975, 88.730775, 150.611075, 110.36207499999999, 92.134075, 43.903699999999986, 112.5091677013205, 23.869545688965403, 19.221348628149137, 37.895281852968374, 76.474175, 3.292525, 19.370975, 11.187349999999999, 37.606625, 51.398125, 29.811525, 79.85485, 14.1778, 12.915, 12.722125, 6.627224999999999, 68.78495, 4.822875, 26.990499999999997, 29.566975, 97.1249, 24.144525, 0.64275, 1.939425, 8.5039, 12.9159, 35.69185, 70.33439999999999, 68.5683366350474, 69.06586854783383, 16.650850000000002, 101.99951208457897, 13.14975, 92.07034999999999, 129.39955, 6.4793, 12.809999999999999, 16.370224999999998, 50.639703020148325, 108.74786574883662, 53.419755009803694, 8.308225, 3.5355750000000006, 19.869625, 128.603725, 148.16145, 12.844050000000001, 11.931775, 178.48997500000002, 18.058549999999997, 53.112399999999994, 84.937975, 32.01875, 68.55380000000001, 22.033075000000004, 38.55824799712559, 41.66034923664712, 43.00700035572995, 26.351774999999996, 21.9896, 18.926075, 15.913499999999999, 32.974375, 163.3114, 18.8695, 79.67612500000001, 84.692275, 4.915025, 20.258499999999998, 27.5348, 98.75915, 210.64225, 119.96789999999999, 32.513376548594835, 17.337752977669947, 7.527025000000001, 27.370325704007264, 12.175475, 77.73225035931912, 42.92015438308087, 41.223800000000004, 61.361599999999996, 80.13072500000001, 59.0695, 64.112725, 53.434749999999994, 55.77185, 15.2541, 14.088349999999998, 48.738324999999996, 13.49455, 37.995400000000004, 27.891375000000004, 35.130825, 29.930475, 60.68889999999999, 90.763275, 11.572675, 91.161775, 21.269374999999997, 59.78552499999999, 134.91065000000003, 4.969775, 12.271199999999997, 20.944599999999998, 4.701675, 71.82348881090032, 58.061524999999996, 118.43400000000001, 55.03247499999999, 45.1355344314839, 88.1334, 10.489325, 20.022375000000004, 39.0411, 58.749975, 57.7055, 56.68597499999999, 112.87270098452201, 112.87217057564612, 95.1016, 49.6746, 86.74297499999999, 5.757099999999999, 3.991775, 43.518024999999994, 40.81270000000001, 126.404, 43.551375, 58.833949999999994, 92.27244999999999, 17.777925, 36.28965, 6.413750000000001, 35.586475, 19.450025, 36.04512727272727, 98.36421818181816, 138.11657499999998, 28.961950000000005, 28.742525, 21.715400000000002, 34.564750000000004, 28.935496163698286, 59.57775000000001, 18.1107, 46.337799999999994, 81.7843, 33.485, 48.41055, 63.54735, 46.832740034519986, 71.7048, 112.55930000000001, 114.97902500000001]}],\n",
       "                        {\"geo\": {\"projection\": {\"type\": \"mercator\"}, \"showframe\": false}, \"height\": 500, \"template\": {\"data\": {\"bar\": [{\"error_x\": {\"color\": \"#2a3f5f\"}, \"error_y\": {\"color\": \"#2a3f5f\"}, \"marker\": {\"line\": {\"color\": \"#E5ECF6\", \"width\": 0.5}}, \"type\": \"bar\"}], \"barpolar\": [{\"marker\": {\"line\": {\"color\": \"#E5ECF6\", \"width\": 0.5}}, \"type\": \"barpolar\"}], \"carpet\": [{\"aaxis\": {\"endlinecolor\": \"#2a3f5f\", \"gridcolor\": \"white\", \"linecolor\": \"white\", \"minorgridcolor\": \"white\", \"startlinecolor\": \"#2a3f5f\"}, \"baxis\": {\"endlinecolor\": \"#2a3f5f\", \"gridcolor\": \"white\", \"linecolor\": \"white\", \"minorgridcolor\": \"white\", \"startlinecolor\": \"#2a3f5f\"}, \"type\": \"carpet\"}], \"choropleth\": [{\"colorbar\": {\"outlinewidth\": 0, \"ticks\": \"\"}, \"type\": \"choropleth\"}], \"contour\": [{\"colorbar\": {\"outlinewidth\": 0, \"ticks\": \"\"}, \"colorscale\": [[0.0, \"#0d0887\"], [0.1111111111111111, \"#46039f\"], [0.2222222222222222, \"#7201a8\"], [0.3333333333333333, \"#9c179e\"], [0.4444444444444444, \"#bd3786\"], [0.5555555555555556, \"#d8576b\"], [0.6666666666666666, \"#ed7953\"], [0.7777777777777778, \"#fb9f3a\"], [0.8888888888888888, \"#fdca26\"], [1.0, \"#f0f921\"]], \"type\": \"contour\"}], \"contourcarpet\": [{\"colorbar\": {\"outlinewidth\": 0, \"ticks\": \"\"}, \"type\": \"contourcarpet\"}], \"heatmap\": [{\"colorbar\": {\"outlinewidth\": 0, \"ticks\": \"\"}, \"colorscale\": [[0.0, \"#0d0887\"], [0.1111111111111111, \"#46039f\"], [0.2222222222222222, \"#7201a8\"], [0.3333333333333333, \"#9c179e\"], [0.4444444444444444, \"#bd3786\"], [0.5555555555555556, \"#d8576b\"], [0.6666666666666666, \"#ed7953\"], [0.7777777777777778, \"#fb9f3a\"], [0.8888888888888888, \"#fdca26\"], [1.0, \"#f0f921\"]], \"type\": \"heatmap\"}], \"heatmapgl\": [{\"colorbar\": {\"outlinewidth\": 0, \"ticks\": \"\"}, \"colorscale\": [[0.0, \"#0d0887\"], [0.1111111111111111, \"#46039f\"], [0.2222222222222222, \"#7201a8\"], [0.3333333333333333, \"#9c179e\"], [0.4444444444444444, \"#bd3786\"], [0.5555555555555556, \"#d8576b\"], [0.6666666666666666, \"#ed7953\"], [0.7777777777777778, \"#fb9f3a\"], [0.8888888888888888, \"#fdca26\"], [1.0, \"#f0f921\"]], \"type\": \"heatmapgl\"}], \"histogram\": [{\"marker\": {\"colorbar\": {\"outlinewidth\": 0, \"ticks\": \"\"}}, \"type\": \"histogram\"}], \"histogram2d\": [{\"colorbar\": {\"outlinewidth\": 0, \"ticks\": \"\"}, \"colorscale\": [[0.0, \"#0d0887\"], [0.1111111111111111, \"#46039f\"], [0.2222222222222222, \"#7201a8\"], [0.3333333333333333, \"#9c179e\"], [0.4444444444444444, \"#bd3786\"], [0.5555555555555556, \"#d8576b\"], [0.6666666666666666, \"#ed7953\"], [0.7777777777777778, \"#fb9f3a\"], [0.8888888888888888, \"#fdca26\"], [1.0, \"#f0f921\"]], \"type\": \"histogram2d\"}], \"histogram2dcontour\": [{\"colorbar\": {\"outlinewidth\": 0, \"ticks\": \"\"}, \"colorscale\": [[0.0, \"#0d0887\"], [0.1111111111111111, \"#46039f\"], [0.2222222222222222, \"#7201a8\"], [0.3333333333333333, \"#9c179e\"], [0.4444444444444444, \"#bd3786\"], [0.5555555555555556, \"#d8576b\"], [0.6666666666666666, \"#ed7953\"], [0.7777777777777778, \"#fb9f3a\"], [0.8888888888888888, \"#fdca26\"], [1.0, \"#f0f921\"]], \"type\": \"histogram2dcontour\"}], \"mesh3d\": [{\"colorbar\": {\"outlinewidth\": 0, \"ticks\": \"\"}, \"type\": \"mesh3d\"}], \"parcoords\": [{\"line\": {\"colorbar\": {\"outlinewidth\": 0, \"ticks\": \"\"}}, \"type\": \"parcoords\"}], \"pie\": [{\"automargin\": true, \"type\": \"pie\"}], \"scatter\": [{\"marker\": {\"colorbar\": {\"outlinewidth\": 0, \"ticks\": \"\"}}, \"type\": \"scatter\"}], \"scatter3d\": [{\"line\": {\"colorbar\": {\"outlinewidth\": 0, \"ticks\": \"\"}}, \"marker\": {\"colorbar\": {\"outlinewidth\": 0, \"ticks\": \"\"}}, \"type\": \"scatter3d\"}], \"scattercarpet\": [{\"marker\": {\"colorbar\": {\"outlinewidth\": 0, \"ticks\": \"\"}}, \"type\": \"scattercarpet\"}], \"scattergeo\": [{\"marker\": {\"colorbar\": {\"outlinewidth\": 0, \"ticks\": \"\"}}, \"type\": \"scattergeo\"}], \"scattergl\": [{\"marker\": {\"colorbar\": {\"outlinewidth\": 0, \"ticks\": \"\"}}, \"type\": \"scattergl\"}], \"scattermapbox\": [{\"marker\": {\"colorbar\": {\"outlinewidth\": 0, \"ticks\": \"\"}}, \"type\": \"scattermapbox\"}], \"scatterpolar\": [{\"marker\": {\"colorbar\": {\"outlinewidth\": 0, \"ticks\": \"\"}}, \"type\": \"scatterpolar\"}], \"scatterpolargl\": [{\"marker\": {\"colorbar\": {\"outlinewidth\": 0, \"ticks\": \"\"}}, \"type\": \"scatterpolargl\"}], \"scatterternary\": [{\"marker\": {\"colorbar\": {\"outlinewidth\": 0, \"ticks\": \"\"}}, \"type\": \"scatterternary\"}], \"surface\": [{\"colorbar\": {\"outlinewidth\": 0, \"ticks\": \"\"}, \"colorscale\": [[0.0, \"#0d0887\"], [0.1111111111111111, \"#46039f\"], [0.2222222222222222, \"#7201a8\"], [0.3333333333333333, \"#9c179e\"], [0.4444444444444444, \"#bd3786\"], [0.5555555555555556, \"#d8576b\"], [0.6666666666666666, \"#ed7953\"], [0.7777777777777778, \"#fb9f3a\"], [0.8888888888888888, \"#fdca26\"], [1.0, \"#f0f921\"]], \"type\": \"surface\"}], \"table\": [{\"cells\": {\"fill\": {\"color\": \"#EBF0F8\"}, \"line\": {\"color\": \"white\"}}, \"header\": {\"fill\": {\"color\": \"#C8D4E3\"}, \"line\": {\"color\": \"white\"}}, \"type\": \"table\"}]}, \"layout\": {\"annotationdefaults\": {\"arrowcolor\": \"#2a3f5f\", \"arrowhead\": 0, \"arrowwidth\": 1}, \"coloraxis\": {\"colorbar\": {\"outlinewidth\": 0, \"ticks\": \"\"}}, \"colorscale\": {\"diverging\": [[0, \"#8e0152\"], [0.1, \"#c51b7d\"], [0.2, \"#de77ae\"], [0.3, \"#f1b6da\"], [0.4, \"#fde0ef\"], [0.5, \"#f7f7f7\"], [0.6, \"#e6f5d0\"], [0.7, \"#b8e186\"], [0.8, \"#7fbc41\"], [0.9, \"#4d9221\"], [1, \"#276419\"]], \"sequential\": [[0.0, \"#0d0887\"], [0.1111111111111111, \"#46039f\"], [0.2222222222222222, \"#7201a8\"], [0.3333333333333333, \"#9c179e\"], [0.4444444444444444, \"#bd3786\"], [0.5555555555555556, \"#d8576b\"], [0.6666666666666666, \"#ed7953\"], [0.7777777777777778, \"#fb9f3a\"], [0.8888888888888888, \"#fdca26\"], [1.0, \"#f0f921\"]], \"sequentialminus\": [[0.0, \"#0d0887\"], [0.1111111111111111, \"#46039f\"], [0.2222222222222222, \"#7201a8\"], [0.3333333333333333, \"#9c179e\"], [0.4444444444444444, \"#bd3786\"], [0.5555555555555556, \"#d8576b\"], [0.6666666666666666, \"#ed7953\"], [0.7777777777777778, \"#fb9f3a\"], [0.8888888888888888, \"#fdca26\"], [1.0, \"#f0f921\"]]}, \"colorway\": [\"#636efa\", \"#EF553B\", \"#00cc96\", \"#ab63fa\", \"#FFA15A\", \"#19d3f3\", \"#FF6692\", \"#B6E880\", \"#FF97FF\", \"#FECB52\"], \"font\": {\"color\": \"#2a3f5f\"}, \"geo\": {\"bgcolor\": \"white\", \"lakecolor\": \"white\", \"landcolor\": \"#E5ECF6\", \"showlakes\": true, \"showland\": true, \"subunitcolor\": \"white\"}, \"hoverlabel\": {\"align\": \"left\"}, \"hovermode\": \"closest\", \"mapbox\": {\"style\": \"light\"}, \"paper_bgcolor\": \"white\", \"plot_bgcolor\": \"#E5ECF6\", \"polar\": {\"angularaxis\": {\"gridcolor\": \"white\", \"linecolor\": \"white\", \"ticks\": \"\"}, \"bgcolor\": \"#E5ECF6\", \"radialaxis\": {\"gridcolor\": \"white\", \"linecolor\": \"white\", \"ticks\": \"\"}}, \"scene\": {\"xaxis\": {\"backgroundcolor\": \"#E5ECF6\", \"gridcolor\": \"white\", \"gridwidth\": 2, \"linecolor\": \"white\", \"showbackground\": true, \"ticks\": \"\", \"zerolinecolor\": \"white\"}, \"yaxis\": {\"backgroundcolor\": \"#E5ECF6\", \"gridcolor\": \"white\", \"gridwidth\": 2, \"linecolor\": \"white\", \"showbackground\": true, \"ticks\": \"\", \"zerolinecolor\": \"white\"}, \"zaxis\": {\"backgroundcolor\": \"#E5ECF6\", \"gridcolor\": \"white\", \"gridwidth\": 2, \"linecolor\": \"white\", \"showbackground\": true, \"ticks\": \"\", \"zerolinecolor\": \"white\"}}, \"shapedefaults\": {\"line\": {\"color\": \"#2a3f5f\"}}, \"ternary\": {\"aaxis\": {\"gridcolor\": \"white\", \"linecolor\": \"white\", \"ticks\": \"\"}, \"baxis\": {\"gridcolor\": \"white\", \"linecolor\": \"white\", \"ticks\": \"\"}, \"bgcolor\": \"#E5ECF6\", \"caxis\": {\"gridcolor\": \"white\", \"linecolor\": \"white\", \"ticks\": \"\"}}, \"title\": {\"x\": 0.05}, \"xaxis\": {\"automargin\": true, \"gridcolor\": \"white\", \"linecolor\": \"white\", \"ticks\": \"\", \"title\": {\"standoff\": 15}, \"zerolinecolor\": \"white\", \"zerolinewidth\": 2}, \"yaxis\": {\"automargin\": true, \"gridcolor\": \"white\", \"linecolor\": \"white\", \"ticks\": \"\", \"title\": {\"standoff\": 15}, \"zerolinecolor\": \"white\", \"zerolinewidth\": 2}}}, \"title\": {\"text\": \"Adolescent fertility rate (births per 1,000 women ages 15-19)\"}},\n",
       "                        {\"responsive\": true}\n",
       "                    ).then(function(){\n",
       "                            \n",
       "var gd = document.getElementById('11cbabfe-019f-462c-9a3f-8db51e07343a');\n",
       "var x = new MutationObserver(function (mutations, observer) {{\n",
       "        var display = window.getComputedStyle(gd).display;\n",
       "        if (!display || display === 'none') {{\n",
       "            console.log([gd, 'removed!']);\n",
       "            Plotly.purge(gd);\n",
       "            observer.disconnect();\n",
       "        }}\n",
       "}});\n",
       "\n",
       "// Listen for the removal of the full notebook cells\n",
       "var notebookContainer = gd.closest('#notebook-container');\n",
       "if (notebookContainer) {{\n",
       "    x.observe(notebookContainer, {childList: true});\n",
       "}}\n",
       "\n",
       "// Listen for the clearing of the current output cell\n",
       "var outputEl = gd.closest('.output');\n",
       "if (outputEl) {{\n",
       "    x.observe(outputEl, {childList: true});\n",
       "}}\n",
       "\n",
       "                        })\n",
       "                };\n",
       "                });\n",
       "            </script>\n",
       "        </div>"
      ]
     },
     "metadata": {},
     "output_type": "display_data"
    }
   ],
   "source": [
    "plotCluster(df,\"\",\"origin\")"
   ]
  },
  {
   "cell_type": "code",
   "execution_count": null,
   "metadata": {},
   "outputs": [
    {
     "name": "stdout",
     "output_type": "stream",
     "text": [
      "\n",
      " ['Adjusted net national income (current US$)', 'Age dependency ratio, young (% of working-age population)', 'Annualized average growth rate in per capita real survey mean consumption or income, total population (%)', 'Birth rate, crude (per 1,000 people)', 'Births attended by skilled health staff (% of total)', 'Adolescent fertility rate (births per 1,000 women ages 15-19)'] \n",
      "\n",
      "0.858189429618001\n",
      "(array([0, 0, 0, ..., 0, 0, 0]), None)\n",
      "\n",
      " ['Adjusted net national income (current US$)', 'Age dependency ratio, young (% of working-age population)', 'Annualized average growth rate in per capita real survey mean consumption or income, total population (%)', 'Birth rate, crude (per 1,000 people)', 'Cause of death, by communicable diseases and maternal, prenatal and nutrition conditions (% of total)', 'Adolescent fertility rate (births per 1,000 women ages 15-19)'] \n",
      "\n",
      "0.14173228346456693\n",
      "(array([1, 1, 1, ..., 1, 1, 1]), None)\n",
      "\n",
      " ['Adjusted net national income (current US$)', 'Age dependency ratio, young (% of working-age population)', 'Annualized average growth rate in per capita real survey mean consumption or income, total population (%)', 'Birth rate, crude (per 1,000 people)', 'CPIA gender equality rating (1=low to 6=high)', 'Adolescent fertility rate (births per 1,000 women ages 15-19)'] \n",
      "\n",
      "0.858040859088528\n",
      "(array([0, 0, 0, ..., 0, 0, 0]), None)\n",
      "\n",
      " ['Adjusted net national income (current US$)', 'Age dependency ratio, young (% of working-age population)', 'Annualized average growth rate in per capita real survey mean consumption or income, total population (%)', 'Birth rate, crude (per 1,000 people)', 'GDP (constant LCU)', 'Adolescent fertility rate (births per 1,000 women ages 15-19)'] \n",
      "\n",
      "0.8747412008281573\n",
      "(array([0, 0, 0, ..., 0, 0, 0]), None)\n",
      "\n",
      " ['Adjusted net national income (current US$)', 'Age dependency ratio, young (% of working-age population)', 'Annualized average growth rate in per capita real survey mean consumption or income, total population (%)', 'Birth rate, crude (per 1,000 people)', 'Net enrolment rate, secondary, both sexes (%)', 'Adolescent fertility rate (births per 1,000 women ages 15-19)'] \n",
      "\n",
      "0.858786610878661\n",
      "(array([0, 0, 0, ..., 0, 0, 0]), None)\n",
      "\n",
      " ['Adjusted net national income (current US$)', 'Age dependency ratio, young (% of working-age population)', 'Annualized average growth rate in per capita real survey mean consumption or income, total population (%)', 'Birth rate, crude (per 1,000 people)', 'Net enrolment rate, secondary, female (%)', 'Adolescent fertility rate (births per 1,000 women ages 15-19)'] \n",
      "\n",
      "0.858786610878661\n",
      "(array([0, 0, 0, ..., 0, 0, 0]), None)\n",
      "\n",
      " ['Adjusted net national income (current US$)', 'Age dependency ratio, young (% of working-age population)', 'Annualized average growth rate in per capita real survey mean consumption or income, total population (%)', 'Birth rate, crude (per 1,000 people)', 'Net enrolment rate, secondary, male (%)', 'Adolescent fertility rate (births per 1,000 women ages 15-19)'] \n",
      "\n",
      "0.858786610878661\n",
      "(array([0, 0, 0, ..., 0, 0, 0]), None)\n",
      "\n",
      " ['Adjusted net national income (current US$)', 'Age dependency ratio, young (% of working-age population)', 'Annualized average growth rate in per capita real survey mean consumption or income, total population (%)', 'Birth rate, crude (per 1,000 people)', 'Population, ages 15-64', 'Adolescent fertility rate (births per 1,000 women ages 15-19)'] \n",
      "\n"
     ]
    }
   ],
   "source": [
    "selection=selection_feature(feature,5)\n",
    "for i in range(len(selection)):\n",
    "    selection[i]=list(selection[i])\n",
    "    selection[i].append('Adolescent fertility rate (births per 1,000 women ages 15-19)')\n",
    "    print('\\n',selection[i],'\\n')\n",
    "    df=transformDf(data,selection[i],True)\n",
    "    df=preprocessingMissing(df)\n",
    "    print(runKMeans(df, 2,0, 0))\n",
    "    "
   ]
  },
  {
   "cell_type": "code",
   "execution_count": 115,
   "metadata": {},
   "outputs": [],
   "source": [
    "eps=[10, 20, 30, 40, 50 ]\n",
    "min_samples=[ 3, 5, 10, 15, 20, 30, 50, 100 ]\n",
    "dis_measure = ['euclidean', 'hamming']"
   ]
  },
  {
   "cell_type": "code",
   "execution_count": 126,
   "metadata": {
    "collapsed": true
   },
   "outputs": [
    {
     "name": "stdout",
     "output_type": "stream",
     "text": [
      "[-1 -1 -1 ...  2  2  2]\n"
     ]
    },
    {
     "data": {
      "image/png": "[encoded data removed]",
      "text/plain": [
       "<Figure size 1080x360 with 1 Axes>"
      ]
     },
     "metadata": {
      "needs_background": "light"
     },
     "output_type": "display_data"
    },
    {
     "name": "stdout",
     "output_type": "stream",
     "text": [
      "0.1486784140969163\n"
     ]
    }
   ],
   "source": [
    "runDBSCAN(df,10,5,'euclidean')"
   ]
  },
  {
   "cell_type": "code",
   "execution_count": 128,
   "metadata": {
    "collapsed": true
   },
   "outputs": [
    {
     "data": {
      "image/png": "[encoded data removed]",
      "text/plain": [
       "<Figure size 1080x360 with 1 Axes>"
      ]
     },
     "metadata": {
      "needs_background": "light"
     },
     "output_type": "display_data"
    },
    {
     "name": "stdout",
     "output_type": "stream",
     "text": [
      "0.0\n"
     ]
    }
   ],
   "source": [
    "runGMM(df, 3)"
   ]
  },
  {
   "cell_type": "code",
   "execution_count": 117,
   "metadata": {
    "scrolled": true
   },
   "outputs": [
    {
     "data": {
      "text/plain": [
       "'\\n선택지\\n1. rel_columns_8 or 7\\n2. 몇개 미만이면 제외할지\\n3. kmeans parameter\\n'"
      ]
     },
     "execution_count": 117,
     "metadata": {},
     "output_type": "execute_result"
    }
   ],
   "source": [
    "'''\n",
    "선택지\n",
    "1. rel_columns_8 or 7\n",
    "2. 몇개 미만이면 제외할지\n",
    "3. kmeans parameter\n",
    "'''"
   ]
  },
  {
   "cell_type": "code",
   "execution_count": 118,
   "metadata": {},
   "outputs": [],
   "source": []
  },
  {
   "cell_type": "code",
   "execution_count": 125,
   "metadata": {
    "collapsed": true
   },
   "outputs": [
    {
     "data": {
      "image/png": "[encoded data removed]",
      "text/plain": [
       "<Figure size 1080x360 with 1 Axes>"
      ]
     },
     "metadata": {
      "needs_background": "light"
     },
     "output_type": "display_data"
    },
    {
     "name": "stdout",
     "output_type": "stream",
     "text": [
      "0.2615638766519824\n"
     ]
    },
    {
     "data": {
      "text/plain": [
       "(array([0, 0, 0, ..., 0, 0, 0]), None)"
      ]
     },
     "execution_count": 125,
     "metadata": {},
     "output_type": "execute_result"
    }
   ],
   "source": [
    "runKMeans(df,2,600,30)"
   ]
  },
  {
   "cell_type": "code",
   "execution_count": 124,
   "metadata": {
    "collapsed": true
   },
   "outputs": [
    {
     "data": {
      "image/png": "[encoded data removed]",
      "text/plain": [
       "<Figure size 1080x360 with 1 Axes>"
      ]
     },
     "metadata": {
      "needs_background": "light"
     },
     "output_type": "display_data"
    },
    {
     "name": "stdout",
     "output_type": "stream",
     "text": [
      "0.5748898678414097\n"
     ]
    },
    {
     "data": {
      "text/plain": [
       "(array([1, 1, 1, ..., 1, 1, 1]), None)"
      ]
     },
     "execution_count": 124,
     "metadata": {},
     "output_type": "execute_result"
    }
   ],
   "source": [
    "runKMeans(df,3,600,30)"
   ]
  },
  {
   "cell_type": "code",
   "execution_count": 121,
   "metadata": {
    "collapsed": true
   },
   "outputs": [
    {
     "name": "stdout",
     "output_type": "stream",
     "text": [
      "[-1 -1 -1 ...  3  3  3]\n"
     ]
    },
    {
     "data": {
      "image/png": "[encoded data removed]",
      "text/plain": [
       "<Figure size 1080x360 with 1 Axes>"
      ]
     },
     "metadata": {
      "needs_background": "light"
     },
     "output_type": "display_data"
    },
    {
     "name": "stdout",
     "output_type": "stream",
     "text": [
      "0.355726872246696\n"
     ]
    }
   ],
   "source": [
    "runDBSCAN(df,5,10,'euclidean')"
   ]
  },
  {
   "cell_type": "code",
   "execution_count": 122,
   "metadata": {
    "collapsed": true
   },
   "outputs": [
    {
     "data": {
      "image/png": "[encoded data removed]",
      "text/plain": [
       "<Figure size 1080x360 with 1 Axes>"
      ]
     },
     "metadata": {
      "needs_background": "light"
     },
     "output_type": "display_data"
    },
    {
     "name": "stdout",
     "output_type": "stream",
     "text": [
      "0.23788546255506607\n"
     ]
    }
   ],
   "source": [
    "runGMM(df, 3)"
   ]
  },
  {
   "cell_type": "code",
   "execution_count": null,
   "metadata": {},
   "outputs": [],
   "source": []
  }
 ],
 "metadata": {
  "kernelspec": {
   "display_name": "Python 3",
   "language": "python",
   "name": "python3"
  },
  "language_info": {
   "codemirror_mode": {
    "name": "ipython",
    "version": 3
   },
   "file_extension": ".py",
   "mimetype": "text/x-python",
   "name": "python",
   "nbconvert_exporter": "python",
   "pygments_lexer": "ipython3",
   "version": "3.7.4"
  }
 },
 "nbformat": 4,
 "nbformat_minor": 2
}
