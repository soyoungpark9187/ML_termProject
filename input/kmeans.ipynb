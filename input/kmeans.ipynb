{
 "cells": [
  {
   "cell_type": "code",
   "execution_count": 2,
   "metadata": {},
   "outputs": [],
   "source": [
    "import pandas as pd\n",
    "import numpy as np\n",
    "import math\n",
    "from sklearn.cluster import KMeans\n",
    "import sklearn.preprocessing as preprocessing\n"
   ]
  },
  {
   "cell_type": "code",
   "execution_count": 125,
   "metadata": {},
   "outputs": [
    {
     "data": {
      "text/plain": [
       "(5656458, 6)"
      ]
     },
     "execution_count": 125,
     "metadata": {},
     "output_type": "execute_result"
    }
   ],
   "source": [
    "data = pd.read_csv('Indicators.csv')\n",
    "data.shape"
   ]
  },
  {
   "cell_type": "code",
   "execution_count": 126,
   "metadata": {},
   "outputs": [
    {
     "data": {
      "text/html": [
       "<div>\n",
       "<style scoped>\n",
       "    .dataframe tbody tr th:only-of-type {\n",
       "        vertical-align: middle;\n",
       "    }\n",
       "\n",
       "    .dataframe tbody tr th {\n",
       "        vertical-align: top;\n",
       "    }\n",
       "\n",
       "    .dataframe thead th {\n",
       "        text-align: right;\n",
       "    }\n",
       "</style>\n",
       "<table border=\"1\" class=\"dataframe\">\n",
       "  <thead>\n",
       "    <tr style=\"text-align: right;\">\n",
       "      <th></th>\n",
       "      <th>CountryName</th>\n",
       "      <th>CountryCode</th>\n",
       "      <th>IndicatorName</th>\n",
       "      <th>IndicatorCode</th>\n",
       "      <th>Year</th>\n",
       "      <th>Value</th>\n",
       "    </tr>\n",
       "  </thead>\n",
       "  <tbody>\n",
       "    <tr>\n",
       "      <th>0</th>\n",
       "      <td>Arab World</td>\n",
       "      <td>ARB</td>\n",
       "      <td>Adolescent fertility rate (births per 1,000 wo...</td>\n",
       "      <td>SP.ADO.TFRT</td>\n",
       "      <td>1960</td>\n",
       "      <td>1.335609e+02</td>\n",
       "    </tr>\n",
       "    <tr>\n",
       "      <th>1</th>\n",
       "      <td>Arab World</td>\n",
       "      <td>ARB</td>\n",
       "      <td>Age dependency ratio (% of working-age populat...</td>\n",
       "      <td>SP.POP.DPND</td>\n",
       "      <td>1960</td>\n",
       "      <td>8.779760e+01</td>\n",
       "    </tr>\n",
       "    <tr>\n",
       "      <th>2</th>\n",
       "      <td>Arab World</td>\n",
       "      <td>ARB</td>\n",
       "      <td>Age dependency ratio, old (% of working-age po...</td>\n",
       "      <td>SP.POP.DPND.OL</td>\n",
       "      <td>1960</td>\n",
       "      <td>6.634579e+00</td>\n",
       "    </tr>\n",
       "    <tr>\n",
       "      <th>3</th>\n",
       "      <td>Arab World</td>\n",
       "      <td>ARB</td>\n",
       "      <td>Age dependency ratio, young (% of working-age ...</td>\n",
       "      <td>SP.POP.DPND.YG</td>\n",
       "      <td>1960</td>\n",
       "      <td>8.102333e+01</td>\n",
       "    </tr>\n",
       "    <tr>\n",
       "      <th>4</th>\n",
       "      <td>Arab World</td>\n",
       "      <td>ARB</td>\n",
       "      <td>Arms exports (SIPRI trend indicator values)</td>\n",
       "      <td>MS.MIL.XPRT.KD</td>\n",
       "      <td>1960</td>\n",
       "      <td>3.000000e+06</td>\n",
       "    </tr>\n",
       "  </tbody>\n",
       "</table>\n",
       "</div>"
      ],
      "text/plain": [
       "  CountryName CountryCode                                      IndicatorName  \\\n",
       "0  Arab World         ARB  Adolescent fertility rate (births per 1,000 wo...   \n",
       "1  Arab World         ARB  Age dependency ratio (% of working-age populat...   \n",
       "2  Arab World         ARB  Age dependency ratio, old (% of working-age po...   \n",
       "3  Arab World         ARB  Age dependency ratio, young (% of working-age ...   \n",
       "4  Arab World         ARB        Arms exports (SIPRI trend indicator values)   \n",
       "\n",
       "    IndicatorCode  Year         Value  \n",
       "0     SP.ADO.TFRT  1960  1.335609e+02  \n",
       "1     SP.POP.DPND  1960  8.779760e+01  \n",
       "2  SP.POP.DPND.OL  1960  6.634579e+00  \n",
       "3  SP.POP.DPND.YG  1960  8.102333e+01  \n",
       "4  MS.MIL.XPRT.KD  1960  3.000000e+06  "
      ]
     },
     "execution_count": 126,
     "metadata": {},
     "output_type": "execute_result"
    }
   ],
   "source": [
    "data['Year'].unique()\n",
    "data.head()"
   ]
  },
  {
   "cell_type": "code",
   "execution_count": 127,
   "metadata": {
    "scrolled": true
   },
   "outputs": [],
   "source": [
    "data2000=data[ (data['Year'] >= 2000) & (data['Year'] < 2015) ]\n"
   ]
  },
  {
   "cell_type": "code",
   "execution_count": 128,
   "metadata": {},
   "outputs": [
    {
     "name": "stdout",
     "output_type": "stream",
     "text": [
      "2470684\n"
     ]
    },
    {
     "data": {
      "text/plain": [
       "CountryName      0\n",
       "CountryCode      0\n",
       "IndicatorName    0\n",
       "IndicatorCode    0\n",
       "Year             0\n",
       "Value            0\n",
       "dtype: int64"
      ]
     },
     "execution_count": 128,
     "metadata": {},
     "output_type": "execute_result"
    }
   ],
   "source": [
    "print(len(data2000))\n",
    "data2000.isna().sum()"
   ]
  },
  {
   "cell_type": "code",
   "execution_count": 131,
   "metadata": {
    "scrolled": true
   },
   "outputs": [
    {
     "data": {
      "text/plain": [
       "Int64Index([3171031, 3171063, 3171064, 3171066, 3171288, 3171289, 3171319,\n",
       "            3171320, 3171321, 3171389,\n",
       "            ...\n",
       "            5637555, 5637984, 5638501, 5639029, 5639237, 5639819, 5639867,\n",
       "            5640160, 5640552, 5641121],\n",
       "           dtype='int64', length=16417)"
      ]
     },
     "execution_count": 131,
     "metadata": {},
     "output_type": "execute_result"
    }
   ],
   "source": [
    "\n",
    "col8 = data2000[(data2000['IndicatorName'].isin(rel_columns_8))]\n",
    "col8.index"
   ]
  },
  {
   "cell_type": "code",
   "execution_count": 133,
   "metadata": {
    "scrolled": true
   },
   "outputs": [
    {
     "name": "stderr",
     "output_type": "stream",
     "text": [
      "c:\\users\\parksoyoung\\appdata\\local\\programs\\python\\python37\\lib\\site-packages\\ipykernel_launcher.py:5: SettingWithCopyWarning: \n",
      "A value is trying to be set on a copy of a slice from a DataFrame.\n",
      "Try using .loc[row_indexer,col_indexer] = value instead\n",
      "\n",
      "See the caveats in the documentation: http://pandas.pydata.org/pandas-docs/stable/user_guide/indexing.html#returning-a-view-versus-a-copy\n",
      "  \"\"\"\n"
     ]
    }
   ],
   "source": [
    "name_list = list()\n",
    "\n",
    "for i in col8.index:\n",
    "    name_list.append( col8.loc[i,'CountryName'] + \"_\" + str(col8.loc[i,'Year']))\n",
    "col8[\"name\"] = name_list"
   ]
  },
  {
   "cell_type": "code",
   "execution_count": 134,
   "metadata": {},
   "outputs": [],
   "source": [
    "data = col8"
   ]
  },
  {
   "cell_type": "code",
   "execution_count": 135,
   "metadata": {},
   "outputs": [
    {
     "data": {
      "text/html": [
       "<div>\n",
       "<style scoped>\n",
       "    .dataframe tbody tr th:only-of-type {\n",
       "        vertical-align: middle;\n",
       "    }\n",
       "\n",
       "    .dataframe tbody tr th {\n",
       "        vertical-align: top;\n",
       "    }\n",
       "\n",
       "    .dataframe thead th {\n",
       "        text-align: right;\n",
       "    }\n",
       "</style>\n",
       "<table border=\"1\" class=\"dataframe\">\n",
       "  <thead>\n",
       "    <tr style=\"text-align: right;\">\n",
       "      <th></th>\n",
       "      <th>CountryName</th>\n",
       "      <th>CountryCode</th>\n",
       "      <th>IndicatorName</th>\n",
       "      <th>IndicatorCode</th>\n",
       "      <th>Year</th>\n",
       "      <th>Value</th>\n",
       "      <th>name</th>\n",
       "    </tr>\n",
       "  </thead>\n",
       "  <tbody>\n",
       "    <tr>\n",
       "      <th>3171031</th>\n",
       "      <td>Arab World</td>\n",
       "      <td>ARB</td>\n",
       "      <td>Adolescent fertility rate (births per 1,000 wo...</td>\n",
       "      <td>SP.ADO.TFRT</td>\n",
       "      <td>2000</td>\n",
       "      <td>53.829472</td>\n",
       "      <td>Arab World_2000</td>\n",
       "    </tr>\n",
       "    <tr>\n",
       "      <th>3171063</th>\n",
       "      <td>Arab World</td>\n",
       "      <td>ARB</td>\n",
       "      <td>Birth rate, crude (per 1,000 people)</td>\n",
       "      <td>SP.DYN.CBRT.IN</td>\n",
       "      <td>2000</td>\n",
       "      <td>28.282837</td>\n",
       "      <td>Arab World_2000</td>\n",
       "    </tr>\n",
       "    <tr>\n",
       "      <th>3171064</th>\n",
       "      <td>Arab World</td>\n",
       "      <td>ARB</td>\n",
       "      <td>Cause of death, by communicable diseases and m...</td>\n",
       "      <td>SH.DTH.COMM.ZS</td>\n",
       "      <td>2000</td>\n",
       "      <td>34.960297</td>\n",
       "      <td>Arab World_2000</td>\n",
       "    </tr>\n",
       "    <tr>\n",
       "      <th>3171066</th>\n",
       "      <td>Arab World</td>\n",
       "      <td>ARB</td>\n",
       "      <td>Cause of death, by non-communicable diseases (...</td>\n",
       "      <td>SH.DTH.NCOM.ZS</td>\n",
       "      <td>2000</td>\n",
       "      <td>56.536043</td>\n",
       "      <td>Arab World_2000</td>\n",
       "    </tr>\n",
       "    <tr>\n",
       "      <th>3171288</th>\n",
       "      <td>Arab World</td>\n",
       "      <td>ARB</td>\n",
       "      <td>Mortality rate, under-5, female (per 1,000 liv...</td>\n",
       "      <td>SH.DYN.MORT.FE</td>\n",
       "      <td>2000</td>\n",
       "      <td>56.807549</td>\n",
       "      <td>Arab World_2000</td>\n",
       "    </tr>\n",
       "  </tbody>\n",
       "</table>\n",
       "</div>"
      ],
      "text/plain": [
       "        CountryName CountryCode  \\\n",
       "3171031  Arab World         ARB   \n",
       "3171063  Arab World         ARB   \n",
       "3171064  Arab World         ARB   \n",
       "3171066  Arab World         ARB   \n",
       "3171288  Arab World         ARB   \n",
       "\n",
       "                                             IndicatorName   IndicatorCode  \\\n",
       "3171031  Adolescent fertility rate (births per 1,000 wo...     SP.ADO.TFRT   \n",
       "3171063               Birth rate, crude (per 1,000 people)  SP.DYN.CBRT.IN   \n",
       "3171064  Cause of death, by communicable diseases and m...  SH.DTH.COMM.ZS   \n",
       "3171066  Cause of death, by non-communicable diseases (...  SH.DTH.NCOM.ZS   \n",
       "3171288  Mortality rate, under-5, female (per 1,000 liv...  SH.DYN.MORT.FE   \n",
       "\n",
       "         Year      Value             name  \n",
       "3171031  2000  53.829472  Arab World_2000  \n",
       "3171063  2000  28.282837  Arab World_2000  \n",
       "3171064  2000  34.960297  Arab World_2000  \n",
       "3171066  2000  56.536043  Arab World_2000  \n",
       "3171288  2000  56.807549  Arab World_2000  "
      ]
     },
     "execution_count": 135,
     "metadata": {},
     "output_type": "execute_result"
    }
   ],
   "source": [
    "data.head()"
   ]
  },
  {
   "cell_type": "code",
   "execution_count": 4,
   "metadata": {},
   "outputs": [],
   "source": [
    "rel_columns_8 = ['Adolescent fertility rate (births per 1,000 women ages 15-19)',\n",
    " 'Birth rate, crude (per 1,000 people)',\n",
    " 'Net enrolment rate, secondary, both sexes (%)',\n",
    " 'Net enrolment rate, secondary, female (%)',\n",
    " 'Net enrolment rate, secondary, male (%)',\n",
    " 'Teenage mothers (% of women ages 15-19 who have had children or are currently pregnant)',\n",
    " 'Mortality rate, under-5, female (per 1,000 live births)',\n",
    " 'Mortality rate, under-5, male (per 1,000 live births)',\n",
    " 'Prevalence of anemia among children (% of children under 5)',\n",
    " 'Cause of death, by communicable diseases and maternal, prenatal and nutrition conditions (% of total)',\n",
    " 'Cause of death, by non-communicable diseases (% of total)',\n",
    " 'Survey mean consumption or income per capita, bottom 40% of population (2005 PPP $ per day)',\n",
    " 'Survey mean consumption or income per capita, total population (2005 PPP $ per day)']"
   ]
  },
  {
   "cell_type": "code",
   "execution_count": 5,
   "metadata": {},
   "outputs": [],
   "source": [
    "rel_columns_7 = ['Adolescent fertility rate (births per 1,000 women ages 15-19)',\n",
    " 'Age dependency ratio (% of working-age population)',\n",
    " 'Age dependency ratio, young (% of working-age population)',\n",
    " 'Birth rate, crude (per 1,000 people)',\n",
    " 'Fertility rate, total (births per woman)',\n",
    " 'Life expectancy at birth, female (years)',\n",
    " 'Life expectancy at birth, male (years)',\n",
    " 'Life expectancy at birth, total (years)',\n",
    " 'Mortality rate, adult, female (per 1,000 female adults)',\n",
    " 'Mortality rate, infant (per 1,000 live births)',\n",
    " 'Mortality rate, under-5 (per 1,000)',\n",
    " 'Population, ages 0-14 (% of total)',\n",
    " 'Population, ages 15-64 (% of total)',\n",
    " 'Survival to age 65, female (% of cohort)',\n",
    " 'Survival to age 65, male (% of cohort)',\n",
    " 'Adjusted net enrolment rate, primary, both sexes (%)',\n",
    " 'Adjusted net enrolment rate, primary, female (%)',\n",
    " 'Gross enrolment ratio, secondary, both sexes (%)',\n",
    " 'Gross enrolment ratio, secondary, female (%)',\n",
    " 'Gross enrolment ratio, secondary, male (%)',\n",
    " 'Lower secondary completion rate, both sexes (%)',\n",
    " 'Net enrolment rate, secondary, both sexes (%)',\n",
    " 'Net enrolment rate, secondary, female (%)',\n",
    " 'Net enrolment rate, secondary, male (%)',\n",
    " 'Primary completion rate, both sexes (%)',\n",
    " 'Primary completion rate, female (%)',\n",
    " 'Survival rate to the last grade of primary education, both sexes (%)',\n",
    " 'Lower secondary completion rate, female (%)',\n",
    " 'Lower secondary completion rate, male (%)',\n",
    " 'Survival rate to the last grade of primary education, female (%)',\n",
    " 'Survival rate to the last grade of primary education, male (%)',\n",
    " 'Survival rate to Grade 5 of primary education, female (%)',\n",
    " 'Youth literacy rate, population 15-24 years, both sexes (%)',\n",
    " 'Youth literacy rate, population 15-24 years, male (%)',\n",
    " 'Teenage mothers (% of women ages 15-19 who have had children or are currently pregnant)',\n",
    " 'Wanted fertility rate (births per woman)',\n",
    " 'Access to electricity (% of population)',\n",
    " 'Access to electricity, rural (% of rural population)',\n",
    " 'Improved sanitation facilities (% of population with access)',\n",
    " 'Improved sanitation facilities, rural (% of rural population with access)',\n",
    " 'Improved sanitation facilities, urban (% of urban population with access)',\n",
    " 'Improved water source (% of population with access)',\n",
    " 'Improved water source, rural (% of rural population with access)',\n",
    " 'Lifetime risk of maternal death (%)',\n",
    " 'Maternal mortality ratio (modeled estimate, per 100,000 live births)',\n",
    " 'Mortality rate, infant, female (per 1,000 live births)',\n",
    " 'Mortality rate, infant, male (per 1,000 live births)',\n",
    " 'Mortality rate, neonatal (per 1,000 live births)',\n",
    " 'Mortality rate, under-5, female (per 1,000 live births)',\n",
    " 'Mortality rate, under-5, male (per 1,000 live births)',\n",
    " 'Prevalence of anemia among children (% of children under 5)',\n",
    " 'Prevalence of anemia among pregnant women (%)',\n",
    " 'Renewable energy consumption (% of total final energy consumption)',\n",
    " 'Cause of death, by communicable diseases and maternal, prenatal and nutrition conditions (% of total)',\n",
    " 'Cause of death, by non-communicable diseases (% of total)',\n",
    " 'Survey mean consumption or income per capita, bottom 40% of population (2005 PPP $ per day)',\n",
    " 'Survey mean consumption or income per capita, total population (2005 PPP $ per day)']"
   ]
  },
  {
   "cell_type": "code",
   "execution_count": 6,
   "metadata": {},
   "outputs": [],
   "source": [
    "# 여기서부터 관련도 높은 feature 뽑는 것\n",
    "target_id = 'Adolescent fertility rate (births per 1,000 women ages 15-19)';\n",
    "\n",
    "target = data[data['IndicatorName']==target_id]"
   ]
  },
  {
   "cell_type": "code",
   "execution_count": 20,
   "metadata": {
    "scrolled": true
   },
   "outputs": [
    {
     "name": "stdout",
     "output_type": "stream",
     "text": [
      "247\n"
     ]
    },
    {
     "data": {
      "text/plain": [
       "array(['Arab World', 'Caribbean small states',\n",
       "       'Central Europe and the Baltics',\n",
       "       'East Asia & Pacific (all income levels)',\n",
       "       'East Asia & Pacific (developing only)', 'Euro area',\n",
       "       'Europe & Central Asia (all income levels)',\n",
       "       'Europe & Central Asia (developing only)', 'European Union',\n",
       "       'Fragile and conflict affected situations',\n",
       "       'Heavily indebted poor countries (HIPC)', 'High income',\n",
       "       'High income: nonOECD', 'High income: OECD',\n",
       "       'Latin America & Caribbean (all income levels)',\n",
       "       'Latin America & Caribbean (developing only)',\n",
       "       'Least developed countries: UN classification',\n",
       "       'Low & middle income', 'Low income', 'Lower middle income',\n",
       "       'Middle East & North Africa (all income levels)',\n",
       "       'Middle East & North Africa (developing only)', 'Middle income',\n",
       "       'North America', 'OECD members', 'Other small states',\n",
       "       'Pacific island small states', 'Small states', 'South Asia',\n",
       "       'Sub-Saharan Africa (all income levels)',\n",
       "       'Sub-Saharan Africa (developing only)', 'Upper middle income',\n",
       "       'World', 'Afghanistan', 'Albania', 'Algeria', 'American Samoa',\n",
       "       'Andorra', 'Angola', 'Antigua and Barbuda', 'Argentina', 'Armenia',\n",
       "       'Aruba', 'Australia', 'Austria', 'Azerbaijan', 'Bahamas, The',\n",
       "       'Bahrain', 'Bangladesh', 'Barbados', 'Belarus', 'Belgium',\n",
       "       'Belize', 'Benin', 'Bermuda', 'Bhutan', 'Bolivia',\n",
       "       'Bosnia and Herzegovina', 'Botswana', 'Brazil',\n",
       "       'Brunei Darussalam', 'Bulgaria', 'Burkina Faso', 'Burundi',\n",
       "       'Cabo Verde', 'Cambodia', 'Cameroon', 'Canada', 'Cayman Islands',\n",
       "       'Central African Republic', 'Chad', 'Channel Islands', 'Chile',\n",
       "       'China', 'Colombia', 'Comoros', 'Congo, Dem. Rep.', 'Congo, Rep.',\n",
       "       'Costa Rica', \"Cote d'Ivoire\", 'Croatia', 'Cuba', 'Curacao',\n",
       "       'Cyprus', 'Czech Republic', 'Denmark', 'Djibouti', 'Dominica',\n",
       "       'Dominican Republic', 'Ecuador', 'Egypt, Arab Rep.', 'El Salvador',\n",
       "       'Equatorial Guinea', 'Eritrea', 'Estonia', 'Ethiopia',\n",
       "       'Faeroe Islands', 'Fiji', 'Finland', 'France', 'French Polynesia',\n",
       "       'Gabon', 'Gambia, The', 'Georgia', 'Germany', 'Ghana', 'Greece',\n",
       "       'Greenland', 'Grenada', 'Guam', 'Guatemala', 'Guinea',\n",
       "       'Guinea-Bissau', 'Guyana', 'Haiti', 'Honduras',\n",
       "       'Hong Kong SAR, China', 'Hungary', 'Iceland', 'India', 'Indonesia',\n",
       "       'Iran, Islamic Rep.', 'Iraq', 'Ireland', 'Isle of Man', 'Israel',\n",
       "       'Italy', 'Jamaica', 'Japan', 'Jordan', 'Kazakhstan', 'Kenya',\n",
       "       'Kiribati', 'Korea, Dem. Rep.', 'Korea, Rep.', 'Kosovo', 'Kuwait',\n",
       "       'Kyrgyz Republic', 'Lao PDR', 'Latvia', 'Lebanon', 'Lesotho',\n",
       "       'Liberia', 'Libya', 'Liechtenstein', 'Lithuania', 'Luxembourg',\n",
       "       'Macao SAR, China', 'Macedonia, FYR', 'Madagascar', 'Malawi',\n",
       "       'Malaysia', 'Maldives', 'Mali', 'Malta', 'Marshall Islands',\n",
       "       'Mauritania', 'Mauritius', 'Mexico', 'Micronesia, Fed. Sts.',\n",
       "       'Moldova', 'Monaco', 'Mongolia', 'Montenegro', 'Morocco',\n",
       "       'Mozambique', 'Myanmar', 'Namibia', 'Nepal', 'Netherlands',\n",
       "       'New Caledonia', 'New Zealand', 'Nicaragua', 'Niger', 'Nigeria',\n",
       "       'Northern Mariana Islands', 'Norway', 'Oman', 'Pakistan', 'Palau',\n",
       "       'Panama', 'Papua New Guinea', 'Paraguay', 'Peru', 'Philippines',\n",
       "       'Poland', 'Portugal', 'Puerto Rico', 'Qatar', 'Romania',\n",
       "       'Russian Federation', 'Rwanda', 'Samoa', 'San Marino',\n",
       "       'Sao Tome and Principe', 'Saudi Arabia', 'Senegal', 'Serbia',\n",
       "       'Seychelles', 'Sierra Leone', 'Singapore',\n",
       "       'Sint Maarten (Dutch part)', 'Slovak Republic', 'Slovenia',\n",
       "       'Solomon Islands', 'Somalia', 'South Africa', 'South Sudan',\n",
       "       'Spain', 'Sri Lanka', 'St. Kitts and Nevis', 'St. Lucia',\n",
       "       'St. Martin (French part)', 'St. Vincent and the Grenadines',\n",
       "       'Sudan', 'Suriname', 'Swaziland', 'Sweden', 'Switzerland',\n",
       "       'Syrian Arab Republic', 'Tajikistan', 'Tanzania', 'Thailand',\n",
       "       'Timor-Leste', 'Togo', 'Tonga', 'Trinidad and Tobago', 'Tunisia',\n",
       "       'Turkey', 'Turkmenistan', 'Turks and Caicos Islands', 'Tuvalu',\n",
       "       'Uganda', 'Ukraine', 'United Arab Emirates', 'United Kingdom',\n",
       "       'United States', 'Uruguay', 'Uzbekistan', 'Vanuatu',\n",
       "       'Venezuela, RB', 'Vietnam', 'Virgin Islands (U.S.)',\n",
       "       'West Bank and Gaza', 'Yemen, Rep.', 'Zambia', 'Zimbabwe'],\n",
       "      dtype=object)"
      ]
     },
     "execution_count": 20,
     "metadata": {},
     "output_type": "execute_result"
    }
   ],
   "source": [
    "print(len(data['CountryName'].unique()))\n",
    "data['CountryName'].unique()"
   ]
  },
  {
   "cell_type": "code",
   "execution_count": 23,
   "metadata": {},
   "outputs": [],
   "source": [
    "def merge_8(merged):\n",
    "    for i in rel_columns_8:\n",
    "        target = data[data['IndicatorName']==i]\n",
    "        target.rename(columns={\"Value\": i}, inplace = True)\n",
    "        target=target.drop(columns=['IndicatorCode', 'IndicatorName', 'CountryCode'])\n",
    "        merged_bef = merged\n",
    "        merged = pd.merge(merged, target)\n",
    "        if len(merged) < 300:\n",
    "            merged = merged_bef\n",
    "    return merged"
   ]
  },
  {
   "cell_type": "code",
   "execution_count": 8,
   "metadata": {},
   "outputs": [],
   "source": [
    "def merge_7(merged):\n",
    "    for i in rel_columns_7:\n",
    "        target = data[data['IndicatorName']==i]\n",
    "        target.rename(columns={\"Value\": i}, inplace = True)\n",
    "        target=target.drop(columns=['IndicatorCode', 'IndicatorName', 'CountryCode'])\n",
    "        merged_bef = merged\n",
    "        merged = pd.merge(merged, target)\n",
    "        if len(merged) < 300:\n",
    "            merged = merged_bef\n",
    "    return merged"
   ]
  },
  {
   "cell_type": "code",
   "execution_count": 9,
   "metadata": {},
   "outputs": [],
   "source": [
    "def make_grade(merged, k):\n",
    "    min_value = min(merged['Value'])\n",
    "    max_value = max(merged['Value'])\n",
    "    value=(max_value-min_value)/k\n",
    "    for i in range(k):\n",
    "        for j in range(len(merged)):\n",
    "            if merged.loc[j, 'Value'] > min_value + value*i and merged.loc[j, 'Value'] < min_value + value*(i+1):\n",
    "                merged.loc[j, 'grade'] = i\n",
    "    return merged"
   ]
  },
  {
   "cell_type": "code",
   "execution_count": 10,
   "metadata": {},
   "outputs": [],
   "source": [
    "# label encode categorical data (array)\n",
    "def labelEncode_arr(y):\n",
    "    '''\n",
    "    label encoding array\n",
    "    return value: label encoded array\n",
    "    '''\n",
    "    le = preprocessing.LabelEncoder()\n",
    "    le.fit(y)\n",
    "    y= le.transform(y)\n",
    "    return y"
   ]
  },
  {
   "cell_type": "code",
   "execution_count": 11,
   "metadata": {},
   "outputs": [],
   "source": [
    "def calcAccuracy(kmeans, x,y):\n",
    "    '''\n",
    "    print accuracy of prediction\n",
    "    '''\n",
    "    correct=0\n",
    "    for i in range(len(x)):\n",
    "        predict_me= np.array(x[i].astype(float))\n",
    "        predict_me = predict_me.reshape(-1, len(predict_me))\n",
    "        prediction = kmeans.predict(predict_me)\n",
    "        if prediction[0] == y[i]:\n",
    "            correct += 1\n",
    "    print(correct/len(x))"
   ]
  },
  {
   "cell_type": "code",
   "execution_count": 12,
   "metadata": {},
   "outputs": [],
   "source": [
    "def preprocess_df_8(merged, k):\n",
    "    merged=merge_8(merged)\n",
    "    make_grade(merged, k)\n",
    "    \n",
    "    merged['CountryName']= labelEncode_arr(merged['CountryName'])\n",
    "    \n",
    "    return merged"
   ]
  },
  {
   "cell_type": "code",
   "execution_count": 13,
   "metadata": {},
   "outputs": [],
   "source": [
    "def preprocess_df_7(merged, k):\n",
    "    merged=merge_7(merged)\n",
    "    make_grade(merged, k)\n",
    "    \n",
    "    merged['CountryName']= labelEncode_arr(merged['CountryName'])\n",
    "\n",
    "    return merged"
   ]
  },
  {
   "cell_type": "code",
   "execution_count": 137,
   "metadata": {},
   "outputs": [],
   "source": [
    "def predict_8(merged_8, k):\n",
    "    merged_8 = data[data['IndicatorName']==target_id]\n",
    "    merged_8 =preprocess_df_8(merged_8, k)\n",
    "    \n",
    "    merged_8['CountryName']= labelEncode_arr(merged_8['CountryName'])\n",
    "    merged_8['IndicatorName']= labelEncode_arr(merged_8['IndicatorName'])\n",
    "    merged_8= merged_8.drop(columns=['CountryCode', 'IndicatorCode', 'name'])\n",
    "    \n",
    "    kmeans= KMeans(algorithm='auto', copy_x=True, init='k-means++', max_iter=800, \n",
    "               n_clusters=k, n_init=20, n_jobs=1, precompute_distances='auto', \n",
    "               random_state=None, tol=0.0001, verbose=0)\n",
    "\n",
    "    X= np.array(merged_8.drop(['grade'], 1).astype(float))\n",
    "    y=merged_8['grade']\n",
    "\n",
    "    print('bef', len(X[0]))\n",
    "    kmeans.fit(X)\n",
    "    return calcAccuracy(kmeans, X,y)"
   ]
  },
  {
   "cell_type": "code",
   "execution_count": 138,
   "metadata": {},
   "outputs": [],
   "source": [
    "def predict_7(merged_7, k):\n",
    "    merged_7 = data[data['IndicatorName']==target_id]\n",
    "    merged_7 =preprocess_df_7(merged_7, k)\n",
    "    \n",
    "    merged_7['CountryName']= labelEncode_arr(merged_7['CountryName'])\n",
    "    merged_7['IndicatorName']= labelEncode_arr(merged_7['IndicatorName'])\n",
    "    merged_7= merged_7.drop(columns=['CountryCode', 'IndicatorCode', 'name'])\n",
    "\n",
    "    kmeans= KMeans(algorithm='auto', copy_x=True, init='k-means++', max_iter=800, \n",
    "               n_clusters=k, n_init=20, n_jobs=1, precompute_distances='auto', \n",
    "               random_state=None, tol=0.0001, verbose=0)\n",
    "\n",
    "    X= np.array(merged_7.drop(['grade'], 1).astype(float))\n",
    "    y=merged_7['grade']\n",
    "\n",
    "    kmeans.fit(X)\n",
    "    return calcAccuracy(kmeans, X,y)"
   ]
  },
  {
   "cell_type": "code",
   "execution_count": 139,
   "metadata": {
    "scrolled": true
   },
   "outputs": [
    {
     "name": "stdout",
     "output_type": "stream",
     "text": [
      "bef 10\n",
      "0.5003538570417552\n"
     ]
    }
   ],
   "source": [
    "predict_8(target,5)"
   ]
  },
  {
   "cell_type": "code",
   "execution_count": null,
   "metadata": {},
   "outputs": [
    {
     "name": "stderr",
     "output_type": "stream",
     "text": [
      "c:\\users\\parksoyoung\\appdata\\local\\programs\\python\\python37\\lib\\site-packages\\pandas\\core\\frame.py:4218: SettingWithCopyWarning: \n",
      "A value is trying to be set on a copy of a slice from a DataFrame\n",
      "\n",
      "See the caveats in the documentation: http://pandas.pydata.org/pandas-docs/stable/user_guide/indexing.html#returning-a-view-versus-a-copy\n",
      "  return super().rename(**kwargs)\n"
     ]
    }
   ],
   "source": [
    "predict_7(target,5)"
   ]
  },
  {
   "cell_type": "code",
   "execution_count": 18,
   "metadata": {},
   "outputs": [
    {
     "ename": "NameError",
     "evalue": "name 'X' is not defined",
     "output_type": "error",
     "traceback": [
      "\u001b[1;31m---------------------------------------------------------------------------\u001b[0m",
      "\u001b[1;31mNameError\u001b[0m                                 Traceback (most recent call last)",
      "\u001b[1;32m<ipython-input-18-3ed6bd0f15b8>\u001b[0m in \u001b[0;36m<module>\u001b[1;34m\u001b[0m\n\u001b[0;32m      3\u001b[0m                \u001b[0mn_clusters\u001b[0m\u001b[1;33m=\u001b[0m\u001b[1;36m2\u001b[0m\u001b[1;33m,\u001b[0m \u001b[0mn_init\u001b[0m\u001b[1;33m=\u001b[0m\u001b[1;36m20\u001b[0m\u001b[1;33m,\u001b[0m \u001b[0mn_jobs\u001b[0m\u001b[1;33m=\u001b[0m\u001b[1;36m1\u001b[0m\u001b[1;33m,\u001b[0m \u001b[0mprecompute_distances\u001b[0m\u001b[1;33m=\u001b[0m\u001b[1;34m'auto'\u001b[0m\u001b[1;33m,\u001b[0m\u001b[1;33m\u001b[0m\u001b[1;33m\u001b[0m\u001b[0m\n\u001b[0;32m      4\u001b[0m                random_state=None, tol=0.0001, verbose=0)\n\u001b[1;32m----> 5\u001b[1;33m \u001b[0mkmeans\u001b[0m\u001b[1;33m.\u001b[0m\u001b[0mfit\u001b[0m\u001b[1;33m(\u001b[0m\u001b[0mX\u001b[0m\u001b[1;33m)\u001b[0m\u001b[1;33m\u001b[0m\u001b[1;33m\u001b[0m\u001b[0m\n\u001b[0m\u001b[0;32m      6\u001b[0m \u001b[1;33m\u001b[0m\u001b[0m\n\u001b[0;32m      7\u001b[0m \u001b[0mcalcAccuracy\u001b[0m\u001b[1;33m(\u001b[0m\u001b[0mX\u001b[0m\u001b[1;33m,\u001b[0m\u001b[0my\u001b[0m\u001b[1;33m)\u001b[0m\u001b[1;33m\u001b[0m\u001b[1;33m\u001b[0m\u001b[0m\n",
      "\u001b[1;31mNameError\u001b[0m: name 'X' is not defined"
     ]
    }
   ],
   "source": [
    "### rel_columns_7\n",
    "kmeans= KMeans(algorithm='auto', copy_x=True, init='k-means++', max_iter=800, \n",
    "               n_clusters=2, n_init=20, n_jobs=1, precompute_distances='auto', \n",
    "               random_state=None, tol=0.0001, verbose=0)\n",
    "kmeans.fit(X)\n",
    "\n",
    "calcAccuracy(X,y)"
   ]
  },
  {
   "cell_type": "code",
   "execution_count": null,
   "metadata": {},
   "outputs": [],
   "source": [
    "'''\n",
    "선택지\n",
    "1. rel_columns_8 or 7\n",
    "2. 몇개 미만이면 제외할지\n",
    "3. kmeans parameter\n",
    "'''"
   ]
  },
  {
   "cell_type": "code",
   "execution_count": null,
   "metadata": {},
   "outputs": [],
   "source": []
  }
 ],
 "metadata": {
  "kernelspec": {
   "display_name": "Python 3",
   "language": "python",
   "name": "python3"
  },
  "language_info": {
   "codemirror_mode": {
    "name": "ipython",
    "version": 3
   },
   "file_extension": ".py",
   "mimetype": "text/x-python",
   "name": "python",
   "nbconvert_exporter": "python",
   "pygments_lexer": "ipython3",
   "version": "3.7.4"
  }
 },
 "nbformat": 4,
 "nbformat_minor": 2
}
