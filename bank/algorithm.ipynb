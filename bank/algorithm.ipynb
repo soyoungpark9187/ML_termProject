{
 "cells": [
  {
   "cell_type": "code",
   "execution_count": 1,
   "metadata": {},
   "outputs": [
    {
     "name": "stderr",
     "output_type": "stream",
     "text": [
      "Using TensorFlow backend.\n"
     ]
    }
   ],
   "source": [
    "import numpy as np\n",
    "import pandas as pd\n",
    "import matplotlib.pyplot as plt\n",
    "from sklearn import preprocessing\n",
    "from sklearn.model_selection import train_test_split\n",
    "from sklearn.linear_model import LogisticRegression\n",
    "from sklearn.linear_model import SGDClassifier\n",
    "import sklearn.metrics as metrics\n",
    "%matplotlib inline\n",
    "import warnings\n",
    "warnings.filterwarnings('ignore')\n",
    "from sklearn import svm\n",
    "from sklearn.naive_bayes import GaussianNB\n",
    "from sklearn.datasets import make_classification\n",
    "from sklearn.decomposition import PCA\n",
    "from imblearn.over_sampling import SMOTE\n",
    "from imblearn.under_sampling import *\n",
    "import seaborn as sns\n",
    "from sklearn.model_selection import GridSearchCV\n",
    "from sklearn.metrics import classification_report\n"
   ]
  },
  {
   "cell_type": "code",
   "execution_count": null,
   "metadata": {},
   "outputs": [],
   "source": []
  },
  {
   "cell_type": "code",
   "execution_count": 2,
   "metadata": {},
   "outputs": [
    {
     "data": {
      "text/html": [
       "<div>\n",
       "<style scoped>\n",
       "    .dataframe tbody tr th:only-of-type {\n",
       "        vertical-align: middle;\n",
       "    }\n",
       "\n",
       "    .dataframe tbody tr th {\n",
       "        vertical-align: top;\n",
       "    }\n",
       "\n",
       "    .dataframe thead th {\n",
       "        text-align: right;\n",
       "    }\n",
       "</style>\n",
       "<table border=\"1\" class=\"dataframe\">\n",
       "  <thead>\n",
       "    <tr style=\"text-align: right;\">\n",
       "      <th></th>\n",
       "      <th>age</th>\n",
       "      <th>job</th>\n",
       "      <th>marital</th>\n",
       "      <th>education</th>\n",
       "      <th>default</th>\n",
       "      <th>housing</th>\n",
       "      <th>loan</th>\n",
       "      <th>contact</th>\n",
       "      <th>month</th>\n",
       "      <th>day_of_week</th>\n",
       "      <th>...</th>\n",
       "      <th>campaign</th>\n",
       "      <th>pdays</th>\n",
       "      <th>previous</th>\n",
       "      <th>poutcome</th>\n",
       "      <th>emp.var.rate</th>\n",
       "      <th>cons.price.idx</th>\n",
       "      <th>cons.conf.idx</th>\n",
       "      <th>euribor3m</th>\n",
       "      <th>nr.employed</th>\n",
       "      <th>y</th>\n",
       "    </tr>\n",
       "  </thead>\n",
       "  <tbody>\n",
       "    <tr>\n",
       "      <th>0</th>\n",
       "      <td>56</td>\n",
       "      <td>housemaid</td>\n",
       "      <td>married</td>\n",
       "      <td>basic.4y</td>\n",
       "      <td>no</td>\n",
       "      <td>no</td>\n",
       "      <td>no</td>\n",
       "      <td>telephone</td>\n",
       "      <td>may</td>\n",
       "      <td>mon</td>\n",
       "      <td>...</td>\n",
       "      <td>1</td>\n",
       "      <td>999</td>\n",
       "      <td>0</td>\n",
       "      <td>nonexistent</td>\n",
       "      <td>1.1</td>\n",
       "      <td>93.994</td>\n",
       "      <td>-36.4</td>\n",
       "      <td>4.857</td>\n",
       "      <td>5191.0</td>\n",
       "      <td>no</td>\n",
       "    </tr>\n",
       "    <tr>\n",
       "      <th>1</th>\n",
       "      <td>57</td>\n",
       "      <td>services</td>\n",
       "      <td>married</td>\n",
       "      <td>high.school</td>\n",
       "      <td>unknown</td>\n",
       "      <td>no</td>\n",
       "      <td>no</td>\n",
       "      <td>telephone</td>\n",
       "      <td>may</td>\n",
       "      <td>mon</td>\n",
       "      <td>...</td>\n",
       "      <td>1</td>\n",
       "      <td>999</td>\n",
       "      <td>0</td>\n",
       "      <td>nonexistent</td>\n",
       "      <td>1.1</td>\n",
       "      <td>93.994</td>\n",
       "      <td>-36.4</td>\n",
       "      <td>4.857</td>\n",
       "      <td>5191.0</td>\n",
       "      <td>no</td>\n",
       "    </tr>\n",
       "    <tr>\n",
       "      <th>2</th>\n",
       "      <td>37</td>\n",
       "      <td>services</td>\n",
       "      <td>married</td>\n",
       "      <td>high.school</td>\n",
       "      <td>no</td>\n",
       "      <td>yes</td>\n",
       "      <td>no</td>\n",
       "      <td>telephone</td>\n",
       "      <td>may</td>\n",
       "      <td>mon</td>\n",
       "      <td>...</td>\n",
       "      <td>1</td>\n",
       "      <td>999</td>\n",
       "      <td>0</td>\n",
       "      <td>nonexistent</td>\n",
       "      <td>1.1</td>\n",
       "      <td>93.994</td>\n",
       "      <td>-36.4</td>\n",
       "      <td>4.857</td>\n",
       "      <td>5191.0</td>\n",
       "      <td>no</td>\n",
       "    </tr>\n",
       "    <tr>\n",
       "      <th>3</th>\n",
       "      <td>40</td>\n",
       "      <td>admin.</td>\n",
       "      <td>married</td>\n",
       "      <td>basic.6y</td>\n",
       "      <td>no</td>\n",
       "      <td>no</td>\n",
       "      <td>no</td>\n",
       "      <td>telephone</td>\n",
       "      <td>may</td>\n",
       "      <td>mon</td>\n",
       "      <td>...</td>\n",
       "      <td>1</td>\n",
       "      <td>999</td>\n",
       "      <td>0</td>\n",
       "      <td>nonexistent</td>\n",
       "      <td>1.1</td>\n",
       "      <td>93.994</td>\n",
       "      <td>-36.4</td>\n",
       "      <td>4.857</td>\n",
       "      <td>5191.0</td>\n",
       "      <td>no</td>\n",
       "    </tr>\n",
       "    <tr>\n",
       "      <th>4</th>\n",
       "      <td>56</td>\n",
       "      <td>services</td>\n",
       "      <td>married</td>\n",
       "      <td>high.school</td>\n",
       "      <td>no</td>\n",
       "      <td>no</td>\n",
       "      <td>yes</td>\n",
       "      <td>telephone</td>\n",
       "      <td>may</td>\n",
       "      <td>mon</td>\n",
       "      <td>...</td>\n",
       "      <td>1</td>\n",
       "      <td>999</td>\n",
       "      <td>0</td>\n",
       "      <td>nonexistent</td>\n",
       "      <td>1.1</td>\n",
       "      <td>93.994</td>\n",
       "      <td>-36.4</td>\n",
       "      <td>4.857</td>\n",
       "      <td>5191.0</td>\n",
       "      <td>no</td>\n",
       "    </tr>\n",
       "  </tbody>\n",
       "</table>\n",
       "<p>5 rows × 21 columns</p>\n",
       "</div>"
      ],
      "text/plain": [
       "   age        job  marital    education  default housing loan    contact  \\\n",
       "0   56  housemaid  married     basic.4y       no      no   no  telephone   \n",
       "1   57   services  married  high.school  unknown      no   no  telephone   \n",
       "2   37   services  married  high.school       no     yes   no  telephone   \n",
       "3   40     admin.  married     basic.6y       no      no   no  telephone   \n",
       "4   56   services  married  high.school       no      no  yes  telephone   \n",
       "\n",
       "  month day_of_week  ...  campaign  pdays  previous     poutcome emp.var.rate  \\\n",
       "0   may         mon  ...         1    999         0  nonexistent          1.1   \n",
       "1   may         mon  ...         1    999         0  nonexistent          1.1   \n",
       "2   may         mon  ...         1    999         0  nonexistent          1.1   \n",
       "3   may         mon  ...         1    999         0  nonexistent          1.1   \n",
       "4   may         mon  ...         1    999         0  nonexistent          1.1   \n",
       "\n",
       "   cons.price.idx  cons.conf.idx  euribor3m  nr.employed   y  \n",
       "0          93.994          -36.4      4.857       5191.0  no  \n",
       "1          93.994          -36.4      4.857       5191.0  no  \n",
       "2          93.994          -36.4      4.857       5191.0  no  \n",
       "3          93.994          -36.4      4.857       5191.0  no  \n",
       "4          93.994          -36.4      4.857       5191.0  no  \n",
       "\n",
       "[5 rows x 21 columns]"
      ]
     },
     "execution_count": 2,
     "metadata": {},
     "output_type": "execute_result"
    }
   ],
   "source": [
    "df=pd.read_csv(\"data/bank-additional-full.csv\",sep=\";\")\n",
    "df.head()"
   ]
  },
  {
   "cell_type": "code",
   "execution_count": 3,
   "metadata": {},
   "outputs": [
    {
     "data": {
      "text/plain": [
       "0         no\n",
       "1         no\n",
       "2         no\n",
       "3         no\n",
       "4         no\n",
       "        ... \n",
       "41183    yes\n",
       "41184     no\n",
       "41185     no\n",
       "41186    yes\n",
       "41187     no\n",
       "Name: y, Length: 41188, dtype: object"
      ]
     },
     "execution_count": 3,
     "metadata": {},
     "output_type": "execute_result"
    }
   ],
   "source": [
    "#X랑 y 나누기 \n",
    "y=df['y']\n",
    "X=df.drop(columns=['y'])\n",
    "y"
   ]
  },
  {
   "cell_type": "code",
   "execution_count": 4,
   "metadata": {},
   "outputs": [],
   "source": [
    "#split the dataset into training & testing set\n",
    "def split(X,y,test_size):\n",
    "    x_train,x_test,y_train,y_test=train_test_split(X,y,test_size=test_size,random_state=0)\n",
    "    return x_train, x_test, y_train, y_test"
   ]
  },
  {
   "cell_type": "code",
   "execution_count": 5,
   "metadata": {},
   "outputs": [],
   "source": [
    "#df 중에서 원하는 columns만 one_hot encoding\n",
    "def onehotEncoding(df,columns):\n",
    "    onehot=pd.get_dummies(df, prefix=columns)\n",
    "    return onehot"
   ]
  },
  {
   "cell_type": "code",
   "execution_count": 6,
   "metadata": {},
   "outputs": [],
   "source": [
    "def labelEncoding(df, columns):\n",
    "    \n",
    "    # columns가 y인경우에는 시리즈 형태\n",
    "    if len(columns)==1 and columns==\"y\":\n",
    "        labelX=preprocessing.LabelEncoder()\n",
    "        df=labelX.fit_transform(df)\n",
    "    else:\n",
    "        for i in columns:\n",
    "            labelX=preprocessing.LabelEncoder()\n",
    "            df.loc[:,i]=labelX.fit_transform(df.loc[:,i])\n",
    "    return df"
   ]
  },
  {
   "cell_type": "code",
   "execution_count": 7,
   "metadata": {},
   "outputs": [],
   "source": [
    "#solver: liblinear, lbfgs, sag\n",
    "def runLogistic(x_train,x_test,y_train,y_test,param_gird):\n",
    "    \n",
    "    logistic=LogisticRegression()\n",
    "    grid=GridSearchCV(logistic,param_gird,cv=3,scoring='accuracy')\n",
    "    grid.fit(x_train,y_train)\n",
    "    param=grid.best_params_\n",
    "    \n",
    "    \n",
    "    clf=LogisticRegression(solver=param['solver'],max_iter=param['max_iter'])\n",
    "    clf.fit(x_train,y_train)\n",
    "    score=clf.score(x_test,y_test)\n",
    "    predict=clf.predict(x_test)\n",
    "    print(classification_report(y_test, predict, target_names=['N', 'Y']))\n",
    "    f1=metrics.f1_score(y_test,predict)\n",
    "    \n",
    "    return f1, score"
   ]
  },
  {
   "cell_type": "code",
   "execution_count": 8,
   "metadata": {},
   "outputs": [],
   "source": [
    "#penalty: l1,l2,elasticnet\n",
    "# run SGDClassifier\n",
    "def runSGDClassifier(x_train,x_test,y_train,y_test,loss,max_iter,penalty):\n",
    "    if loss==\"logistic\":\n",
    "        loss=\"log\"\n",
    "    clf=SGDClassifier(loss=loss, penalty=penalty,max_iter=max_iter)\n",
    "    clf.fit(x_train,y_train)\n",
    "    predict=clf.predict(x_test)\n",
    "    score=clf.score(x_test,y_test)\n",
    "    recall=metrics.f1_score(y_test,predict)\n",
    "    return recall, score"
   ]
  },
  {
   "cell_type": "code",
   "execution_count": 9,
   "metadata": {},
   "outputs": [],
   "source": [
    "#kernel \"linear\",\"rbf\",\"sigmoid\",\"poly\"\n",
    "def runSVM(x_train,x_test,y_train,y_test,param_grid):\n",
    "    \n",
    "     \n",
    "    sv=svm.SVC()\n",
    "    grid=GridSearchCV(sv,param_grid,cv=3,scoring='accuracy')\n",
    "    grid.fit(x_train,y_train)\n",
    "    \n",
    "    param=grid.best_params_\n",
    "    clf=svm.SVC(C=param['C'],kernel=param['kernel'],gamma=param['gamma'])\n",
    "    \n",
    "    \n",
    "    \"\"\"\n",
    "    clf=svm.SVC(C=C,kernel=kernel,gamma=gamma)\n",
    "    \"\"\"\n",
    "    clf.fit(x_train,y_train)\n",
    "    score=clf.score(x_test,y_test)\n",
    "    predict=clf.predict(x_test)\n",
    "    print(classification_report(y_test, predict, target_names=['N', 'Y']))\n",
    "    f1=metrics.f1_score(y_test,predict)\n",
    "    return f1, score"
   ]
  },
  {
   "cell_type": "code",
   "execution_count": 10,
   "metadata": {},
   "outputs": [],
   "source": [
    "def runNB(x_train,x_test,y_train,y_test,param_grid):\n",
    "    nb=GaussianNB()\n",
    "    grid=GridSearchCV(nb,param_grid,cv=3,scoring='accuracy')\n",
    "    grid.fit(x_train,y_train)\n",
    "    \n",
    "    param=grid.best_params_\n",
    "    \n",
    "    clf=GaussianNB(var_smoothing=param[\"var_smoothing\"])\n",
    "    clf.fit(x_train,y_train)\n",
    "    score=clf.score(x_test,y_test)\n",
    "    predict=clf.predict(x_test)\n",
    "    print(classification_report(y_test, predict, target_names=['N', 'Y']))\n",
    "    f1=metrics.f1_score(y_test,predict)\n",
    "    return f1, score"
   ]
  },
  {
   "cell_type": "code",
   "execution_count": 11,
   "metadata": {},
   "outputs": [],
   "source": [
    "def randomUnderSampling(X,y):\n",
    "    rus = RandomUnderSampler(random_state=0)\n",
    "    rus.fit(X,y)\n",
    "    X_resampled, y_resampled = rus.fit_resample(X, y)\n",
    "    return X_resampled, y_resampled"
   ]
  },
  {
   "cell_type": "code",
   "execution_count": 12,
   "metadata": {},
   "outputs": [],
   "source": [
    "def randomOverSampling(X,y):\n",
    "    ros = RandomOverSampler(random_state=0)\n",
    "    ros.fit(X, y)\n",
    "    X_resampled, y_resampled = ros.fit_resample(X, y)\n",
    "    return x_resampled, y_resampled"
   ]
  },
  {
   "cell_type": "code",
   "execution_count": 13,
   "metadata": {},
   "outputs": [],
   "source": [
    "#카테고리컬 데이터 뽑는거\n",
    "object_feature = [col for col in X.columns if X[col].dtypes == 'object' ]\n",
    "\n",
    "#카테고릴컬 onehot encoding , 타겟은 라벨 인코딩\n",
    "X=onehotEncoding(X,object_feature)\n",
    "y=labelEncoding(y,\"y\")"
   ]
  },
  {
   "cell_type": "code",
   "execution_count": 41,
   "metadata": {},
   "outputs": [],
   "source": [
    "probs = []\n",
    "f1s = []\n",
    "name = []\n",
    "param_logistic={\"solver\":[\"liblinear\",\"lbfgs\",\"sag\"], \"max_iter\" :[50,100,200]}\n",
    "param_svm={\"kernel\":[\"linear\",\"rbf\",\"sigmoid\"], \"gamma\" :[10,100] ,\"C\":[0.1,1,10]}\n",
    "param_nb={'var_smoothing':np.logspace(0,-9,num=10)}\n",
    "x_train,x_test,y_train,y_test=split(X,y,0.3)"
   ]
  },
  {
   "cell_type": "code",
   "execution_count": 42,
   "metadata": {},
   "outputs": [
    {
     "name": "stdout",
     "output_type": "stream",
     "text": [
      "              precision    recall  f1-score   support\n",
      "\n",
      "           N       0.93      0.97      0.95     10969\n",
      "           Y       0.67      0.41      0.51      1388\n",
      "\n",
      "    accuracy                           0.91     12357\n",
      "   macro avg       0.80      0.69      0.73     12357\n",
      "weighted avg       0.90      0.91      0.90     12357\n",
      "\n",
      "0.511814534106108 0.9113862588006798\n"
     ]
    }
   ],
   "source": [
    "#여기서 먼저일단 accuracy 결과만 보여주고, 너무 높게 나왓다 ,, 그래서 그 f1-score  혹은 recall 보니까 1일때\n",
    "#어쩌구 저쩌구,,, 그래서 샘플링 해서 사용했다! 이러면 될듯\n",
    "f1,accuracy=runLogistic(x_train,x_test,y_train,y_test,param_logistic)\n",
    "print(f1, accuracy)\n"
   ]
  },
  {
   "cell_type": "code",
   "execution_count": 43,
   "metadata": {},
   "outputs": [
    {
     "data": {
      "text/plain": [
       "'\\nf1,accuracy=runSVM(x_train,x_test,y_train,y_test,param_svm)\\nprint(f1, accuracy)\\n'"
      ]
     },
     "execution_count": 43,
     "metadata": {},
     "output_type": "execute_result"
    }
   ],
   "source": [
    "#svm!!\n",
    "\"\"\"\n",
    "f1,accuracy=runSVM(x_train,x_test,y_train,y_test,param_svm)\n",
    "print(f1, accuracy)\n",
    "\"\"\""
   ]
  },
  {
   "cell_type": "code",
   "execution_count": 44,
   "metadata": {},
   "outputs": [
    {
     "name": "stdout",
     "output_type": "stream",
     "text": [
      "              precision    recall  f1-score   support\n",
      "\n",
      "           N       0.93      0.97      0.95     10969\n",
      "           Y       0.62      0.40      0.49      1388\n",
      "\n",
      "    accuracy                           0.90     12357\n",
      "   macro avg       0.77      0.69      0.72     12357\n",
      "weighted avg       0.89      0.90      0.90     12357\n",
      "\n",
      "0.48738033072236736 0.9046694181435624\n"
     ]
    }
   ],
   "source": [
    "f1,accuracy=runNB(x_train,x_test,y_train,y_test,param_nb)\n",
    "\n",
    "print(f1, accuracy)"
   ]
  },
  {
   "cell_type": "code",
   "execution_count": 45,
   "metadata": {},
   "outputs": [
    {
     "name": "stdout",
     "output_type": "stream",
     "text": [
      "              precision    recall  f1-score   support\n",
      "\n",
      "           N       0.88      0.86      0.87      1393\n",
      "           Y       0.86      0.89      0.87      1391\n",
      "\n",
      "    accuracy                           0.87      2784\n",
      "   macro avg       0.87      0.87      0.87      2784\n",
      "weighted avg       0.87      0.87      0.87      2784\n",
      "\n",
      "0.8749557208643288 0.8732040229885057\n"
     ]
    }
   ],
   "source": [
    "x_sam,y_sam=randomUnderSampling(X,y)\n",
    "x_sam_train,x_sam_test,y_sam_train,y_sam_test=split(x_sam,y_sam,0.3)\n",
    "f1,accuracy=runLogistic(x_sam_train,x_sam_test,y_sam_train,y_sam_test,param_logistic)\n",
    "print(f1, accuracy)\n",
    "probs.append(accuracy)\n",
    "f1s.append(f1)\n",
    "name.append('Logistic')"
   ]
  },
  {
   "cell_type": "code",
   "execution_count": 46,
   "metadata": {},
   "outputs": [
    {
     "name": "stdout",
     "output_type": "stream",
     "text": [
      "              precision    recall  f1-score   support\n",
      "\n",
      "           N       0.78      0.88      0.83      1393\n",
      "           Y       0.86      0.75      0.81      1391\n",
      "\n",
      "    accuracy                           0.82      2784\n",
      "   macro avg       0.82      0.82      0.82      2784\n",
      "weighted avg       0.82      0.82      0.82      2784\n",
      "\n",
      "0.805065234075211 0.8175287356321839\n"
     ]
    }
   ],
   "source": [
    "f1,accuracy=runNB(x_sam_train,x_sam_test,y_sam_train,y_sam_test,param_nb)\n",
    "print(f1, accuracy)\n",
    "probs.append(accuracy)\n",
    "f1s.append(f1)\n",
    "name.append('NB')"
   ]
  },
  {
   "cell_type": "code",
   "execution_count": 47,
   "metadata": {},
   "outputs": [
    {
     "data": {
      "text/plain": [
       "'\\nf1,accuracy=runSVM(x_sam_train,x_sam_test,y_sam_train,y_sam_test,param_svm)\\nprint(f1, accuracy)\\n'"
      ]
     },
     "execution_count": 47,
     "metadata": {},
     "output_type": "execute_result"
    }
   ],
   "source": [
    "#svm 일단 주석 처리\n",
    "\"\"\"\n",
    "f1,accuracy=runSVM(x_sam_train,x_sam_test,y_sam_train,y_sam_test,param_svm)\n",
    "print(f1, accuracy)\n",
    "\"\"\""
   ]
  },
  {
   "cell_type": "code",
   "execution_count": 48,
   "metadata": {},
   "outputs": [],
   "source": [
    "# SVM 돌리면 바꿈\n",
    "probs.append(0.5)\n",
    "f1s.append(0.5)\n",
    "name.append('SVM')"
   ]
  },
  {
   "cell_type": "code",
   "execution_count": 49,
   "metadata": {
    "scrolled": true
   },
   "outputs": [
    {
     "name": "stdout",
     "output_type": "stream",
     "text": [
      "(0.5246963562753036, 0.8574896819616412)\n",
      "(0.4043308484203052, 0.7284130452375172)\n",
      "(0.032280701754385965, 0.8884033341425912)\n"
     ]
    }
   ],
   "source": [
    "print(runSGDClassifier(x_train,x_test,y_train,y_test,\"logistic\",5,\"l1\"))\n",
    "print(runSGDClassifier(x_train,x_test,y_train,y_test,\"logistic\",5,\"l2\"))\n",
    "print(runSGDClassifier(x_train,x_test,y_train,y_test,\"logistic\",5,\"elasticnet\"))\n",
    "f1, accuracy = runSGDClassifier(x_train,x_test,y_train,y_test,\"logistic\",5,\"l1\")\n",
    "probs.append(accuracy)\n",
    "f1s.append(f1)\n",
    "name.append('SGD&l1')\n",
    "\n",
    "f1, accuracy = runSGDClassifier(x_train,x_test,y_train,y_test,\"logistic\",5,\"l2\")\n",
    "probs.append(accuracy)\n",
    "f1s.append(f1)\n",
    "name.append('SGD&l2')\n",
    "\n",
    "f1, accuracy = runSGDClassifier(x_train,x_test,y_train,y_test,\"logistic\",5,\"elasticnet\")\n",
    "probs.append(accuracy)\n",
    "f1s.append(f1)\n",
    "name.append('SGD&elastic')"
   ]
  },
  {
   "cell_type": "code",
   "execution_count": 50,
   "metadata": {},
   "outputs": [],
   "source": [
    "sm=SMOTE(ratio=\"auto\",kind=\"regular\")\n",
    "#X_samp, y_samp = TomekLinks(random_state=0).fit_sample(x_train, y_train)\n",
    "X_samp, y_samp = SMOTE(random_state=4).fit_sample(x_train, y_train)"
   ]
  },
  {
   "cell_type": "code",
   "execution_count": 51,
   "metadata": {},
   "outputs": [
    {
     "name": "stdout",
     "output_type": "stream",
     "text": [
      "[0.8732040229885057, 0.8175287356321839, 0.5, 0.9032127539046694, 0.8914785142024764, 0.9058023792182569]\n",
      "[0.8749557208643288, 0.805065234075211, 0.5, 0.5385802469135803, 0.12638436482084692, 0.43930635838150284]\n",
      "['Logistic', 'NB', 'SVM', 'SGD&l1', 'SGD&l2', 'SGD&elastic']\n"
     ]
    }
   ],
   "source": [
    "print(probs)\n",
    "print(f1s)\n",
    "print(name)"
   ]
  },
  {
   "cell_type": "code",
   "execution_count": 52,
   "metadata": {},
   "outputs": [],
   "source": [
    "def barPlot(probs, name):\n",
    "    sns.barplot(name, probs, alpha=0.4)\n",
    "    plt.show()"
   ]
  },
  {
   "cell_type": "code",
   "execution_count": 55,
   "metadata": {},
   "outputs": [
    {
     "data": {
      "image/png": "[encoded data removed]",
      "text/plain": [
       "<Figure size 720x432 with 1 Axes>"
      ]
     },
     "metadata": {
      "needs_background": "light"
     },
     "output_type": "display_data"
    },
    {
     "data": {
      "image/png": "[encoded data removed]",
      "text/plain": [
       "<Figure size 720x432 with 1 Axes>"
      ]
     },
     "metadata": {
      "needs_background": "light"
     },
     "output_type": "display_data"
    }
   ],
   "source": [
    "plt.figure(figsize = (10,6))\n",
    "barPlot(probs, name)\n",
    "plt.figure(figsize = (10,6))\n",
    "barPlot(f1s, name)"
   ]
  },
  {
   "cell_type": "code",
   "execution_count": null,
   "metadata": {},
   "outputs": [],
   "source": []
  }
 ],
 "metadata": {
  "kernelspec": {
   "display_name": "Python 3",
   "language": "python",
   "name": "python3"
  },
  "language_info": {
   "codemirror_mode": {
    "name": "ipython",
    "version": 3
   },
   "file_extension": ".py",
   "mimetype": "text/x-python",
   "name": "python",
   "nbconvert_exporter": "python",
   "pygments_lexer": "ipython3",
   "version": "3.7.4"
  }
 },
 "nbformat": 4,
 "nbformat_minor": 2
}
